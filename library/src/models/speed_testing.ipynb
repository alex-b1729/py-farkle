{
 "cells": [
  {
   "cell_type": "markdown",
   "id": "262c6ff2-3d50-4c5f-a5d9-10e6435836b9",
   "metadata": {},
   "source": [
    "# Speed testing"
   ]
  },
  {
   "cell_type": "code",
   "execution_count": 7,
   "id": "0705c1d8-4cc2-46e8-a27f-4ea4062c7657",
   "metadata": {},
   "outputs": [],
   "source": [
    "import sys\n",
    "sys.path.insert(0, '../../src')\n",
    "\n",
    "import json\n",
    "import random\n",
    "from time import perf_counter\n",
    "import matplotlib.pyplot as plt\n",
    "from collections import defaultdict\n",
    "\n",
    "from farkle.logic import gameobjects as go"
   ]
  },
  {
   "cell_type": "code",
   "execution_count": null,
   "id": "3b6d3aa2-d9bd-4c46-b0c6-36c7cdcc9375",
   "metadata": {},
   "outputs": [],
   "source": []
  },
  {
   "cell_type": "markdown",
   "id": "acdec825-0d3c-4d79-a448-271e1329da18",
   "metadata": {},
   "source": [
    "Baseline `dh.possible_scores()` time. "
   ]
  },
  {
   "cell_type": "code",
   "execution_count": 6,
   "id": "5b50e62a-1b06-45dc-a46a-7024d4c7d66e",
   "metadata": {},
   "outputs": [
    {
     "name": "stdout",
     "output_type": "stream",
     "text": [
      "1000 sims: \n",
      "0.01301 sec avg\n",
      "0.00132, 0.19066, min, max\n"
     ]
    }
   ],
   "source": [
    "t_list = []\n",
    "dh = go.DiceHand()\n",
    "num_sims = 1000\n",
    "\n",
    "for i in range(num_sims):\n",
    "    dh.roll()\n",
    "    t0 = perf_counter()\n",
    "    dh.possible_scores()\n",
    "    t1 = perf_counter()\n",
    "    t_list.append(t1-t0)\n",
    "    \n",
    "mean_t = sum(t_list) / num_sims\n",
    "max_t = max(t_list)\n",
    "min_t = min(t_list)\n",
    "\n",
    "print(f'{num_sims} sims: ')\n",
    "print(f'{round(mean_t, 5)} sec avg')\n",
    "print(f'{round(min_t, 5)}, {round(max_t, 5)}, min, max')\n",
    "plt.hist(t_list)\n",
    "plt.show()"
   ]
  },
  {
   "cell_type": "code",
   "execution_count": 11,
   "id": "b85e6811-ee2d-426a-805e-929c4904a74e",
   "metadata": {},
   "outputs": [
    {
     "data": {
      "image/png": "[encoded data removed]",
      "text/plain": [
       "<Figure size 640x480 with 1 Axes>"
      ]
     },
     "metadata": {},
     "output_type": "display_data"
    }
   ],
   "source": [
    "plt.hist(t_list)\n",
    "plt.show()"
   ]
  },
  {
   "cell_type": "code",
   "execution_count": null,
   "id": "202a8fe5-8b62-4a8d-9f62-fb360cf300b5",
   "metadata": {},
   "outputs": [],
   "source": []
  },
  {
   "cell_type": "code",
   "execution_count": 20,
   "id": "6cac8c38-9c03-423a-9041-bdca106d4405",
   "metadata": {},
   "outputs": [],
   "source": [
    "dice = [1,3,1,2,5]"
   ]
  },
  {
   "cell_type": "code",
   "execution_count": 31,
   "id": "fad3ca62-88fb-4584-9cb0-473d672854c2",
   "metadata": {},
   "outputs": [],
   "source": [
    "scores = ['5', '1', '222', '333', '444', '555', '666', '111']"
   ]
  },
  {
   "cell_type": "code",
   "execution_count": 49,
   "id": "cd1e17dd-e588-47e0-afc7-5e8814a34fe5",
   "metadata": {},
   "outputs": [],
   "source": [
    "scores_dict = {1: {'1': 100, '111': 1000},\n",
    "               2: {'222': 200}, \n",
    "               3: {'333': 300}, \n",
    "               4: {'444': 400},\n",
    "               5: {'5': 50, '555': 500}, \n",
    "               6: {'666': 600}}"
   ]
  },
  {
   "cell_type": "code",
   "execution_count": 41,
   "id": "e7eb4995-adc4-4e33-8cb2-cc7ca08680d4",
   "metadata": {},
   "outputs": [
    {
     "data": {
      "text/plain": [
       "['11', '2', '3', '', '5', '']"
      ]
     },
     "execution_count": 41,
     "metadata": {},
     "output_type": "execute_result"
    }
   ],
   "source": [
    "dice.sort()\n",
    "dice_count = [f'{n}'*dice.count(n) for n in range(1, 7)] # if dice.count(n) != 0}\n",
    "dice_count"
   ]
  },
  {
   "cell_type": "code",
   "execution_count": 53,
   "id": "f17d23d4-e4c3-4105-ba68-3ef85456d479",
   "metadata": {},
   "outputs": [
    {
     "name": "stdout",
     "output_type": "stream",
     "text": [
      "1 in 11\n",
      "\t1 -> score: 100\n",
      "\t11 -> score: 200\n",
      "5 in 5\n",
      "\t5 -> score: 50\n"
     ]
    }
   ],
   "source": [
    "for die_num in range(6):\n",
    "    dc = dice_count[die_num]\n",
    "    for s in scores_dict[die_num+1]:\n",
    "        if s in dc:\n",
    "            print(f'{s} in {dc}')\n",
    "            for c in range(dc.count(s)):\n",
    "                print(f'\\t{s*(c+1)} -> score: {scores_dict[die_num+1][s]*(c+1)}')"
   ]
  },
  {
   "cell_type": "code",
   "execution_count": null,
   "id": "ac57aceb-8d3c-4439-b0d2-1c19a6a07993",
   "metadata": {},
   "outputs": [],
   "source": []
  },
  {
   "cell_type": "code",
   "execution_count": null,
   "id": "40dcbabe-9bd1-4f27-801a-3ae70c14dad4",
   "metadata": {},
   "outputs": [],
   "source": []
  },
  {
   "cell_type": "code",
   "execution_count": 54,
   "id": "f38d7989-b8eb-4fcf-843e-8470a08cf119",
   "metadata": {},
   "outputs": [],
   "source": [
    "dice = [1,1,1,2,5]"
   ]
  },
  {
   "cell_type": "code",
   "execution_count": 55,
   "id": "4443654a-c9df-4ebb-97ef-0c1ad6573093",
   "metadata": {},
   "outputs": [],
   "source": [
    "scores = ['5', '1', '222', '333', '444', '555', '666', '111']"
   ]
  },
  {
   "cell_type": "code",
   "execution_count": 56,
   "id": "906a1999-ec2d-419f-8429-91e0b6214cdd",
   "metadata": {},
   "outputs": [],
   "source": [
    "scores_dict = {1: {'1': 100, '111': 1000},\n",
    "               2: {'222': 200}, \n",
    "               3: {'333': 300}, \n",
    "               4: {'444': 400},\n",
    "               5: {'5': 50, '555': 500}, \n",
    "               6: {'666': 600}}"
   ]
  },
  {
   "cell_type": "code",
   "execution_count": 57,
   "id": "cb409267-448e-450e-8032-8a39e65f3abc",
   "metadata": {},
   "outputs": [
    {
     "data": {
      "text/plain": [
       "['111', '2', '', '', '5', '']"
      ]
     },
     "execution_count": 57,
     "metadata": {},
     "output_type": "execute_result"
    }
   ],
   "source": [
    "dice.sort()\n",
    "dice_count = [f'{n}'*dice.count(n) for n in range(1, 7)] # if dice.count(n) != 0}\n",
    "dice_count"
   ]
  },
  {
   "cell_type": "code",
   "execution_count": 58,
   "id": "77c5d43d-0918-46c1-a8cc-06cd39af62fe",
   "metadata": {},
   "outputs": [
    {
     "name": "stdout",
     "output_type": "stream",
     "text": [
      "1 in 111\n",
      "\t1 -> score: 100\n",
      "\t11 -> score: 200\n",
      "\t111 -> score: 300\n",
      "111 in 111\n",
      "\t111 -> score: 1000\n",
      "5 in 5\n",
      "\t5 -> score: 50\n"
     ]
    }
   ],
   "source": [
    "for die_num in range(6):\n",
    "    dc = dice_count[die_num]\n",
    "    for s in scores_dict[die_num+1]:\n",
    "        if s in dc:\n",
    "            print(f'{s} in {dc}')\n",
    "            for c in range(dc.count(s)):\n",
    "                print(f'\\t{s*(c+1)} -> score: {scores_dict[die_num+1][s]*(c+1)}')"
   ]
  },
  {
   "cell_type": "code",
   "execution_count": null,
   "id": "98f8b453-f868-4550-be59-c30ce9ad46cc",
   "metadata": {},
   "outputs": [],
   "source": []
  }
 ],
 "metadata": {
  "kernelspec": {
   "display_name": "my-venv",
   "language": "python",
   "name": "my-venv"
  },
  "language_info": {
   "codemirror_mode": {
    "name": "ipython",
    "version": 3
   },
   "file_extension": ".py",
   "mimetype": "text/x-python",
   "name": "python",
   "nbconvert_exporter": "python",
   "pygments_lexer": "ipython3",
   "version": "3.10.9"
  }
 },
 "nbformat": 4,
 "nbformat_minor": 5
}
