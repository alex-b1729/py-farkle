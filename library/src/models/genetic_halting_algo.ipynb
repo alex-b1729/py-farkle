{
 "cells": [
  {
   "cell_type": "markdown",
   "id": "fd60f6fd-6adf-4218-85d5-afffe9a36cd6",
   "metadata": {},
   "source": [
    "# Genetic algorithm Farkle player"
   ]
  },
  {
   "cell_type": "markdown",
   "id": "5926c5ac-6bc9-4f7b-9d52-4b044fa7a431",
   "metadata": {},
   "source": [
    "The goal of this player is to maximize their individual score in an infinite game. \n",
    "\n",
    "For any number of dice remaining there should be a cutoff score at which you would no longer be willing to roll and risk your current score. Rather than directly figure out the expected score from rolling any number of dice I'll just write a genetic algo to backout the threshold score at which you should no longer roll. "
   ]
  },
  {
   "cell_type": "code",
   "execution_count": 1,
   "id": "36c2dc52-6160-43d0-ab43-1d4c9be6fd13",
   "metadata": {},
   "outputs": [],
   "source": [
    "import sys\n",
    "sys.path.insert(0, '../../src')\n",
    "\n",
    "import json\n",
    "import random\n",
    "from time import perf_counter\n",
    "from collections import defaultdict\n",
    "\n",
    "from farkle.game.players import Player\n",
    "from farkle.logic import gameobjects as go"
   ]
  },
  {
   "cell_type": "code",
   "execution_count": null,
   "id": "90d5c4a1-1504-4464-b2b9-bce7a87b13c3",
   "metadata": {},
   "outputs": [],
   "source": []
  },
  {
   "cell_type": "code",
   "execution_count": 4,
   "id": "9d728ea2-40be-44b7-80d2-51c8bd5940fd",
   "metadata": {},
   "outputs": [],
   "source": [
    "def unhash_frequencies(hash_to_dh, hash_to_freq):\n",
    "    _possible_score_freq = {}\n",
    "    for d in hash_to_freq:\n",
    "        d_int = int(d)\n",
    "        _possible_score_freq[d_int] = defaultdict(int)\n",
    "        for h, freq in hash_to_freq[d].items():\n",
    "            if hash_to_dh[h] is not None:\n",
    "                dh = go.DiceHand.json_decode(hash_to_dh[h])\n",
    "            else:\n",
    "                dh = None\n",
    "            _possible_score_freq[d_int][dh] = int(freq)\n",
    "    return _possible_score_freq\n",
    "\n",
    "def load_freq(path: str):\n",
    "    with open(path, 'r') as f:\n",
    "        j = json.loads(f.read())\n",
    "\n",
    "    return unhash_frequencies(j['hash_to_dh'], j['hash_to_freq'])"
   ]
  },
  {
   "cell_type": "code",
   "execution_count": 5,
   "id": "7f31826e-071f-4f03-8f28-d6f60824f104",
   "metadata": {},
   "outputs": [],
   "source": [
    "freq_path = '../../../models/possible_score_frequencies.json'\n",
    "possible_score_frequencies = load_freq(freq_path)"
   ]
  },
  {
   "cell_type": "code",
   "execution_count": 6,
   "id": "ffaba82a-7d38-479d-a612-618e76338dfa",
   "metadata": {},
   "outputs": [],
   "source": [
    "def p_farkle(num_dice: int = None):\n",
    "    if num_dice == 0: num_dice = 6\n",
    "    if num_dice is not None:\n",
    "        return possible_score_frequencies[num_dice][None] / 6**num_dice\n",
    "    else:\n",
    "        return {num_dice: possible_score_frequencies[num_dice][None] / 6**num_dice \n",
    "                for num_dice in possible_score_frequencies}"
   ]
  },
  {
   "cell_type": "code",
   "execution_count": 63,
   "id": "1da03819-f4b6-461c-9f2f-03edf61bab94",
   "metadata": {},
   "outputs": [],
   "source": [
    "def weighted_score(dice_left: int, total_score: int):\n",
    "    assert dice_left in range(0, 7) and total_score >= 0\n",
    "    return (1-p_farkle(dice_left)) * (total_score+50)"
   ]
  },
  {
   "cell_type": "code",
   "execution_count": null,
   "id": "5de94a7c-979a-4709-80f8-88d70dfd94c0",
   "metadata": {},
   "outputs": [],
   "source": []
  },
  {
   "cell_type": "code",
   "execution_count": 38,
   "id": "d83684c2-807a-42d4-97dd-d29da6bb4655",
   "metadata": {},
   "outputs": [],
   "source": [
    "class GeneticThresholdScorePlayer(Player):\n",
    "    def __init__(self, name: str, thresholds: dict):\n",
    "        \"\"\"\n",
    "        thresholds : dict\n",
    "            Keys are num dice remaining and values are the thresholds above which \n",
    "            the player will no longer roll again\n",
    "        \"\"\"\n",
    "        super().__init__(name=name)\n",
    "        self.thresholds = thresholds\n",
    "                \n",
    "    def play_dicehand(self, dice_hand: go.DiceHand, game_state: go.GameState) -> go.RollDecision:\n",
    "        \"\"\"\n",
    "        In GameState player ignores everything but dice_hand\n",
    "        \n",
    "        score decision logic:\n",
    "            1. For each possible score determine whether this player will\n",
    "            choose to roll again using the player's total un-weighted score\n",
    "            and the remaining dice. \n",
    "            2. For those where we roll again take the weighted score. For \n",
    "            those where we don't roll again take the unweighted score. \n",
    "            3. Choose the scoring option with the largest score from step 2. \n",
    "            4. Use the re-roll decision from step 1. \n",
    "            \n",
    "        I don't know that this is the best behavior, I actually think it is not\n",
    "        \"\"\"\n",
    "        ps_list = dice_hand.possible_scores()\n",
    "        compare_score = []\n",
    "        roll_again_list = []\n",
    "        for ps in ps_list:\n",
    "            dice_left = len(dice_hand.free_dice) - len(ps.free_dice)\n",
    "            total_score = self.score + dice_hand.score + ps.score\n",
    "            wght_score = weighted_score(dice_left, total_score)\n",
    "            \n",
    "            roll_again = dice_left == 0\n",
    "            if not roll_again: roll_again = total_score < self.thresholds[dice_left]\n",
    "            roll_again_list.append(roll_again)\n",
    "            \n",
    "            if roll_again: compare_score.append(wght_score)\n",
    "            else: compare_score.append(total_score)\n",
    "        \n",
    "        choose_index = compare_score.index(max(compare_score))\n",
    "        choose_ps = ps_list[choose_index]\n",
    "        choose_roll_again = roll_again_list[choose_index]\n",
    "        \n",
    "        post_dice_hand = dice_hand.copy()\n",
    "        post_dice_hand.lock_from_dicehand(choose_ps)\n",
    "        \n",
    "        return go.RollDecision(dice_hand, post_dice_hand, choose_roll_again)"
   ]
  },
  {
   "cell_type": "code",
   "execution_count": 48,
   "id": "22b1b2e9-0e2d-43ab-9cd5-91709f3addbe",
   "metadata": {},
   "outputs": [
    {
     "name": "stdout",
     "output_type": "stream",
     "text": [
      "DiceHand(free=[1], locked=[], score=100)\n",
      "Total score: 100\n",
      "Dice remaining: 5\n",
      "Prob of farkle: 0.07716049382716049\n",
      "Weighted score: 138.42592592592592\n",
      "\n",
      "\n",
      "DiceHand(free=[1, 2, 2, 2], locked=[], score=300)\n",
      "Total score: 300\n",
      "Dice remaining: 2\n",
      "Prob of farkle: 0.4444444444444444\n",
      "Weighted score: 194.44444444444446\n",
      "\n",
      "\n",
      "DiceHand(free=[2, 2, 2], locked=[], score=200)\n",
      "Total score: 200\n",
      "Dice remaining: 3\n",
      "Prob of farkle: 0.2777777777777778\n",
      "Weighted score: 180.55555555555554\n",
      "\n",
      "\n",
      "RollDecision(dicehand_pre=DiceHand(free=[1, 2, 2, 2, 3, 4], locked=[], score=0), dicehand_post=DiceHand(free=[3, 4], locked=[1, 2, 2, 2], score=300), will_roll_again=True)\n"
     ]
    }
   ],
   "source": [
    "# example of behavior I wouldn't do myself\n",
    "# I would take the 1 and leave the 2,2,2 since seems\n",
    "# like a waist of 3 dice that would likely get a better score\n",
    "thresholds = {i+1: 500 + 200 * i for i in range(5)}\n",
    "name = 'gtsp1'\n",
    "gtsp = GeneticThresholdScorePlayer(name=name, thresholds=thresholds)\n",
    "# gtsp.thresholds\n",
    "\n",
    "dh = go.DiceHand(1,2,2,2,4,3)\n",
    "# dh\n",
    "\n",
    "for ps in dh.possible_scores():\n",
    "    ps: go.DiceHand\n",
    "    added_score = ps.score\n",
    "    total_score = dh.score + added_score\n",
    "    dice_left = len(dh.free_dice) - len(ps.free_dice)\n",
    "    print(ps)\n",
    "    print(f'Total score: {total_score}')\n",
    "    print(f'Dice remaining: {dice_left}')\n",
    "    print(f'Prob of farkle: {p_farkle(dice_left)}')\n",
    "    print(f'Weighted score: {(1-p_farkle(dice_left)) * (total_score+50)}')\n",
    "    print('\\n')\n",
    "\n",
    "game_state = go.GameState(scores={name: 0}, \n",
    "                          current_player_name=name, \n",
    "                          dice_hand=dh, \n",
    "                          goal_score=None)\n",
    "# game_state\n",
    "\n",
    "print(gtsp.play_dicehand(dh, game_state))"
   ]
  },
  {
   "cell_type": "code",
   "execution_count": null,
   "id": "9be0caba-3a00-40d6-a87f-af98e2bc4228",
   "metadata": {},
   "outputs": [],
   "source": []
  },
  {
   "cell_type": "code",
   "execution_count": 49,
   "id": "f7f78111-b4ea-4b07-99fb-157ffa3f1362",
   "metadata": {},
   "outputs": [
    {
     "name": "stdout",
     "output_type": "stream",
     "text": [
      "{1: 500, 2: 700, 3: 900, 4: 1100, 5: 1300} \n",
      "\n",
      "DiceHand(free=[1], locked=[], score=100)\n",
      "Total score: 400\n",
      "Dice remaining: 5\n",
      "Prob of farkle: 0.07716049382716049\n",
      "Weighted score: 415.27777777777777\n",
      "\n",
      "\n",
      "DiceHand(free=[1, 2, 2, 2], locked=[], score=300)\n",
      "Total score: 600\n",
      "Dice remaining: 2\n",
      "Prob of farkle: 0.4444444444444444\n",
      "Weighted score: 361.11111111111114\n",
      "\n",
      "\n",
      "DiceHand(free=[2, 2, 2], locked=[], score=200)\n",
      "Total score: 500\n",
      "Dice remaining: 3\n",
      "Prob of farkle: 0.2777777777777778\n",
      "Weighted score: 397.22222222222223\n",
      "\n",
      "\n",
      "RollDecision(dicehand_pre=DiceHand(free=[1, 2, 2, 2, 3, 4], locked=[], score=0), dicehand_post=DiceHand(free=[2, 2, 2, 3, 4], locked=[1], score=100), will_roll_again=True)\n"
     ]
    }
   ],
   "source": [
    "thresholds = {i+1: 500 + 200 * i for i in range(5)}\n",
    "name = 'gtsp1'\n",
    "gtsp = GeneticThresholdScorePlayer(name=name, thresholds=thresholds)\n",
    "gtsp.score = 300  # can change above behaior if change player score\n",
    "print(gtsp.thresholds, '\\n')\n",
    "\n",
    "dh = go.DiceHand(1,2,2,2,4,3)\n",
    "# dh\n",
    "\n",
    "for ps in dh.possible_scores():\n",
    "    ps: go.DiceHand\n",
    "    added_score = ps.score\n",
    "    total_score = dh.score + added_score + gtsp.score\n",
    "    dice_left = len(dh.free_dice) - len(ps.free_dice)\n",
    "    print(ps)\n",
    "    print(f'Total score: {total_score}')\n",
    "    print(f'Dice remaining: {dice_left}')\n",
    "    print(f'Prob of farkle: {p_farkle(dice_left)}')\n",
    "    print(f'Weighted score: {(1-p_farkle(dice_left)) * (total_score+50)}')\n",
    "    print('\\n')\n",
    "\n",
    "game_state = go.GameState(scores={name: 0}, \n",
    "                          current_player_name=name, \n",
    "                          dice_hand=dh, \n",
    "                          goal_score=None)\n",
    "# game_state\n",
    "\n",
    "print(gtsp.play_dicehand(dh, game_state))"
   ]
  },
  {
   "cell_type": "code",
   "execution_count": null,
   "id": "966f81bc-4489-44ba-8b69-b44b06bb515e",
   "metadata": {},
   "outputs": [],
   "source": []
  },
  {
   "cell_type": "code",
   "execution_count": 50,
   "id": "fa9e8111-f7fe-4a06-9e8a-343af02979fa",
   "metadata": {},
   "outputs": [
    {
     "data": {
      "text/plain": [
       "155"
      ]
     },
     "execution_count": 50,
     "metadata": {},
     "output_type": "execute_result"
    }
   ],
   "source": [
    "random.randrange(100, 200)"
   ]
  },
  {
   "cell_type": "code",
   "execution_count": 64,
   "id": "b2031c7a-e3cb-4d43-bec0-4c5489bd84aa",
   "metadata": {},
   "outputs": [],
   "source": [
    "num_epochs = 10\n",
    "num_player_turns = 10\n",
    "num_players = 10\n",
    "\n",
    "thresholds = {i+1: 500 + 200 * i for i in range(5)}\n",
    "player_threshold_points_range_start = 70\n",
    "# player_threshold_points_range_end = \n",
    "\n",
    "# players\n",
    "\n",
    "for epoch_idx in range(num_epochs):\n",
    "    # init players for this epoch\n",
    "    player_threshold_points_range = 70\n",
    "    player_thresholds = [{d: random.randrange(t-player_threshold_points_range, \n",
    "                                              t+player_threshold_points_range)\n",
    "                          for d, t in thresholds.items()}\n",
    "                         for p in range(num_players)]\n",
    "    players = [GeneticThresholdScorePlayer(name=f'gtsp{p}', thresholds=player_thresholds[p])\n",
    "               for p in range(num_players)]\n",
    "    \n",
    "    for player in players:\n",
    "        # init this players dicehand and this gamestate\n",
    "        dh = go.DiceHand()\n",
    "        game_state_pre = go.GameState(scores={player.name: player.score}, \n",
    "                                      current_player_name=player.name, \n",
    "                                      dice_hand=dh, \n",
    "                                      goal_score=None)\n",
    "        for turn_idx in range(num_player_turns):\n",
    "            dh.reset_dice()\n",
    "            farkled = False\n",
    "            will_roll_again = True\n",
    "\n",
    "            while will_roll_again and not farkled:\n",
    "                # if player has hot dice and can re-roll all\n",
    "                if dh.all_locked:\n",
    "                    dh.roll_all_dice()\n",
    "                else:\n",
    "                    dh.roll()\n",
    "                farkled = dh.farkled\n",
    "\n",
    "                # gen current state before player makes roll decision\n",
    "                game_state = go.GameState(game_state_pre.scores,\n",
    "                                          player.name,\n",
    "                                          dh,\n",
    "                                          game_state_pre.goal_score)\n",
    "\n",
    "                if not farkled:\n",
    "                    roll_decision = player.play_dicehand(dh, game_state)\n",
    "                    dh = roll_decision.dicehand_post\n",
    "                    will_roll_again = roll_decision.will_roll_again\n",
    "\n",
    "            points_earned = dh.score if not farkled else 0\n",
    "            player.score += points_earned\n",
    "            "
   ]
  },
  {
   "cell_type": "code",
   "execution_count": 66,
   "id": "a1095bec-227c-4ba9-a206-65a2c2717913",
   "metadata": {},
   "outputs": [
    {
     "data": {
      "text/plain": [
       "[gtsp0: 1750 points,\n",
       " gtsp1: 3600 points,\n",
       " gtsp2: 2950 points,\n",
       " gtsp3: 5200 points,\n",
       " gtsp4: 3500 points,\n",
       " gtsp5: 2550 points,\n",
       " gtsp6: 2950 points,\n",
       " gtsp7: 4350 points,\n",
       " gtsp8: 2850 points,\n",
       " gtsp9: 2650 points]"
      ]
     },
     "execution_count": 66,
     "metadata": {},
     "output_type": "execute_result"
    }
   ],
   "source": [
    "players"
   ]
  },
  {
   "cell_type": "code",
   "execution_count": 68,
   "id": "b2874b9a-a00c-4ef2-948b-1a2eae37756b",
   "metadata": {},
   "outputs": [
    {
     "data": {
      "text/plain": [
       "{1: 444, 2: 702, 3: 908, 4: 1147, 5: 1240}"
      ]
     },
     "execution_count": 68,
     "metadata": {},
     "output_type": "execute_result"
    }
   ],
   "source": [
    "players[3].thresholds"
   ]
  },
  {
   "cell_type": "code",
   "execution_count": null,
   "id": "00d8cc65-48ce-4cdb-9e19-09a926da7a7e",
   "metadata": {},
   "outputs": [],
   "source": []
  },
  {
   "cell_type": "code",
   "execution_count": null,
   "id": "e0dd5bc3-c2e4-429b-80a2-8d6eebfbc49f",
   "metadata": {},
   "outputs": [],
   "source": []
  }
 ],
 "metadata": {
  "kernelspec": {
   "display_name": "my-venv",
   "language": "python",
   "name": "my-venv"
  },
  "language_info": {
   "codemirror_mode": {
    "name": "ipython",
    "version": 3
   },
   "file_extension": ".py",
   "mimetype": "text/x-python",
   "name": "python",
   "nbconvert_exporter": "python",
   "pygments_lexer": "ipython3",
   "version": "3.10.9"
  }
 },
 "nbformat": 4,
 "nbformat_minor": 5
}
