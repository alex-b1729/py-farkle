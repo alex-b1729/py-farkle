{
 "cells": [
  {
   "cell_type": "markdown",
   "id": "fd60f6fd-6adf-4218-85d5-afffe9a36cd6",
   "metadata": {},
   "source": [
    "# Genetic algorithm Farkle player"
   ]
  },
  {
   "cell_type": "markdown",
   "id": "5926c5ac-6bc9-4f7b-9d52-4b044fa7a431",
   "metadata": {},
   "source": [
    "The goal of this player is to maximize their individual score in an infinite game. \n",
    "\n",
    "For any number of dice remaining there should be a cutoff score at which you would no longer be willing to roll and risk yout current score. Rather than directly figure out the expected score from rolling any number of dice I'll just write a genetic algo to backout the threshold score at which you should no longer roll. "
   ]
  },
  {
   "cell_type": "code",
   "execution_count": 4,
   "id": "36c2dc52-6160-43d0-ab43-1d4c9be6fd13",
   "metadata": {},
   "outputs": [],
   "source": [
    "import sys\n",
    "sys.path.insert(0, '../../src')\n",
    "\n",
    "import json\n",
    "import random\n",
    "from time import perf_counter\n",
    "from collections import defaultdict\n",
    "\n",
    "from farkle.logic import gameobjects as go\n",
    "from farkle.game.players import Player"
   ]
  },
  {
   "cell_type": "code",
   "execution_count": null,
   "id": "90d5c4a1-1504-4464-b2b9-bce7a87b13c3",
   "metadata": {},
   "outputs": [],
   "source": []
  },
  {
   "cell_type": "code",
   "execution_count": null,
   "id": "d83684c2-807a-42d4-97dd-d29da6bb4655",
   "metadata": {},
   "outputs": [],
   "source": [
    "class GeneticThresholdScorePlayer(Player):\n",
    "    def __init__(self, name: str, num_dice: int, threshold: int):\n",
    "        \"\"\"\n",
    "        num_dice : int \n",
    "            When this number of dice is remaining\n",
    "        super().__init__(name=name)\n",
    "        "
   ]
  },
  {
   "cell_type": "code",
   "execution_count": null,
   "id": "d06dbfb0-5f9f-4d46-9344-7f8d73360144",
   "metadata": {},
   "outputs": [],
   "source": []
  },
  {
   "cell_type": "code",
   "execution_count": null,
   "id": "2aef2e92-d333-4e66-98f9-7eebfc1d59cd",
   "metadata": {},
   "outputs": [],
   "source": []
  },
  {
   "cell_type": "code",
   "execution_count": null,
   "id": "7b7bd066-23f9-4991-9343-a2e99876a7bb",
   "metadata": {},
   "outputs": [],
   "source": []
  },
  {
   "cell_type": "code",
   "execution_count": null,
   "id": "9be0caba-3a00-40d6-a87f-af98e2bc4228",
   "metadata": {},
   "outputs": [],
   "source": []
  }
 ],
 "metadata": {
  "kernelspec": {
   "display_name": "my-venv",
   "language": "python",
   "name": "my-venv"
  },
  "language_info": {
   "codemirror_mode": {
    "name": "ipython",
    "version": 3
   },
   "file_extension": ".py",
   "mimetype": "text/x-python",
   "name": "python",
   "nbconvert_exporter": "python",
   "pygments_lexer": "ipython3",
   "version": "3.10.9"
  }
 },
 "nbformat": 4,
 "nbformat_minor": 5
}
