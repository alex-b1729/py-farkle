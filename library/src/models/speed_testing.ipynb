{
 "cells": [
  {
   "cell_type": "markdown",
   "id": "262c6ff2-3d50-4c5f-a5d9-10e6435836b9",
   "metadata": {},
   "source": [
    "# Speed testing"
   ]
  },
  {
   "cell_type": "code",
   "execution_count": 3,
   "id": "0705c1d8-4cc2-46e8-a27f-4ea4062c7657",
   "metadata": {},
   "outputs": [],
   "source": [
    "import sys\n",
    "sys.path.insert(0, '../../src')\n",
    "\n",
    "import json\n",
    "import random\n",
    "import numpy as np\n",
    "from time import perf_counter\n",
    "import matplotlib.pyplot as plt\n",
    "from collections import defaultdict\n",
    "\n",
    "from farkle.logic import gameobjects as go"
   ]
  },
  {
   "cell_type": "code",
   "execution_count": null,
   "id": "3b6d3aa2-d9bd-4c46-b0c6-36c7cdcc9375",
   "metadata": {},
   "outputs": [],
   "source": []
  },
  {
   "cell_type": "markdown",
   "id": "acdec825-0d3c-4d79-a448-271e1329da18",
   "metadata": {},
   "source": [
    "Baseline `dh.possible_scores()` time. "
   ]
  },
  {
   "cell_type": "code",
   "execution_count": 2,
   "id": "5b50e62a-1b06-45dc-a46a-7024d4c7d66e",
   "metadata": {},
   "outputs": [
    {
     "name": "stdout",
     "output_type": "stream",
     "text": [
      "1000 sims: \n",
      "0.01293 sec avg\n",
      "0.00131, 0.18565, min, max\n"
     ]
    },
    {
     "data": {
      "image/png": "[encoded data removed]",
      "text/plain": [
       "<Figure size 640x480 with 1 Axes>"
      ]
     },
     "metadata": {},
     "output_type": "display_data"
    }
   ],
   "source": [
    "t_list = []\n",
    "dh = go.DiceHand()\n",
    "num_sims = 1000\n",
    "\n",
    "for i in range(num_sims):\n",
    "    dh.roll()\n",
    "    t0 = perf_counter()\n",
    "    dh.possible_scores()\n",
    "    t1 = perf_counter()\n",
    "    t_list.append(t1-t0)\n",
    "    \n",
    "mean_t = sum(t_list) / num_sims\n",
    "max_t = max(t_list)\n",
    "min_t = min(t_list)\n",
    "\n",
    "print(f'{num_sims} sims: ')\n",
    "print(f'{round(mean_t, 5)} sec avg')\n",
    "print(f'{round(min_t, 5)}, {round(max_t, 5)}, min, max')\n",
    "plt.hist(t_list)\n",
    "plt.show()"
   ]
  },
  {
   "cell_type": "code",
   "execution_count": null,
   "id": "202a8fe5-8b62-4a8d-9f62-fb360cf300b5",
   "metadata": {},
   "outputs": [],
   "source": []
  },
  {
   "cell_type": "markdown",
   "id": "bbf8a402-dcf9-495b-97dc-4cd4dbf8d715",
   "metadata": {},
   "source": [
    "Baseline `DiceHand.roll()` time. "
   ]
  },
  {
   "cell_type": "code",
   "execution_count": 29,
   "id": "20684b23-73bc-4d9e-bce7-800569c1edb6",
   "metadata": {},
   "outputs": [
    {
     "name": "stdout",
     "output_type": "stream",
     "text": [
      "1000 sims: \n",
      "7.5e-06 sec avg\n",
      "6.3e-06, 0.0003863, min, max\n"
     ]
    },
    {
     "data": {
      "image/png": "[encoded data removed]",
      "text/plain": [
       "<Figure size 640x480 with 1 Axes>"
      ]
     },
     "metadata": {},
     "output_type": "display_data"
    }
   ],
   "source": [
    "t_list = []\n",
    "dh = go.DiceHand()\n",
    "num_sims = 1000\n",
    "\n",
    "for i in range(num_sims):\n",
    "    t0 = perf_counter()\n",
    "    dh.roll()\n",
    "    t1 = perf_counter()\n",
    "    t_list.append(t1-t0)\n",
    "    \n",
    "mean_t = sum(t_list) / num_sims\n",
    "max_t = max(t_list)\n",
    "min_t = min(t_list)\n",
    "\n",
    "print(f'{num_sims} sims: ')\n",
    "print(f'{round(mean_t, 7)} sec avg')\n",
    "print(f'{round(min_t, 7)}, {round(max_t, 7)}, min, max')\n",
    "plt.hist(t_list)\n",
    "plt.show()"
   ]
  },
  {
   "cell_type": "code",
   "execution_count": null,
   "id": "07717d6a-e5df-4594-9f0e-65480d8c9666",
   "metadata": {},
   "outputs": [],
   "source": []
  },
  {
   "cell_type": "code",
   "execution_count": null,
   "id": "b1792f45-dc06-4bb5-a1ed-85bf43e19a40",
   "metadata": {},
   "outputs": [],
   "source": []
  },
  {
   "cell_type": "code",
   "execution_count": 4,
   "id": "f38d7989-b8eb-4fcf-843e-8470a08cf119",
   "metadata": {},
   "outputs": [
    {
     "data": {
      "text/plain": [
       "'11125'"
      ]
     },
     "execution_count": 4,
     "metadata": {},
     "output_type": "execute_result"
    }
   ],
   "source": [
    "dice = [1,1,2,1,5]\n",
    "dice.sort()\n",
    "dice = ''.join([str(d) for d in dice])\n",
    "dice"
   ]
  },
  {
   "cell_type": "code",
   "execution_count": 5,
   "id": "4443654a-c9df-4ebb-97ef-0c1ad6573093",
   "metadata": {},
   "outputs": [],
   "source": [
    "scores = ['5', '1', '222', '333', '444', '555', '666', '111']"
   ]
  },
  {
   "cell_type": "code",
   "execution_count": 6,
   "id": "906a1999-ec2d-419f-8429-91e0b6214cdd",
   "metadata": {},
   "outputs": [],
   "source": [
    "scores_dict = {1: {'1': 100, '111': 1000},\n",
    "               2: {'222': 200}, \n",
    "               3: {'333': 300}, \n",
    "               4: {'444': 400},\n",
    "               5: {'5': 50, '555': 500}, \n",
    "               6: {'666': 600}}"
   ]
  },
  {
   "cell_type": "code",
   "execution_count": 7,
   "id": "cb409267-448e-450e-8032-8a39e65f3abc",
   "metadata": {},
   "outputs": [
    {
     "data": {
      "text/plain": [
       "['111', '2', '', '', '5', '']"
      ]
     },
     "execution_count": 7,
     "metadata": {},
     "output_type": "execute_result"
    }
   ],
   "source": [
    "dice_count = [f'{n}'*dice.count(str(n)) for n in range(1, 7)] # if dice.count(n) != 0}\n",
    "dice_count"
   ]
  },
  {
   "cell_type": "code",
   "execution_count": 8,
   "id": "77c5d43d-0918-46c1-a8cc-06cd39af62fe",
   "metadata": {},
   "outputs": [
    {
     "name": "stdout",
     "output_type": "stream",
     "text": [
      "1 in 111\n",
      "\t1 -> score: 100\n",
      "\t11 -> score: 200\n",
      "\t111 -> score: 300\n",
      "111 in 111\n",
      "\t111 -> score: 1000\n",
      "5 in 5\n",
      "\t5 -> score: 50\n"
     ]
    }
   ],
   "source": [
    "for die_num in range(6):\n",
    "    dc = dice_count[die_num]\n",
    "    for s in scores_dict[die_num+1]:\n",
    "        if s in dc:\n",
    "            print(f'{s} in {dc}')\n",
    "            for c in range(dc.count(s)):\n",
    "                print(f'\\t{s*(c+1)} -> score: {scores_dict[die_num+1][s]*(c+1)}')"
   ]
  },
  {
   "cell_type": "code",
   "execution_count": null,
   "id": "f1b1aa52-dd18-4e36-a387-835e3bcfb3aa",
   "metadata": {},
   "outputs": [],
   "source": []
  },
  {
   "cell_type": "code",
   "execution_count": null,
   "id": "f8936aae-d51f-4dcb-bfb9-dcecd1c06aed",
   "metadata": {},
   "outputs": [],
   "source": []
  },
  {
   "cell_type": "code",
   "execution_count": 15,
   "id": "db55c5ab-630d-4bed-b904-8d465cc9674f",
   "metadata": {},
   "outputs": [],
   "source": [
    "scores_dict = {1: {1: 100, 3: 1000},\n",
    "               2: {3: 200}, \n",
    "               3: {3: 300}, \n",
    "               4: {3: 400},\n",
    "               5: {1: 50, 3: 500}, \n",
    "               6: {3: 600}}"
   ]
  },
  {
   "cell_type": "code",
   "execution_count": 32,
   "id": "6f2a2153-716b-41c7-bcb0-7894ecd102cf",
   "metadata": {},
   "outputs": [],
   "source": [
    "dice = [1,1,2,1,5] # orig\n",
    "# dice = [1,1,3,4,6]\n",
    "dice_count_list = np.array([dice.count(n) for n in range(1, 7)])"
   ]
  },
  {
   "cell_type": "code",
   "execution_count": 38,
   "id": "a417f046-59ee-4252-bc71-52763c51b394",
   "metadata": {},
   "outputs": [],
   "source": [
    "# find 1st score possiblility\n",
    "# recursively call with remaining_dice_count_list\n",
    "# return 1st score possibility on its own\n",
    "# return result of recursion\n",
    "# and return both together\n",
    "def yield_possible_scores(dice_count_list: list[int]) -> tuple[list, list]:\n",
    "    # print(f'init {dice_count_list}')\n",
    "    return_ps_list = []\n",
    "    return_score_list = []\n",
    "    for die_idx in range(6):\n",
    "        dc = dice_count_list[die_idx]\n",
    "        # print(dc)\n",
    "        # print(min(scores_dict[die_idx+1].keys()))\n",
    "        # if dc != 0:\n",
    "        # if dc in scores_dict[die_idx+1]:\n",
    "        if dc >= min(scores_dict[die_idx+1].keys()):\n",
    "            this_ps_list = []\n",
    "            this_score_list = []\n",
    "            # print(f'init{dice_count_list}\\t{die_idx+1} in {dice_count_list} {dc} times')\n",
    "            for dice_score_count in scores_dict[die_idx+1]:\n",
    "                if dc >= dice_score_count:\n",
    "                    this_ps = np.array([0 for _ in range(6)])\n",
    "                    # print(f'init{dice_count_list}\\tD{die_idx+1} {dc}x can score toward {dice_score_count}')\n",
    "                    this_score = scores_dict[die_idx+1][dice_score_count]\n",
    "                    # this_score_list.append(this_score)\n",
    "                    this_ps[die_idx] = dice_score_count\n",
    "                    # this_ps_list.append(this_ps)\n",
    "                    # print(f'init{dice_count_list}\\tthis_score: {this_score}, this_ps: {this_ps}')\n",
    "                    remaining_count = dc - dice_score_count\n",
    "                    # print(f'\\tD{die_idx+1} {dice_score_count}x is {this_score} points and ', end='')\n",
    "                    # print(f'{remaining_count} D{die_idx+1} left')\n",
    "                    # remaining_dice_count_list = dice_count_list[:]  # somehow doesn't deep copy? \n",
    "                    remaining_dice_count_list = [i for i in dice_count_list]\n",
    "                    remaining_dice_count_list[die_idx] = remaining_count\n",
    "                    # print(f'init{dice_count_list}\\t{remaining_dice_count_list} left, began with {dice_count_list}\\n')\n",
    "\n",
    "                    remaining_ps_list, remaining_score_list = yield_possible_scores(remaining_dice_count_list)\n",
    "                    \n",
    "                    # print(f'init{dice_count_list}\\tremaining{remaining_ps_list}, scores{remaining_score_list}')\n",
    "                    \n",
    "                    combined_ps_list = [this_ps + r_ps for r_ps in remaining_ps_list]\n",
    "                    combined_score_list = [this_score + s for s in remaining_score_list]\n",
    "                    \n",
    "#                     return_remaining_ps_list = [r_ps for r_ps in remaining_ps_list if not np.all(r_ps == this_ps)]\n",
    "                    \n",
    "#                     combined_ps_list = [this_ps] + return_remaining_ps_list + combined_ps_list\n",
    "                    combined_ps_list = [this_ps] + remaining_ps_list + combined_ps_list\n",
    "                    # combined_score_list = [this_score] + [r_s for idx, r_s in enumerate(remaining_score_list) if not np.all(remaining_ps_list[idx] == this_ps)] + combined_score_list\n",
    "                    combined_score_list = [this_score] + remaining_score_list + combined_score_list\n",
    "                    \n",
    "                    this_ps_list += combined_ps_list\n",
    "                    this_score_list += combined_score_list\n",
    "        # else:\n",
    "        #     print('wtf')\n",
    "                    \n",
    "            return_ps_list += this_ps_list\n",
    "            return_score_list += this_score_list\n",
    "            # print(f'exit{dice_count_list}-------\\n')\n",
    "            return return_ps_list, return_score_list\n",
    "                    # return_ps = [list(this_ps)] + [list(a) for a in remaining_ps_list] + [list(a) for a in combined_ps_list]\n",
    "                    # return_score = [this_score] + remaining_score_list + combined_score_list\n",
    "                    # return return_ps, return_score\n",
    "    # print(f'exit{dice_count_list}-------\\n')\n",
    "    return [], []\n",
    "    # return return_ps_list, return_score_list # this_ps_list, this_score_list\n",
    "    \n",
    "def possible_scores(dice_count_list: list) -> set[str]:\n",
    "    ps, s = yield_possible_scores(dice_count_list)\n",
    "    return {''.join(dice.astype(str)) + str(score) for dice, score in list(zip(ps, s))}"
   ]
  },
  {
   "cell_type": "code",
   "execution_count": 35,
   "id": "af039f35-6f1b-4149-9960-2df6f4f1133c",
   "metadata": {},
   "outputs": [
    {
     "data": {
      "text/plain": [
       "array(['1', '2', '3'], dtype='<U21')"
      ]
     },
     "execution_count": 35,
     "metadata": {},
     "output_type": "execute_result"
    }
   ],
   "source": [
    "np.array([1,2,3]).astype(str)"
   ]
  },
  {
   "cell_type": "code",
   "execution_count": 36,
   "id": "413eb893-aac4-4bc0-b469-bb91b3f5e3ab",
   "metadata": {},
   "outputs": [
    {
     "data": {
      "text/plain": [
       "{'00001050',\n",
       " '100000100',\n",
       " '100010150',\n",
       " '200000200',\n",
       " '200010250',\n",
       " '3000001000',\n",
       " '300000300',\n",
       " '3000101050',\n",
       " '300010350'}"
      ]
     },
     "execution_count": 36,
     "metadata": {},
     "output_type": "execute_result"
    }
   ],
   "source": [
    "{''.join(dice.astype(str)) + str(score) for dice, score in list(zip(ps, s))}"
   ]
  },
  {
   "cell_type": "code",
   "execution_count": 49,
   "id": "967a65bc-b2ae-47ea-b0cf-dacf19aa8aba",
   "metadata": {},
   "outputs": [
    {
     "name": "stdout",
     "output_type": "stream",
     "text": [
      "100000 sims: \n",
      "7.621e-05 sec avg\n",
      "4.86e-06, 0.10865828, min, max\n"
     ]
    },
    {
     "data": {
      "image/png": "[encoded data removed]",
      "text/plain": [
       "<Figure size 640x480 with 1 Axes>"
      ]
     },
     "metadata": {},
     "output_type": "display_data"
    }
   ],
   "source": [
    "t_list = []\n",
    "dh = go.DiceHand()\n",
    "num_sims = 100000\n",
    "\n",
    "for i in range(num_sims):\n",
    "    dh.roll()\n",
    "    dice_count_list = np.array([dh.dice_values().count(n) for n in range(1, 7)])\n",
    "    t0 = perf_counter()\n",
    "    # dh.possible_scores()\n",
    "    ps_set = possible_scores(dice_count_list)\n",
    "    # [[''.split(ps[:5]), int(ps[5:])] for ps in ps_set]\n",
    "    t1 = perf_counter()\n",
    "    t_list.append(t1-t0)\n",
    "    \n",
    "mean_t = sum(t_list) / num_sims\n",
    "max_t = max(t_list)\n",
    "min_t = min(t_list)\n",
    "\n",
    "print(f'{num_sims} sims: ')\n",
    "print(f'{round(mean_t, 8)} sec avg')\n",
    "print(f'{round(min_t, 8)}, {round(max_t, 8)}, min, max')\n",
    "plt.hist(t_list)\n",
    "plt.show()"
   ]
  },
  {
   "cell_type": "markdown",
   "id": "3f0cde13-977d-4e06-a5bf-1653f563ddd7",
   "metadata": {},
   "source": [
    "Way friken faster than with `DiceHand.possible_scores()`"
   ]
  },
  {
   "cell_type": "code",
   "execution_count": null,
   "id": "206634ce-5412-4a85-8534-e16bf879c1e7",
   "metadata": {},
   "outputs": [],
   "source": []
  },
  {
   "cell_type": "markdown",
   "id": "8e2e84ed-298e-4b8b-9b11-5920b66e2696",
   "metadata": {},
   "source": [
    "Split apart `ps_set` values"
   ]
  },
  {
   "cell_type": "code",
   "execution_count": 50,
   "id": "8bb66e72-5e52-454c-9269-78655b1ee3e3",
   "metadata": {},
   "outputs": [
    {
     "name": "stdout",
     "output_type": "stream",
     "text": [
      "100000 sims: \n",
      "8.071e-05 sec avg\n",
      "5.13e-06, 0.01806954, min, max\n"
     ]
    },
    {
     "data": {
      "image/png": "[encoded data removed]",
      "text/plain": [
       "<Figure size 640x480 with 1 Axes>"
      ]
     },
     "metadata": {},
     "output_type": "display_data"
    }
   ],
   "source": [
    "t_list = []\n",
    "dh = go.DiceHand()\n",
    "num_sims = 100000\n",
    "\n",
    "for i in range(num_sims):\n",
    "    dh.roll()\n",
    "    dice_count_list = np.array([dh.dice_values().count(n) for n in range(1, 7)])\n",
    "    t0 = perf_counter()\n",
    "    # dh.possible_scores()\n",
    "    ps_set = possible_scores(dice_count_list)\n",
    "    [[''.split(ps[:5]), int(ps[5:])] for ps in ps_set]\n",
    "    t1 = perf_counter()\n",
    "    t_list.append(t1-t0)\n",
    "    \n",
    "mean_t = sum(t_list) / num_sims\n",
    "max_t = max(t_list)\n",
    "min_t = min(t_list)\n",
    "\n",
    "print(f'{num_sims} sims: ')\n",
    "print(f'{round(mean_t, 8)} sec avg')\n",
    "print(f'{round(min_t, 8)}, {round(max_t, 8)}, min, max')\n",
    "plt.hist(t_list)\n",
    "plt.show()"
   ]
  },
  {
   "cell_type": "markdown",
   "id": "59d75ddf-3822-4623-a039-4a12376fe13c",
   "metadata": {},
   "source": [
    "Increases time by a touch but not relative to original `DiceHand` calc"
   ]
  },
  {
   "cell_type": "code",
   "execution_count": null,
   "id": "993ffd9e-6760-4ef7-9dfd-1385b613182a",
   "metadata": {},
   "outputs": [],
   "source": []
  },
  {
   "cell_type": "code",
   "execution_count": 44,
   "id": "647c6abb-4324-49aa-9178-1b143eb46271",
   "metadata": {},
   "outputs": [
    {
     "data": {
      "text/plain": [
       "'12345'"
      ]
     },
     "execution_count": 44,
     "metadata": {},
     "output_type": "execute_result"
    }
   ],
   "source": [
    "'1234500'[:5]"
   ]
  },
  {
   "cell_type": "code",
   "execution_count": 39,
   "id": "8d929551-a9b8-48ca-926e-814e43260677",
   "metadata": {},
   "outputs": [],
   "source": [
    "ps = possible_scores(dice_count_list)"
   ]
  },
  {
   "cell_type": "code",
   "execution_count": 40,
   "id": "de49b5a3-67e7-4ed8-a934-081b27e02067",
   "metadata": {},
   "outputs": [
    {
     "data": {
      "text/plain": [
       "{'00001050',\n",
       " '100000100',\n",
       " '100010150',\n",
       " '200000200',\n",
       " '200010250',\n",
       " '3000001000',\n",
       " '300000300',\n",
       " '3000101050',\n",
       " '300010350'}"
      ]
     },
     "execution_count": 40,
     "metadata": {},
     "output_type": "execute_result"
    }
   ],
   "source": [
    "ps"
   ]
  },
  {
   "cell_type": "code",
   "execution_count": null,
   "id": "fdc84254-5e5e-4fee-98a6-3447e5411cba",
   "metadata": {},
   "outputs": [],
   "source": []
  },
  {
   "cell_type": "code",
   "execution_count": 81,
   "id": "c1d32eab-b5ad-48e6-8b61-d1315bcfcfd9",
   "metadata": {},
   "outputs": [
    {
     "data": {
      "text/plain": [
       "array([[2, 4, 6],\n",
       "       [5, 7, 9]])"
      ]
     },
     "execution_count": 82,
     "metadata": {},
     "output_type": "execute_result"
    }
   ],
   "source": [
    "[np.array([1,2,3])] + np.array([[1,2,3],[4,5,6]])"
   ]
  },
  {
   "cell_type": "code",
   "execution_count": 23,
   "id": "569b019c-9441-46ba-9283-e594e2bdd434",
   "metadata": {},
   "outputs": [
    {
     "data": {
      "text/plain": [
       "1"
      ]
     },
     "execution_count": 23,
     "metadata": {},
     "output_type": "execute_result"
    }
   ],
   "source": [
    "'1111'.count('111')"
   ]
  },
  {
   "cell_type": "code",
   "execution_count": 22,
   "id": "960fd2f4-2d60-44ef-a00e-c65808cd5740",
   "metadata": {},
   "outputs": [
    {
     "data": {
      "text/plain": [
       "True"
      ]
     },
     "execution_count": 22,
     "metadata": {},
     "output_type": "execute_result"
    }
   ],
   "source": [
    "'111' in '111'"
   ]
  },
  {
   "cell_type": "code",
   "execution_count": 24,
   "id": "964bb71e-c3e3-4525-a15d-2573e8c58823",
   "metadata": {},
   "outputs": [
    {
     "data": {
      "text/plain": [
       "{'1'}"
      ]
     },
     "execution_count": 24,
     "metadata": {},
     "output_type": "execute_result"
    }
   ],
   "source": [
    "set('111')"
   ]
  },
  {
   "cell_type": "code",
   "execution_count": null,
   "id": "0cab7711-fb3a-4337-b6a4-43059d49eb26",
   "metadata": {},
   "outputs": [],
   "source": []
  },
  {
   "cell_type": "code",
   "execution_count": null,
   "id": "98f8b453-f868-4550-be59-c30ce9ad46cc",
   "metadata": {},
   "outputs": [],
   "source": []
  }
 ],
 "metadata": {
  "kernelspec": {
   "display_name": "my-venv",
   "language": "python",
   "name": "my-venv"
  },
  "language_info": {
   "codemirror_mode": {
    "name": "ipython",
    "version": 3
   },
   "file_extension": ".py",
   "mimetype": "text/x-python",
   "name": "python",
   "nbconvert_exporter": "python",
   "pygments_lexer": "ipython3",
   "version": "3.10.9"
  }
 },
 "nbformat": 4,
 "nbformat_minor": 5
}
