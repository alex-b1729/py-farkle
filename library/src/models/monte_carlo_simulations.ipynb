{
 "cells": [
  {
   "cell_type": "markdown",
   "id": "df9ea608-5f85-445f-a06f-5e7422466775",
   "metadata": {},
   "source": [
    "# Probabilities through monte carlo simulations"
   ]
  },
  {
   "cell_type": "markdown",
   "id": "4084eca0-0af4-4f1e-a876-7545716c0270",
   "metadata": {},
   "source": [
    "Here, rather than training a model to predict the $E[\\text{dice roll score}]$, I just build a monte carlo simulation. "
   ]
  },
  {
   "cell_type": "code",
   "execution_count": 1,
   "id": "a866c8c2-3ccd-41f1-b7e0-e55ba0484a05",
   "metadata": {},
   "outputs": [],
   "source": [
    "import sys\n",
    "sys.path.insert(0, '../../src')"
   ]
  },
  {
   "cell_type": "code",
   "execution_count": 2,
   "id": "1501a200-d112-4478-be23-678a24af7992",
   "metadata": {},
   "outputs": [],
   "source": [
    "import json\n",
    "import random\n",
    "from time import perf_counter\n",
    "from collections import defaultdict\n",
    "\n",
    "from farkle.logic import gameobjects as go"
   ]
  },
  {
   "cell_type": "code",
   "execution_count": null,
   "id": "9c26ddfd-d746-421c-9dbe-1a9da1f2a2eb",
   "metadata": {},
   "outputs": [],
   "source": []
  },
  {
   "cell_type": "code",
   "execution_count": 3,
   "id": "1e22a3da-540a-41c8-9f52-0513cc7223e6",
   "metadata": {},
   "outputs": [
    {
     "data": {
      "text/plain": [
       "[]"
      ]
     },
     "execution_count": 3,
     "metadata": {},
     "output_type": "execute_result"
    }
   ],
   "source": [
    "dh = go.DiceHand(2,3)\n",
    "dh.possible_scores()"
   ]
  },
  {
   "cell_type": "code",
   "execution_count": 14,
   "id": "6420f151-14d4-4418-9d85-57d3728c9651",
   "metadata": {},
   "outputs": [],
   "source": [
    "# for saving dicehands as json\n",
    "class DiceHandEncoder(json.JSONEncoder):\n",
    "    def default(self, obj):\n",
    "        if isinstance(obj, go.DiceHand):\n",
    "            return obj.json_encode\n",
    "        return super().default(obj)\n",
    "    \n",
    "def as_dicehand(dct):\n",
    "    if '__DiceHand__' in dct:\n",
    "        return go.DiceHand.json_decode(dct)\n",
    "    return dct"
   ]
  },
  {
   "cell_type": "code",
   "execution_count": 15,
   "id": "e1a6cdda-ff59-48c7-b82b-fe3bf5ad7795",
   "metadata": {},
   "outputs": [],
   "source": [
    "j = json.dumps({'dh': dh}, cls=DiceHandEncoder)"
   ]
  },
  {
   "cell_type": "code",
   "execution_count": 16,
   "id": "3fd55566-9a75-4d6e-82fa-30cc5d9601dc",
   "metadata": {},
   "outputs": [
    {
     "data": {
      "text/plain": [
       "'{\"dh\": {\"__DiceHand__\": true, \"free\": [2, 3], \"locked\": [], \"score\": 0}}'"
      ]
     },
     "execution_count": 16,
     "metadata": {},
     "output_type": "execute_result"
    }
   ],
   "source": [
    "j"
   ]
  },
  {
   "cell_type": "code",
   "execution_count": 17,
   "id": "38395d3a-b5a4-42f5-8a74-0008335b71a2",
   "metadata": {},
   "outputs": [],
   "source": [
    "jl = json.loads(j, object_hook=as_dicehand)"
   ]
  },
  {
   "cell_type": "code",
   "execution_count": 18,
   "id": "9edb0661-81a9-4716-bfe7-366ddb974452",
   "metadata": {},
   "outputs": [
    {
     "data": {
      "text/plain": [
       "{'dh': DiceHand(free=[2, 3], locked=[], score=0)}"
      ]
     },
     "execution_count": 18,
     "metadata": {},
     "output_type": "execute_result"
    }
   ],
   "source": [
    "jl"
   ]
  },
  {
   "cell_type": "code",
   "execution_count": 19,
   "id": "28c0f337-1aea-4a07-9684-b42a84a259ca",
   "metadata": {},
   "outputs": [
    {
     "data": {
      "text/plain": [
       "farkle.logic.gameobjects.DiceHand"
      ]
     },
     "execution_count": 19,
     "metadata": {},
     "output_type": "execute_result"
    }
   ],
   "source": [
    "type(jl['dh'])"
   ]
  },
  {
   "cell_type": "code",
   "execution_count": 11,
   "id": "cd81979d-8a1c-4bf5-823e-1216e66a9dfb",
   "metadata": {},
   "outputs": [],
   "source": [
    "d = {0: 'a', 1: 'b'}"
   ]
  },
  {
   "cell_type": "code",
   "execution_count": 13,
   "id": "cfb63a3a-4146-49e2-8bcb-acc920ddf5d5",
   "metadata": {},
   "outputs": [
    {
     "data": {
      "text/plain": [
       "\"{0: 'a', 1: 'b'}\""
      ]
     },
     "execution_count": 13,
     "metadata": {},
     "output_type": "execute_result"
    }
   ],
   "source": [
    "str(d)"
   ]
  },
  {
   "cell_type": "code",
   "execution_count": 14,
   "id": "1d6d299d-e338-4e30-ba17-ca416e3d0bec",
   "metadata": {},
   "outputs": [
    {
     "name": "stdout",
     "output_type": "stream",
     "text": [
      "{0: 'a', 1: 'b'}\n"
     ]
    }
   ],
   "source": [
    "print(d)"
   ]
  },
  {
   "cell_type": "code",
   "execution_count": null,
   "id": "ebd505e3-842d-40c6-86c7-0ced9f83c422",
   "metadata": {},
   "outputs": [],
   "source": []
  },
  {
   "cell_type": "code",
   "execution_count": 4,
   "id": "fcb89314-61cd-40f3-9801-164c740a34ef",
   "metadata": {},
   "outputs": [],
   "source": [
    "class MonteCarloSimulation(object):\n",
    "    def __init__(self, max_dice: int = 6):\n",
    "        self.max_dice = max_dice\n",
    "        self.dice_range = range(1, self.max_dice + 1)\n",
    "        self.dice_hands = {i: go.DiceHand(num_dice=i) for i in self.dice_range}\n",
    "        \n",
    "        self.roll_obs = {i: 0 for i in self.dice_range}\n",
    "        self.possible_score_obs = {i: 0 for i in self.dice_range}\n",
    "        self.possible_score_frequencies = {i: defaultdict(int) for i in self.dice_range}\n",
    "        \n",
    "    def roll(self, num_dice: int):\n",
    "        self.dice_hands[num_dice].roll()\n",
    "        self.roll_obs[num_dice] += 1\n",
    "        if self.dice_hands[num_dice].possible_scores():\n",
    "            for dh in self.dice_hands[num_dice].possible_scores():\n",
    "                dh: go.DiceHand\n",
    "                self.possible_score_obs[num_dice] += 1\n",
    "                self.possible_score_frequencies[num_dice][dh] += 1\n",
    "        else:\n",
    "            self.possible_score_frequencies[num_dice][None] += 1\n",
    "            \n",
    "    def roll_all(self, num_rolls: int = 1):\n",
    "        \"\"\"Rolls all hands in ratio where 1 dice is 1 roll and \n",
    "        each additional die is 6x more rolls\"\"\"\n",
    "        for die_num in self.dice_range:\n",
    "            for roll_num in range(6**(die_num-1)):\n",
    "                self.roll(die_num)\n",
    "    \n",
    "    def P_farkle(self, num_dice: int):\n",
    "        return self.possible_score_frequencies[num_dice][None] / self.roll_obs[num_dice]\n",
    "    \n",
    "    def E_score(self, num_dice: int):\n",
    "        E_score = 0\n",
    "        for dh, freq in self.possible_score_frequencies[num_dice].items():\n",
    "            if dh: E_score += dh.score * freq\n",
    "        return (E_score / self.possible_score_obs[num_dice]) * (1 - self.P_farkle(num_dice))\n",
    "    \n",
    "    def json_encode(self):\n",
    "        d = {'max_dice': self.max_dice, \n",
    "             'roll_obs': self.roll_obs, \n",
    "             'possible_score_obs': self.possible_score_obs}"
   ]
  },
  {
   "cell_type": "code",
   "execution_count": 5,
   "id": "96a4523f-554f-439b-b257-8c06acc184be",
   "metadata": {},
   "outputs": [],
   "source": [
    "mcs = MonteCarloSimulation()"
   ]
  },
  {
   "cell_type": "code",
   "execution_count": 6,
   "id": "36e2bd0e-4f61-45d3-ae26-92ca6a7510d2",
   "metadata": {},
   "outputs": [
    {
     "data": {
      "text/plain": [
       "DiceHand(free=[3, 3, 5], locked=[], score=0)"
      ]
     },
     "execution_count": 6,
     "metadata": {},
     "output_type": "execute_result"
    }
   ],
   "source": [
    "mcs.dice_hands[3]"
   ]
  },
  {
   "cell_type": "code",
   "execution_count": 7,
   "id": "19fe1ad9-0e3a-4c7b-9cc0-dc2a83d89d4d",
   "metadata": {},
   "outputs": [
    {
     "data": {
      "text/plain": [
       "['']"
      ]
     },
     "execution_count": 7,
     "metadata": {},
     "output_type": "execute_result"
    }
   ],
   "source": [
    "''.split(', ')"
   ]
  },
  {
   "cell_type": "code",
   "execution_count": 13,
   "id": "e758933b-3719-49df-a663-75f09e8a6390",
   "metadata": {},
   "outputs": [
    {
     "data": {
      "text/plain": [
       "1"
      ]
     },
     "execution_count": 13,
     "metadata": {},
     "output_type": "execute_result"
    }
   ],
   "source": [
    "'asdf'.find('sd')"
   ]
  },
  {
   "cell_type": "code",
   "execution_count": 14,
   "id": "6ee66281-12a3-4f8e-bb0b-3544ecb69416",
   "metadata": {},
   "outputs": [
    {
     "data": {
      "text/plain": [
       "3"
      ]
     },
     "execution_count": 14,
     "metadata": {},
     "output_type": "execute_result"
    }
   ],
   "source": [
    "'asdf'.find('f')"
   ]
  },
  {
   "cell_type": "code",
   "execution_count": 15,
   "id": "4872bb1a-9c17-45de-81c9-70e20fb221dd",
   "metadata": {},
   "outputs": [
    {
     "data": {
      "text/plain": [
       "'sd'"
      ]
     },
     "execution_count": 15,
     "metadata": {},
     "output_type": "execute_result"
    }
   ],
   "source": [
    "'asdf'[1:3]"
   ]
  },
  {
   "cell_type": "code",
   "execution_count": 17,
   "id": "7143cb99-7b97-4ca4-a8a0-4ceb352aa7a6",
   "metadata": {},
   "outputs": [
    {
     "data": {
      "text/plain": [
       "[1, 2, 3, 4, 5]"
      ]
     },
     "execution_count": 17,
     "metadata": {},
     "output_type": "execute_result"
    }
   ],
   "source": [
    "[1,2,3] + [4,5]"
   ]
  },
  {
   "cell_type": "code",
   "execution_count": 18,
   "id": "85644d08-0c7a-462b-a393-b77f4b399bf8",
   "metadata": {},
   "outputs": [
    {
     "name": "stdout",
     "output_type": "stream",
     "text": [
      "1\n",
      "2\n",
      "3\n",
      "4\n"
     ]
    }
   ],
   "source": [
    "for i in range(1, 5):\n",
    "    print(i)"
   ]
  },
  {
   "cell_type": "code",
   "execution_count": 19,
   "id": "c9194b80-071c-450c-ae14-df01481a5ee9",
   "metadata": {},
   "outputs": [],
   "source": [
    "def asdf(*args):\n",
    "    for i in args:\n",
    "        print(i)"
   ]
  },
  {
   "cell_type": "code",
   "execution_count": 20,
   "id": "a74a82d6-0c93-4f80-998e-68ed5d764c6d",
   "metadata": {},
   "outputs": [
    {
     "name": "stdout",
     "output_type": "stream",
     "text": [
      "1\n",
      "2\n",
      "4\n"
     ]
    }
   ],
   "source": [
    "asdf(1,2,4)"
   ]
  },
  {
   "cell_type": "code",
   "execution_count": 21,
   "id": "d1cdc9f6-c36c-4a1b-a6e4-141fe1547e93",
   "metadata": {},
   "outputs": [
    {
     "name": "stdout",
     "output_type": "stream",
     "text": [
      "1\n",
      "3\n",
      "6\n"
     ]
    }
   ],
   "source": [
    "asdf(*[1,3,6])"
   ]
  },
  {
   "cell_type": "code",
   "execution_count": null,
   "id": "95f1799f-61ae-4ba6-86c3-3850e8991b45",
   "metadata": {},
   "outputs": [],
   "source": []
  },
  {
   "cell_type": "code",
   "execution_count": null,
   "id": "b6080142-b7c7-4180-97e8-a5cc83ba70c5",
   "metadata": {},
   "outputs": [],
   "source": []
  },
  {
   "cell_type": "code",
   "execution_count": 22,
   "id": "39dc2e7f-22b3-4f5f-beba-8c5afad7ad76",
   "metadata": {},
   "outputs": [
    {
     "data": {
      "text/plain": [
       "DiceHand(6, 6, 2, 6, 5, 6, score=0)"
      ]
     },
     "execution_count": 22,
     "metadata": {},
     "output_type": "execute_result"
    }
   ],
   "source": [
    "mcs.dice_hands[6]"
   ]
  },
  {
   "cell_type": "code",
   "execution_count": 25,
   "id": "96d2012c-66a7-487a-9652-90706192543b",
   "metadata": {},
   "outputs": [
    {
     "name": "stdout",
     "output_type": "stream",
     "text": [
      "0\n",
      "300\n",
      "600\n",
      "900\n",
      "1200\n",
      "1500\n",
      "1800\n",
      "2100\n",
      "2400\n",
      "2700\n",
      "3000\n",
      "3300\n",
      "3600\n",
      "3900\n",
      "4200\n",
      "4500\n",
      "4800\n",
      "5100\n",
      "5400\n",
      "5700\n",
      "6000\n",
      "6300\n",
      "6600\n",
      "6900\n",
      "7200\n",
      "7500\n",
      "476.1664\n"
     ]
    }
   ],
   "source": [
    "t0 = perf_counter()\n",
    "for i in range(6**5):\n",
    "    if i % 300 == 0:\n",
    "        print(i)\n",
    "    mcs.roll(6)\n",
    "t1 = perf_counter()\n",
    "print(round(t1-t0, 4))"
   ]
  },
  {
   "cell_type": "code",
   "execution_count": 27,
   "id": "2a7ab71a-9343-4801-bc75-d09272358468",
   "metadata": {},
   "outputs": [
    {
     "data": {
      "text/plain": [
       "defaultdict(int,\n",
       "            {DiceHand(1, score=100): 5317,\n",
       "             DiceHand(1, 1, score=200): 2139,\n",
       "             DiceHand(1, 1, 5, score=250): 1176,\n",
       "             DiceHand(1, 5, score=150): 3316,\n",
       "             DiceHand(5, score=50): 5308,\n",
       "             DiceHand(5, 5, score=100): 2111,\n",
       "             DiceHand(5, 5, 5, score=150): 510,\n",
       "             DiceHand(5, 5, 5, score=500): 510,\n",
       "             DiceHand(1, 5, 5, score=200): 1166,\n",
       "             DiceHand(1, 1, 2, 2, 2, 5, score=450): 10,\n",
       "             DiceHand(1, 1, 2, 2, 2, score=400): 46,\n",
       "             DiceHand(1, 2, 2, 2, 5, score=350): 88,\n",
       "             DiceHand(1, 2, 2, 2, score=300): 239,\n",
       "             DiceHand(5, 2, 2, 2, score=250): 233,\n",
       "             DiceHand(2, 2, 2, score=200): 480,\n",
       "             DiceHand(1, 1, 1, score=300): 549,\n",
       "             DiceHand(1, 1, 1, 5, score=350): 240,\n",
       "             DiceHand(5, 1, 1, 1, score=1050): 240,\n",
       "             DiceHand(1, 1, 1, score=1000): 549,\n",
       "             DiceHand(1, 6, 6, 6, score=700): 230,\n",
       "             DiceHand(6, 6, 6, score=600): 488,\n",
       "             DiceHand(1, 3, 3, 3, 5, score=450): 61,\n",
       "             DiceHand(1, 3, 3, 3, score=400): 199,\n",
       "             DiceHand(5, 3, 3, 3, score=350): 210,\n",
       "             DiceHand(3, 3, 3, score=300): 472,\n",
       "             None: 230,\n",
       "             DiceHand(1, 5, 6, 6, 6, score=750): 90,\n",
       "             DiceHand(5, 6, 6, 6, score=650): 240,\n",
       "             DiceHand(1, 5, 5, 5, score=250): 231,\n",
       "             DiceHand(1, 5, 5, 5, score=600): 231,\n",
       "             DiceHand(1, 1, 1, 1, score=400): 72,\n",
       "             DiceHand(1, 1, 1, 1, score=1100): 72,\n",
       "             DiceHand(5, 3, 3, 3, 5, score=400): 37,\n",
       "             DiceHand(5, 4, 4, 4, score=450): 239,\n",
       "             DiceHand(4, 4, 4, score=400): 483,\n",
       "             DiceHand(1, 1, 5, 5, score=300): 342,\n",
       "             DiceHand(1, 1, 3, 3, 3, score=500): 47,\n",
       "             DiceHand(1, 4, 4, 4, 5, score=550): 86,\n",
       "             DiceHand(1, 4, 4, 4, score=500): 217,\n",
       "             DiceHand(1, 1, 5, 5, 5, score=350): 48,\n",
       "             DiceHand(1, 1, 5, 5, 5, score=700): 48,\n",
       "             DiceHand(1, 5, 5, 5, 5, score=300): 22,\n",
       "             DiceHand(1, 5, 5, 5, 5, score=650): 22,\n",
       "             DiceHand(5, 5, 5, 5, score=200): 70,\n",
       "             DiceHand(5, 5, 5, 5, score=550): 70,\n",
       "             DiceHand(5, 4, 4, 4, 5, score=500): 48,\n",
       "             DiceHand(1, 1, 1, 1, 1, score=500): 1,\n",
       "             DiceHand(1, 1, 1, 1, 1, score=1200): 1,\n",
       "             DiceHand(1, 1, 6, 6, 6, score=800): 53,\n",
       "             DiceHand(1, 1, 4, 4, 4, score=600): 49,\n",
       "             DiceHand(1, 3, 3, 3, 5, 5, score=500): 7,\n",
       "             DiceHand(1, 1, 1, 4, 4, 4, score=700): 4,\n",
       "             DiceHand(1, 1, 1, 4, 4, 4, score=1400): 4,\n",
       "             DiceHand(1, 5, 5, 6, 6, 6, score=800): 10,\n",
       "             DiceHand(5, 5, 6, 6, 6, score=700): 46,\n",
       "             DiceHand(1, 2, 2, 2, 5, 5, score=400): 20,\n",
       "             DiceHand(5, 2, 2, 2, 5, score=300): 62,\n",
       "             DiceHand(1, 1, 3, 3, 3, 5, score=550): 4,\n",
       "             DiceHand(1, 1, 1, 1, 5, score=450): 28,\n",
       "             DiceHand(1, 1, 1, 1, 5, 5, score=500): 4,\n",
       "             DiceHand(1, 1, 1, 5, 5, score=400): 53,\n",
       "             DiceHand(1, 1, 1, 1, 5, score=1150): 28,\n",
       "             DiceHand(1, 1, 1, 1, 5, 5, score=1200): 4,\n",
       "             DiceHand(5, 1, 1, 1, 5, score=1100): 53,\n",
       "             DiceHand(3, 3, 3, 6, 6, 6, score=900): 6,\n",
       "             DiceHand(5, 3, 3, 3, 5, 5, score=450): 2,\n",
       "             DiceHand(5, 5, 5, 3, 3, 3, score=800): 2,\n",
       "             DiceHand(2, 2, 2, 4, 4, 4, score=600): 3,\n",
       "             DiceHand(1, 1, 5, 6, 6, 6, score=850): 12,\n",
       "             DiceHand(5, 4, 4, 4, 5, 5, score=550): 3,\n",
       "             DiceHand(5, 5, 5, 4, 4, 4, score=900): 3,\n",
       "             DiceHand(2, 2, 2, 3, 3, 3, score=500): 5,\n",
       "             DiceHand(1, 1, 1, 6, 6, 6, score=900): 2,\n",
       "             DiceHand(1, 1, 1, 6, 6, 6, score=1600): 2,\n",
       "             DiceHand(1, 1, 4, 4, 4, 5, score=650): 8,\n",
       "             DiceHand(1, 4, 4, 4, 5, 5, score=600): 12,\n",
       "             DiceHand(5, 5, 5, 6, 6, 6, score=750): 5,\n",
       "             DiceHand(5, 5, 5, 6, 6, 6, score=1100): 5,\n",
       "             DiceHand(1, 1, 1, 5, 5, 5, score=450): 5,\n",
       "             DiceHand(1, 1, 1, 5, 5, 5, score=800): 5,\n",
       "             DiceHand(5, 1, 1, 1, 5, 5, score=1150): 5,\n",
       "             DiceHand(2, 2, 2, 6, 6, 6, score=800): 3,\n",
       "             DiceHand(4, 4, 4, 6, 6, 6, score=1000): 2,\n",
       "             DiceHand(1, 1, 1, 2, 2, 2, score=500): 1,\n",
       "             DiceHand(1, 1, 1, 2, 2, 2, score=1200): 1,\n",
       "             DiceHand(1, 1, 1, 3, 3, 3, score=600): 3,\n",
       "             DiceHand(1, 1, 1, 3, 3, 3, score=1300): 3,\n",
       "             DiceHand(5, 2, 2, 2, 5, 5, score=350): 2,\n",
       "             DiceHand(5, 5, 5, 2, 2, 2, score=700): 2})"
      ]
     },
     "execution_count": 27,
     "metadata": {},
     "output_type": "execute_result"
    }
   ],
   "source": [
    "mcs.possible_score_frequencies[6]"
   ]
  },
  {
   "cell_type": "code",
   "execution_count": 13,
   "id": "169c981b-6442-4b11-8f82-77570e1dc2e3",
   "metadata": {},
   "outputs": [],
   "source": [
    "mcs.roll(3)"
   ]
  },
  {
   "cell_type": "code",
   "execution_count": 14,
   "id": "2b5458b9-7886-4aa8-8af7-88ab69f9fc19",
   "metadata": {},
   "outputs": [
    {
     "data": {
      "text/plain": [
       "defaultdict(int, {DiceHand(1, score=100): 1})"
      ]
     },
     "execution_count": 14,
     "metadata": {},
     "output_type": "execute_result"
    }
   ],
   "source": [
    "mcs.possible_score_frequencies[3]"
   ]
  },
  {
   "cell_type": "code",
   "execution_count": 15,
   "id": "62ddbd07-5de4-4dfb-a2a6-9fbfe256b2f0",
   "metadata": {},
   "outputs": [],
   "source": [
    "for i in range(4):\n",
    "    mcs.roll(3)"
   ]
  },
  {
   "cell_type": "code",
   "execution_count": 16,
   "id": "1fa60425-7408-4793-a02e-7dd4f5aa9669",
   "metadata": {},
   "outputs": [
    {
     "data": {
      "text/plain": [
       "defaultdict(int,\n",
       "            {DiceHand(1, score=100): 1, DiceHand(5, score=50): 3, None: 1})"
      ]
     },
     "execution_count": 16,
     "metadata": {},
     "output_type": "execute_result"
    }
   ],
   "source": [
    "mcs.possible_score_frequencies[3]"
   ]
  },
  {
   "cell_type": "code",
   "execution_count": null,
   "id": "8b759033-1251-4afb-b9f8-21ffdf8ae8bf",
   "metadata": {},
   "outputs": [],
   "source": []
  },
  {
   "cell_type": "code",
   "execution_count": null,
   "id": "b5ab403d-2709-4b35-8e5c-f7c854dc8437",
   "metadata": {},
   "outputs": [],
   "source": []
  },
  {
   "cell_type": "code",
   "execution_count": null,
   "id": "2af9f97c-abd3-4a36-9408-fe91b072e74d",
   "metadata": {},
   "outputs": [],
   "source": []
  },
  {
   "cell_type": "code",
   "execution_count": null,
   "id": "54ab1c84-8001-4c11-ae72-ff0f5be243c8",
   "metadata": {},
   "outputs": [],
   "source": []
  },
  {
   "cell_type": "code",
   "execution_count": null,
   "id": "8dbdfc84-8acb-47be-9f8f-32e7ec95de81",
   "metadata": {},
   "outputs": [],
   "source": []
  },
  {
   "cell_type": "code",
   "execution_count": null,
   "id": "eb29c28c-aa8a-4f90-8308-43c8ad32a569",
   "metadata": {},
   "outputs": [],
   "source": []
  },
  {
   "cell_type": "code",
   "execution_count": 4,
   "id": "8b092ec9-cadd-47b3-9521-474d1f2c0f76",
   "metadata": {},
   "outputs": [],
   "source": [
    "class MonteCarloDiceHand(go.DiceHand):\n",
    "    def __init__(self, num_dice):\n",
    "        super().__init__(num_dice=num_dice)\n",
    "\n",
    "        self.possible_score_frequencies = defaultdict(int)\n",
    "        self.roll_obs = 0\n",
    "        self.possible_score_obs = 0\n",
    "\n",
    "    def roll(self):\n",
    "        super().roll()\n",
    "        self.roll_obs += 1\n",
    "        # save resulting possible scores if any otherwise None\n",
    "        if self.possible_scores():\n",
    "            for dh in self.possible_scores():\n",
    "                dh: go.DiceHand\n",
    "                self.possible_score_obs += 1\n",
    "                self.possible_score_frequencies[dh] += 1\n",
    "        else:\n",
    "            self.possible_score_frequencies[None] += 1\n",
    "\n",
    "    @property\n",
    "    def E_any_score(self):\n",
    "        return 1 - (self.possible_score_frequencies[None] / self.roll_obs)\n",
    "\n",
    "    @property\n",
    "    def E_score_arithmetic(self):\n",
    "        E_score = 0\n",
    "        for dh, freq in self.possible_score_frequencies.items():\n",
    "            if dh: E_score += dh.score * freq\n",
    "        return (E_score / self.possible_score_obs) * self.E_any_score"
   ]
  },
  {
   "cell_type": "code",
   "execution_count": 5,
   "id": "778bf825-3e7f-45c5-9a23-8029b0df5527",
   "metadata": {},
   "outputs": [],
   "source": [
    "mcdh = MonteCarloDiceHand(3)"
   ]
  },
  {
   "cell_type": "code",
   "execution_count": 6,
   "id": "f2790a4f-c2dc-4fe2-bcbb-5b5eeaefd416",
   "metadata": {},
   "outputs": [
    {
     "data": {
      "text/plain": [
       "DiceHand(4, 4, 4, score=0)"
      ]
     },
     "execution_count": 6,
     "metadata": {},
     "output_type": "execute_result"
    }
   ],
   "source": [
    "mcdh"
   ]
  },
  {
   "cell_type": "code",
   "execution_count": 7,
   "id": "ae18d991-530e-40cb-81a1-e336d71dcb0b",
   "metadata": {},
   "outputs": [],
   "source": [
    "mcdh.roll()"
   ]
  },
  {
   "cell_type": "code",
   "execution_count": 8,
   "id": "7493941b-e978-479f-bb5d-49a9309e5a72",
   "metadata": {},
   "outputs": [
    {
     "data": {
      "text/plain": [
       "DiceHand(1, 2, 2, score=0)"
      ]
     },
     "execution_count": 8,
     "metadata": {},
     "output_type": "execute_result"
    }
   ],
   "source": [
    "mcdh"
   ]
  },
  {
   "cell_type": "code",
   "execution_count": 9,
   "id": "b0fe110c-86bb-4d75-8c58-3dbc4cae403e",
   "metadata": {},
   "outputs": [
    {
     "data": {
      "text/plain": [
       "defaultdict(int, {DiceHand(1, score=100): 1})"
      ]
     },
     "execution_count": 9,
     "metadata": {},
     "output_type": "execute_result"
    }
   ],
   "source": [
    "mcdh.possible_score_frequencies"
   ]
  },
  {
   "cell_type": "code",
   "execution_count": 10,
   "id": "4e9f75ba-2a4c-4336-a454-0dc271bdb322",
   "metadata": {},
   "outputs": [],
   "source": [
    "for i in range(4):\n",
    "    mcdh.roll()"
   ]
  },
  {
   "cell_type": "code",
   "execution_count": 11,
   "id": "1718a7cf-840d-4563-8d20-120ffb7cfef0",
   "metadata": {},
   "outputs": [
    {
     "data": {
      "text/plain": [
       "defaultdict(int,\n",
       "            {DiceHand(1, score=100): 1,\n",
       "             None: 3,\n",
       "             DiceHand(5, score=50): 1,\n",
       "             DiceHand(5, 5, score=100): 1})"
      ]
     },
     "execution_count": 11,
     "metadata": {},
     "output_type": "execute_result"
    }
   ],
   "source": [
    "mcdh.possible_score_frequencies"
   ]
  },
  {
   "cell_type": "code",
   "execution_count": 13,
   "id": "425772f3-ef75-4e3c-bb53-c24d6571a6e2",
   "metadata": {},
   "outputs": [
    {
     "data": {
      "text/plain": [
       "5"
      ]
     },
     "execution_count": 13,
     "metadata": {},
     "output_type": "execute_result"
    }
   ],
   "source": [
    "mcdh.roll_obs"
   ]
  },
  {
   "cell_type": "code",
   "execution_count": 14,
   "id": "1ebc7770-7f60-40af-90fb-d9c1c5258294",
   "metadata": {},
   "outputs": [
    {
     "data": {
      "text/plain": [
       "0.4"
      ]
     },
     "execution_count": 14,
     "metadata": {},
     "output_type": "execute_result"
    }
   ],
   "source": [
    "mcdh.E_any_score"
   ]
  },
  {
   "cell_type": "code",
   "execution_count": 15,
   "id": "4dd421d0-e2d9-4e1d-a7cd-f9c94721e766",
   "metadata": {},
   "outputs": [
    {
     "data": {
      "text/plain": [
       "33.333333333333336"
      ]
     },
     "execution_count": 15,
     "metadata": {},
     "output_type": "execute_result"
    }
   ],
   "source": [
    "mcdh.E_score_arithmetic"
   ]
  },
  {
   "cell_type": "code",
   "execution_count": null,
   "id": "ec78e1ac-30be-4cae-8943-5c413e32b24e",
   "metadata": {},
   "outputs": [],
   "source": []
  },
  {
   "cell_type": "code",
   "execution_count": null,
   "id": "7fccac1e-d975-4bf4-9c44-924a80090d77",
   "metadata": {},
   "outputs": [],
   "source": []
  },
  {
   "cell_type": "code",
   "execution_count": null,
   "id": "1e3d3e40-8b66-4780-874f-84979631b4eb",
   "metadata": {},
   "outputs": [],
   "source": []
  },
  {
   "cell_type": "code",
   "execution_count": null,
   "id": "d58e41b8-3653-4d2f-b729-40d2a674e573",
   "metadata": {},
   "outputs": [],
   "source": []
  },
  {
   "cell_type": "code",
   "execution_count": null,
   "id": "83a3af8b-5b40-45dd-add3-b1e88fd725cf",
   "metadata": {},
   "outputs": [],
   "source": []
  },
  {
   "cell_type": "code",
   "execution_count": null,
   "id": "fbc4da60-eb3c-4ed0-81eb-fbc5135f3906",
   "metadata": {},
   "outputs": [],
   "source": []
  },
  {
   "cell_type": "code",
   "execution_count": null,
   "id": "81ef2fcb-ae59-46c9-874e-846101331299",
   "metadata": {},
   "outputs": [],
   "source": []
  },
  {
   "cell_type": "code",
   "execution_count": null,
   "id": "1f54fda3-4c43-4b63-97c0-3bcbbed1a08b",
   "metadata": {},
   "outputs": [],
   "source": []
  },
  {
   "cell_type": "code",
   "execution_count": null,
   "id": "a7053719-1cce-4227-9fdf-d05bc9f1eb83",
   "metadata": {},
   "outputs": [],
   "source": []
  },
  {
   "cell_type": "code",
   "execution_count": null,
   "id": "a3f962af-aa32-46e3-872f-050e461090dc",
   "metadata": {},
   "outputs": [],
   "source": []
  },
  {
   "cell_type": "code",
   "execution_count": null,
   "id": "f059b710-354d-4dd2-9fc3-e202bad27ec4",
   "metadata": {},
   "outputs": [],
   "source": []
  }
 ],
 "metadata": {
  "kernelspec": {
   "display_name": "my-venv",
   "language": "python",
   "name": "my-venv"
  },
  "language_info": {
   "codemirror_mode": {
    "name": "ipython",
    "version": 3
   },
   "file_extension": ".py",
   "mimetype": "text/x-python",
   "name": "python",
   "nbconvert_exporter": "python",
   "pygments_lexer": "ipython3",
   "version": "3.10.9"
  }
 },
 "nbformat": 4,
 "nbformat_minor": 5
}
