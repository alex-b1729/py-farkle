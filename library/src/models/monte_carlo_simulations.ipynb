{
 "cells": [
  {
   "cell_type": "markdown",
   "id": "df9ea608-5f85-445f-a06f-5e7422466775",
   "metadata": {},
   "source": [
    "# Probabilities through monte carlo simulations"
   ]
  },
  {
   "cell_type": "markdown",
   "id": "4084eca0-0af4-4f1e-a876-7545716c0270",
   "metadata": {},
   "source": [
    "Here, rather than training a model to predict the $E[\\text{dice roll score}]$, I just build a monte carlo simulation. "
   ]
  },
  {
   "cell_type": "code",
   "execution_count": 1,
   "id": "a866c8c2-3ccd-41f1-b7e0-e55ba0484a05",
   "metadata": {},
   "outputs": [],
   "source": [
    "import sys\n",
    "sys.path.insert(0, '../../src')"
   ]
  },
  {
   "cell_type": "code",
   "execution_count": 2,
   "id": "1501a200-d112-4478-be23-678a24af7992",
   "metadata": {},
   "outputs": [],
   "source": [
    "import random\n",
    "from collections import defaultdict\n",
    "\n",
    "from farkle.logic import gameobjects as go"
   ]
  },
  {
   "cell_type": "code",
   "execution_count": null,
   "id": "9c26ddfd-d746-421c-9dbe-1a9da1f2a2eb",
   "metadata": {},
   "outputs": [],
   "source": []
  },
  {
   "cell_type": "code",
   "execution_count": 3,
   "id": "1e22a3da-540a-41c8-9f52-0513cc7223e6",
   "metadata": {},
   "outputs": [
    {
     "data": {
      "text/plain": [
       "[]"
      ]
     },
     "execution_count": 3,
     "metadata": {},
     "output_type": "execute_result"
    }
   ],
   "source": [
    "dh = go.DiceHand(2,3)\n",
    "dh.possible_scores()"
   ]
  },
  {
   "cell_type": "code",
   "execution_count": null,
   "id": "e10e2876-b03c-4418-838c-7dc57c2c304d",
   "metadata": {},
   "outputs": [],
   "source": []
  },
  {
   "cell_type": "code",
   "execution_count": 16,
   "id": "c96f2611-6128-4f81-b3b5-847ad4c49c00",
   "metadata": {},
   "outputs": [
    {
     "name": "stdout",
     "output_type": "stream",
     "text": [
      "1\n",
      "2\n",
      "3\n",
      "4\n",
      "5\n",
      "6\n"
     ]
    }
   ],
   "source": [
    "for i in range(1, 7):\n",
    "    print(i)"
   ]
  },
  {
   "cell_type": "code",
   "execution_count": 32,
   "id": "ffd3193a-0b24-41a5-88e0-144fafd2f37b",
   "metadata": {},
   "outputs": [],
   "source": [
    "class xyz(object):\n",
    "    def __init__(self, x):\n",
    "        self.x = x\n",
    "        self.a = asdf(self.x)\n",
    "        \n",
    "    def print_x(self):\n",
    "        print(self.x)\n",
    "        \n",
    "    class asdf(object):\n",
    "        def __init__(self2, y):\n",
    "            self2.y = y\n",
    "            \n",
    "        def print_y(self2):\n",
    "            print(self2.y)"
   ]
  },
  {
   "cell_type": "code",
   "execution_count": 28,
   "id": "f79eda1c-52f7-476b-bd22-2a0bd124af9f",
   "metadata": {},
   "outputs": [],
   "source": [
    "a = xyz(5)"
   ]
  },
  {
   "cell_type": "code",
   "execution_count": 29,
   "id": "ccead76b-930a-44cd-9c0b-bde5c8bd4af5",
   "metadata": {},
   "outputs": [
    {
     "name": "stdout",
     "output_type": "stream",
     "text": [
      "5\n"
     ]
    }
   ],
   "source": [
    "a.print_x()"
   ]
  },
  {
   "cell_type": "code",
   "execution_count": 30,
   "id": "25b437f6-1e4b-493b-ba8a-79897c104889",
   "metadata": {},
   "outputs": [
    {
     "ename": "AttributeError",
     "evalue": "'asdf' object has no attribute 'print_y'",
     "output_type": "error",
     "traceback": [
      "\u001b[0;31m---------------------------------------------------------------------------\u001b[0m",
      "\u001b[0;31mAttributeError\u001b[0m                            Traceback (most recent call last)",
      "Cell \u001b[0;32mIn[30], line 1\u001b[0m\n\u001b[0;32m----> 1\u001b[0m \u001b[43ma\u001b[49m\u001b[38;5;241;43m.\u001b[39;49m\u001b[43ma\u001b[49m\u001b[38;5;241;43m.\u001b[39;49m\u001b[43mprint_y\u001b[49m()\n",
      "\u001b[0;31mAttributeError\u001b[0m: 'asdf' object has no attribute 'print_y'"
     ]
    }
   ],
   "source": [
    "a.a.print_y()"
   ]
  },
  {
   "cell_type": "code",
   "execution_count": null,
   "id": "8b7d96c0-e28d-4656-9c02-13b5da6e73b7",
   "metadata": {},
   "outputs": [],
   "source": []
  },
  {
   "cell_type": "code",
   "execution_count": null,
   "id": "d544e04a-85e7-4964-9e4e-df4980204ce3",
   "metadata": {},
   "outputs": [],
   "source": []
  },
  {
   "cell_type": "code",
   "execution_count": null,
   "id": "bce00cb3-3ea3-455c-8f49-fb88d46e8927",
   "metadata": {},
   "outputs": [],
   "source": []
  },
  {
   "cell_type": "code",
   "execution_count": 48,
   "id": "fcb89314-61cd-40f3-9801-164c740a34ef",
   "metadata": {},
   "outputs": [],
   "source": [
    "class MonteCarloSimulation(object):\n",
    "    def __init__(self, max_dice: int = 6):\n",
    "        self.max_dice = max_dice\n",
    "        dice_range = range(1, self.max_dice + 1)\n",
    "        self.dice_hands = {i: go.DiceHand(num_dice=i) for i in dice_range}\n",
    "        \n",
    "        self.possible_score_frequencies = {i: defaultdict(int) for i in dice_range}\n",
    "        self.roll_obs = {i: 0 for i in dice_range}\n",
    "        self.possible_score_obs = {i: 0 for i in dice_range}\n",
    "        \n",
    "    def roll(self, num_dice: int):\n",
    "        self.dice_hands[num_dice].roll()\n",
    "        self.roll_obs[num_dice] += 1\n",
    "        if self.dice_hands[num_dice].possible_scores():\n",
    "            for dh in self.dice_hands[num_dice].possible_scores():\n",
    "                dh: go.DiceHand\n",
    "                self.possible_score_obs[num_dice] += 1\n",
    "                self.possible_score_frequencies[num_dice][dh] += 1\n",
    "        else:\n",
    "            self.possible_score_frequencies[num_dice][None] += 1\n",
    "    \n",
    "    def P_farkled(self, num_dice: int):\n",
    "        return self.possible_score_frequencies[num_dice][None] / self.roll_obs[num_dice]\n",
    "    \n",
    "    def E_score(self, num_dice: int):\n",
    "        E_score = 0\n",
    "        for dh, freq in self.possible_score_frequencies[num_dice].items():\n",
    "            if dh: E_score += dh.score * freq\n",
    "        return (E_score / self.possible_score_obs[num_dice]) * (1 - self.P_farkled(num_dice))"
   ]
  },
  {
   "cell_type": "code",
   "execution_count": 49,
   "id": "96a4523f-554f-439b-b257-8c06acc184be",
   "metadata": {},
   "outputs": [],
   "source": [
    "mcs = MonteCarloSimulation()"
   ]
  },
  {
   "cell_type": "code",
   "execution_count": 50,
   "id": "39dc2e7f-22b3-4f5f-beba-8c5afad7ad76",
   "metadata": {},
   "outputs": [
    {
     "data": {
      "text/plain": [
       "DiceHand(5, 3, 1, score=0)"
      ]
     },
     "execution_count": 50,
     "metadata": {},
     "output_type": "execute_result"
    }
   ],
   "source": [
    "mcs.dice_hands[3]"
   ]
  },
  {
   "cell_type": "code",
   "execution_count": 51,
   "id": "2a7ab71a-9343-4801-bc75-d09272358468",
   "metadata": {},
   "outputs": [
    {
     "data": {
      "text/plain": [
       "defaultdict(int, {})"
      ]
     },
     "execution_count": 51,
     "metadata": {},
     "output_type": "execute_result"
    }
   ],
   "source": [
    "mcs.possible_score_frequencies[3]"
   ]
  },
  {
   "cell_type": "code",
   "execution_count": 52,
   "id": "169c981b-6442-4b11-8f82-77570e1dc2e3",
   "metadata": {},
   "outputs": [],
   "source": [
    "mcs.roll(3)"
   ]
  },
  {
   "cell_type": "code",
   "execution_count": 53,
   "id": "2b5458b9-7886-4aa8-8af7-88ab69f9fc19",
   "metadata": {},
   "outputs": [
    {
     "data": {
      "text/plain": [
       "defaultdict(int,\n",
       "            {DiceHand(1, score=100): 1,\n",
       "             DiceHand(1, 5, score=150): 1,\n",
       "             DiceHand(5, score=50): 1})"
      ]
     },
     "execution_count": 53,
     "metadata": {},
     "output_type": "execute_result"
    }
   ],
   "source": [
    "mcs.possible_score_frequencies[3]"
   ]
  },
  {
   "cell_type": "code",
   "execution_count": 54,
   "id": "62ddbd07-5de4-4dfb-a2a6-9fbfe256b2f0",
   "metadata": {},
   "outputs": [],
   "source": [
    "for i in range(4):\n",
    "    mcs.roll(3)"
   ]
  },
  {
   "cell_type": "code",
   "execution_count": 55,
   "id": "1fa60425-7408-4793-a02e-7dd4f5aa9669",
   "metadata": {},
   "outputs": [
    {
     "data": {
      "text/plain": [
       "defaultdict(int,\n",
       "            {DiceHand(1, score=100): 2,\n",
       "             DiceHand(1, 5, score=150): 2,\n",
       "             DiceHand(5, score=50): 2,\n",
       "             None: 2,\n",
       "             DiceHand(3, 3, 3, score=300): 1})"
      ]
     },
     "execution_count": 55,
     "metadata": {},
     "output_type": "execute_result"
    }
   ],
   "source": [
    "mcs.possible_score_frequencies[3]"
   ]
  },
  {
   "cell_type": "code",
   "execution_count": null,
   "id": "8b759033-1251-4afb-b9f8-21ffdf8ae8bf",
   "metadata": {},
   "outputs": [],
   "source": []
  },
  {
   "cell_type": "code",
   "execution_count": null,
   "id": "b5ab403d-2709-4b35-8e5c-f7c854dc8437",
   "metadata": {},
   "outputs": [],
   "source": []
  },
  {
   "cell_type": "code",
   "execution_count": null,
   "id": "2af9f97c-abd3-4a36-9408-fe91b072e74d",
   "metadata": {},
   "outputs": [],
   "source": []
  },
  {
   "cell_type": "code",
   "execution_count": null,
   "id": "54ab1c84-8001-4c11-ae72-ff0f5be243c8",
   "metadata": {},
   "outputs": [],
   "source": []
  },
  {
   "cell_type": "code",
   "execution_count": null,
   "id": "8dbdfc84-8acb-47be-9f8f-32e7ec95de81",
   "metadata": {},
   "outputs": [],
   "source": []
  },
  {
   "cell_type": "code",
   "execution_count": null,
   "id": "eb29c28c-aa8a-4f90-8308-43c8ad32a569",
   "metadata": {},
   "outputs": [],
   "source": []
  },
  {
   "cell_type": "code",
   "execution_count": 4,
   "id": "8b092ec9-cadd-47b3-9521-474d1f2c0f76",
   "metadata": {},
   "outputs": [],
   "source": [
    "class MonteCarloDiceHand(go.DiceHand):\n",
    "    def __init__(self, num_dice):\n",
    "        super().__init__(num_dice=num_dice)\n",
    "\n",
    "        self.possible_score_frequencies = defaultdict(int)\n",
    "        self.roll_obs = 0\n",
    "        self.possible_score_obs = 0\n",
    "\n",
    "    def roll(self):\n",
    "        super().roll()\n",
    "        self.roll_obs += 1\n",
    "        # save resulting possible scores if any otherwise None\n",
    "        if self.possible_scores():\n",
    "            for dh in self.possible_scores():\n",
    "                dh: go.DiceHand\n",
    "                self.possible_score_obs += 1\n",
    "                self.possible_score_frequencies[dh] += 1\n",
    "        else:\n",
    "            self.possible_score_frequencies[None] += 1\n",
    "\n",
    "    @property\n",
    "    def E_any_score(self):\n",
    "        return 1 - (self.possible_score_frequencies[None] / self.roll_obs)\n",
    "\n",
    "    @property\n",
    "    def E_score_arithmetic(self):\n",
    "        E_score = 0\n",
    "        for dh, freq in self.possible_score_frequencies.items():\n",
    "            if dh: E_score += dh.score * freq\n",
    "        return (E_score / self.possible_score_obs) * self.E_any_score"
   ]
  },
  {
   "cell_type": "code",
   "execution_count": 5,
   "id": "778bf825-3e7f-45c5-9a23-8029b0df5527",
   "metadata": {},
   "outputs": [],
   "source": [
    "mcdh = MonteCarloDiceHand(3)"
   ]
  },
  {
   "cell_type": "code",
   "execution_count": 6,
   "id": "f2790a4f-c2dc-4fe2-bcbb-5b5eeaefd416",
   "metadata": {},
   "outputs": [
    {
     "data": {
      "text/plain": [
       "DiceHand(4, 4, 4, score=0)"
      ]
     },
     "execution_count": 6,
     "metadata": {},
     "output_type": "execute_result"
    }
   ],
   "source": [
    "mcdh"
   ]
  },
  {
   "cell_type": "code",
   "execution_count": 7,
   "id": "ae18d991-530e-40cb-81a1-e336d71dcb0b",
   "metadata": {},
   "outputs": [],
   "source": [
    "mcdh.roll()"
   ]
  },
  {
   "cell_type": "code",
   "execution_count": 8,
   "id": "7493941b-e978-479f-bb5d-49a9309e5a72",
   "metadata": {},
   "outputs": [
    {
     "data": {
      "text/plain": [
       "DiceHand(1, 2, 2, score=0)"
      ]
     },
     "execution_count": 8,
     "metadata": {},
     "output_type": "execute_result"
    }
   ],
   "source": [
    "mcdh"
   ]
  },
  {
   "cell_type": "code",
   "execution_count": 9,
   "id": "b0fe110c-86bb-4d75-8c58-3dbc4cae403e",
   "metadata": {},
   "outputs": [
    {
     "data": {
      "text/plain": [
       "defaultdict(int, {DiceHand(1, score=100): 1})"
      ]
     },
     "execution_count": 9,
     "metadata": {},
     "output_type": "execute_result"
    }
   ],
   "source": [
    "mcdh.possible_score_frequencies"
   ]
  },
  {
   "cell_type": "code",
   "execution_count": 10,
   "id": "4e9f75ba-2a4c-4336-a454-0dc271bdb322",
   "metadata": {},
   "outputs": [],
   "source": [
    "for i in range(4):\n",
    "    mcdh.roll()"
   ]
  },
  {
   "cell_type": "code",
   "execution_count": 11,
   "id": "1718a7cf-840d-4563-8d20-120ffb7cfef0",
   "metadata": {},
   "outputs": [
    {
     "data": {
      "text/plain": [
       "defaultdict(int,\n",
       "            {DiceHand(1, score=100): 1,\n",
       "             None: 3,\n",
       "             DiceHand(5, score=50): 1,\n",
       "             DiceHand(5, 5, score=100): 1})"
      ]
     },
     "execution_count": 11,
     "metadata": {},
     "output_type": "execute_result"
    }
   ],
   "source": [
    "mcdh.possible_score_frequencies"
   ]
  },
  {
   "cell_type": "code",
   "execution_count": 13,
   "id": "425772f3-ef75-4e3c-bb53-c24d6571a6e2",
   "metadata": {},
   "outputs": [
    {
     "data": {
      "text/plain": [
       "5"
      ]
     },
     "execution_count": 13,
     "metadata": {},
     "output_type": "execute_result"
    }
   ],
   "source": [
    "mcdh.roll_obs"
   ]
  },
  {
   "cell_type": "code",
   "execution_count": 14,
   "id": "1ebc7770-7f60-40af-90fb-d9c1c5258294",
   "metadata": {},
   "outputs": [
    {
     "data": {
      "text/plain": [
       "0.4"
      ]
     },
     "execution_count": 14,
     "metadata": {},
     "output_type": "execute_result"
    }
   ],
   "source": [
    "mcdh.E_any_score"
   ]
  },
  {
   "cell_type": "code",
   "execution_count": 15,
   "id": "4dd421d0-e2d9-4e1d-a7cd-f9c94721e766",
   "metadata": {},
   "outputs": [
    {
     "data": {
      "text/plain": [
       "33.333333333333336"
      ]
     },
     "execution_count": 15,
     "metadata": {},
     "output_type": "execute_result"
    }
   ],
   "source": [
    "mcdh.E_score_arithmetic"
   ]
  },
  {
   "cell_type": "code",
   "execution_count": null,
   "id": "ec78e1ac-30be-4cae-8943-5c413e32b24e",
   "metadata": {},
   "outputs": [],
   "source": []
  },
  {
   "cell_type": "code",
   "execution_count": null,
   "id": "7fccac1e-d975-4bf4-9c44-924a80090d77",
   "metadata": {},
   "outputs": [],
   "source": []
  },
  {
   "cell_type": "code",
   "execution_count": null,
   "id": "1e3d3e40-8b66-4780-874f-84979631b4eb",
   "metadata": {},
   "outputs": [],
   "source": []
  },
  {
   "cell_type": "code",
   "execution_count": null,
   "id": "d58e41b8-3653-4d2f-b729-40d2a674e573",
   "metadata": {},
   "outputs": [],
   "source": []
  },
  {
   "cell_type": "code",
   "execution_count": null,
   "id": "83a3af8b-5b40-45dd-add3-b1e88fd725cf",
   "metadata": {},
   "outputs": [],
   "source": []
  },
  {
   "cell_type": "code",
   "execution_count": null,
   "id": "fbc4da60-eb3c-4ed0-81eb-fbc5135f3906",
   "metadata": {},
   "outputs": [],
   "source": []
  },
  {
   "cell_type": "code",
   "execution_count": null,
   "id": "81ef2fcb-ae59-46c9-874e-846101331299",
   "metadata": {},
   "outputs": [],
   "source": []
  },
  {
   "cell_type": "code",
   "execution_count": null,
   "id": "1f54fda3-4c43-4b63-97c0-3bcbbed1a08b",
   "metadata": {},
   "outputs": [],
   "source": []
  },
  {
   "cell_type": "code",
   "execution_count": null,
   "id": "a7053719-1cce-4227-9fdf-d05bc9f1eb83",
   "metadata": {},
   "outputs": [],
   "source": []
  },
  {
   "cell_type": "code",
   "execution_count": null,
   "id": "a3f962af-aa32-46e3-872f-050e461090dc",
   "metadata": {},
   "outputs": [],
   "source": []
  },
  {
   "cell_type": "code",
   "execution_count": null,
   "id": "f059b710-354d-4dd2-9fc3-e202bad27ec4",
   "metadata": {},
   "outputs": [],
   "source": []
  }
 ],
 "metadata": {
  "kernelspec": {
   "display_name": "my-venv",
   "language": "python",
   "name": "my-venv"
  },
  "language_info": {
   "codemirror_mode": {
    "name": "ipython",
    "version": 3
   },
   "file_extension": ".py",
   "mimetype": "text/x-python",
   "name": "python",
   "nbconvert_exporter": "python",
   "pygments_lexer": "ipython3",
   "version": "3.10.9"
  }
 },
 "nbformat": 4,
 "nbformat_minor": 5
}
