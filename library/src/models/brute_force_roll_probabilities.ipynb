{
 "cells": [
  {
   "cell_type": "markdown",
   "id": "24eca8ff-a261-45c5-a717-f65ce02ee5d0",
   "metadata": {},
   "source": [
    "# Score frequencies"
   ]
  },
  {
   "cell_type": "code",
   "execution_count": 1,
   "id": "ff6495fb-a1dc-46ce-a53e-4575f0309a42",
   "metadata": {},
   "outputs": [],
   "source": [
    "import sys\n",
    "sys.path.insert(0, '../../src')\n",
    "\n",
    "import json\n",
    "import random\n",
    "from time import perf_counter\n",
    "from collections import defaultdict\n",
    "\n",
    "from farkle.logic import gameobjects as go"
   ]
  },
  {
   "cell_type": "code",
   "execution_count": null,
   "id": "5bab7928-432a-45b9-bebd-c5bc663f2fb7",
   "metadata": {},
   "outputs": [],
   "source": []
  },
  {
   "cell_type": "code",
   "execution_count": 2,
   "id": "3dec08b8-3568-4915-af09-3ee2c88f4f34",
   "metadata": {},
   "outputs": [],
   "source": [
    "# for saving dicehands as json\n",
    "class DiceHandEncoder(json.JSONEncoder):\n",
    "    def default(self, obj):\n",
    "        if isinstance(obj, go.DiceHand):\n",
    "            return obj.json_encode\n",
    "        return super().default(obj)\n",
    "    \n",
    "def as_dicehand(dct):\n",
    "    if '__DiceHand__' in dct:\n",
    "        return go.DiceHand.json_decode(dct)\n",
    "    return dct\n",
    "\n",
    "def hash_frequencies(possible_score_frequencies):\n",
    "    hash_to_dh = {}\n",
    "    hash_to_freq = {}\n",
    "    for d in possible_score_frequencies.keys():\n",
    "        hash_to_freq[d] = {}\n",
    "        for dh, freq in possible_score_frequencies[d].items():\n",
    "            hash_to_dh[str(hash(dh))] = dh\n",
    "            hash_to_freq[d][str(hash(dh))] = freq\n",
    "    return hash_to_dh, hash_to_freq\n",
    "\n",
    "def unhash_frequencies(hash_to_dh, hash_to_freq):\n",
    "    _possible_score_freq = {}\n",
    "    for d in hash_to_freq:\n",
    "        d_int = int(d)\n",
    "        _possible_score_freq[d_int] = defaultdict(int)\n",
    "        for h, freq in hash_to_freq[d].items():\n",
    "            if hash_to_dh[h] is not None:\n",
    "                dh = go.DiceHand.json_decode(hash_to_dh[h])\n",
    "            else:\n",
    "                dh = None\n",
    "            _possible_score_freq[d_int][dh] = int(freq)\n",
    "    return _possible_score_freq\n",
    "\n",
    "def json_encode(possible_score_frequencies):\n",
    "    hash_to_dh, hash_to_freq = hash_frequencies(possible_score_frequencies)\n",
    "    d = {'hash_to_dh': hash_to_dh, \n",
    "         'hash_to_freq': hash_to_freq}\n",
    "    return json.dumps(d, cls=DiceHandEncoder)\n",
    "\n",
    "def save_freq(path: str, possible_score_frequencies: dict):\n",
    "    j = json_encode(possible_score_frequencies)\n",
    "    with open(path, 'w') as f:\n",
    "        f.write(j)\n",
    "\n",
    "def load_freq(path: str):\n",
    "    with open(path, 'r') as f:\n",
    "        j = json.loads(f.read())\n",
    "\n",
    "    return unhash_frequencies(j['hash_to_dh'], j['hash_to_freq'])"
   ]
  },
  {
   "cell_type": "code",
   "execution_count": null,
   "id": "0493d73e-b897-45a2-93b1-483a2f8f4ab8",
   "metadata": {},
   "outputs": [],
   "source": []
  },
  {
   "cell_type": "code",
   "execution_count": 4,
   "id": "cd1ab437-29d3-44ca-9453-08ecc82a7ad7",
   "metadata": {
    "tags": []
   },
   "outputs": [],
   "source": [
    "# this will only return unique combinations of dice\n",
    "# so has 1,2 but not 2,1\n",
    "# but think I have to count duplicates for frequencies to be correct\n",
    "\n",
    "l1 = [','.join([str(i)]) for i in range(1, 6+1)]\n",
    "# l1\n",
    "\n",
    "l2 = [','.join([str(j)] + i.split(',')) \n",
    "      for j in range(1, 6+1) \n",
    "      for i in l1 \n",
    "      if j >= max([int(i) for i in i.split(',')])]\n",
    "# l2"
   ]
  },
  {
   "cell_type": "code",
   "execution_count": 10,
   "id": "70f2a84a-17e5-466a-8fc2-f00a83556e2e",
   "metadata": {
    "tags": []
   },
   "outputs": [],
   "source": [
    "# this includes duplicates \n",
    "# I need to include dups to get probs correct\n",
    "\n",
    "l1 = [[i] for i in range(1, 6+1)]\n",
    "# l1\n",
    "\n",
    "l2 = [[j] + i \n",
    "      for j in range(1, 6+1) \n",
    "      for i in l1 \n",
    "      # if j >= max(i)\n",
    "     ]\n",
    "# l2"
   ]
  },
  {
   "cell_type": "code",
   "execution_count": null,
   "id": "f5e0e9c4-c4dc-4d4e-9958-05a408874cd3",
   "metadata": {},
   "outputs": [],
   "source": []
  },
  {
   "cell_type": "code",
   "execution_count": 5,
   "id": "b8fd79be-15ba-40bb-a0f4-3538bb1f288f",
   "metadata": {
    "tags": []
   },
   "outputs": [
    {
     "name": "stdout",
     "output_type": "stream",
     "text": [
      "1 dice | #################### | 100%\n",
      "2 dice | #################### | 100%\n",
      "3 dice | #################### | 100%\n",
      "4 dice | #################### | 100%\n",
      "5 dice | #################### | 100%\n",
      "6 dice | #################### | 100%\n"
     ]
    }
   ],
   "source": [
    "num_dice = 6\n",
    "possible_score_frequencies = {i: defaultdict(int) for i in range(1, num_dice+1)}\n",
    "\n",
    "# all possible 1 die combinations\n",
    "hand_size = 1\n",
    "hand_size_dice_hands = [[i] for i in range(1, num_dice+1)]\n",
    "\n",
    "for hand_size in range(1, num_dice+1):\n",
    "    dv_count = 0\n",
    "    for dice_vals in hand_size_dice_hands:\n",
    "        dh = go.DiceHand(dice_vals)\n",
    "        if not dh.farkled:\n",
    "            for ps in dh.possible_scores():\n",
    "                possible_score_frequencies[hand_size][ps] += 1\n",
    "        else:\n",
    "            possible_score_frequencies[hand_size][None] += 1\n",
    "        \n",
    "        dv_count += 1\n",
    "        write_str = f'\\r{hand_size} dice | '\n",
    "        write_str += f'{\"#\" * int(dv_count * 20 / len(hand_size_dice_hands))}'\n",
    "        write_str += f'{\" \" * (20 - int(dv_count * 20 / len(hand_size_dice_hands)))} | '\n",
    "        write_str += f'{int(dv_count * 100 / len(hand_size_dice_hands))}%'\n",
    "        sys.stdout.write(write_str)\n",
    "    \n",
    "    hand_size_dice_hands = [[j] + i for j in range(1, num_dice+1) for i in hand_size_dice_hands]\n",
    "    \n",
    "    sys.stdout.write('\\n')\n",
    "    \n",
    "freq_path = '../../../models/possible_score_frequencies.json'\n",
    "save_freq(freq_path, possible_score_frequencies)"
   ]
  },
  {
   "cell_type": "code",
   "execution_count": 32,
   "id": "50725404-87bc-4181-ba9a-a7627cca1a88",
   "metadata": {},
   "outputs": [],
   "source": [
    "freq_path = '../../../models/possible_score_frequencies.json'\n",
    "possible_score_frequencies = load_freq(freq_path)"
   ]
  },
  {
   "cell_type": "code",
   "execution_count": 33,
   "id": "c45904de-7a41-4031-917a-482ed1f0acd6",
   "metadata": {},
   "outputs": [
    {
     "data": {
      "text/plain": [
       "defaultdict(int,\n",
       "            {DiceHand(free=[1, 1, 1], locked=[], score=1000): 1,\n",
       "             DiceHand(free=[1, 1], locked=[], score=200): 16,\n",
       "             DiceHand(free=[1], locked=[], score=100): 91,\n",
       "             DiceHand(free=[1, 1, 1], locked=[], score=300): 1,\n",
       "             DiceHand(free=[1, 1, 5], locked=[], score=250): 3,\n",
       "             DiceHand(free=[5], locked=[], score=50): 91,\n",
       "             DiceHand(free=[1, 5], locked=[], score=150): 30,\n",
       "             DiceHand(free=[5, 5], locked=[], score=100): 16,\n",
       "             DiceHand(free=[1, 5, 5], locked=[], score=200): 3,\n",
       "             DiceHand(free=[2, 2, 2], locked=[], score=200): 1,\n",
       "             None: 60,\n",
       "             DiceHand(free=[3, 3, 3], locked=[], score=300): 1,\n",
       "             DiceHand(free=[4, 4, 4], locked=[], score=400): 1,\n",
       "             DiceHand(free=[5, 5, 5], locked=[], score=500): 1,\n",
       "             DiceHand(free=[5, 5, 5], locked=[], score=150): 1,\n",
       "             DiceHand(free=[6, 6, 6], locked=[], score=600): 1})"
      ]
     },
     "execution_count": 33,
     "metadata": {},
     "output_type": "execute_result"
    }
   ],
   "source": [
    "possible_score_frequencies[3]"
   ]
  },
  {
   "cell_type": "code",
   "execution_count": 37,
   "id": "ef582649-3539-4513-ac34-00c469084a40",
   "metadata": {},
   "outputs": [],
   "source": [
    "# count num ways i dice can transition to j dice remaining\n",
    "transition_probs = {i: {j: 0 for j in range(0, 6+1)} for i in range(1, 6+1)}\n",
    "\n",
    "for i in possible_score_frequencies:\n",
    "    for dh in possible_score_frequencies[i]:\n",
    "        if dh is not None:\n",
    "            transition_probs[i][i - dh.num_dice] += 1\n",
    "        else:\n",
    "            transition_probs[i][i] += possible_score_frequencies[i][None]"
   ]
  },
  {
   "cell_type": "code",
   "execution_count": 39,
   "id": "49ea7a02-9e02-4729-9239-0019caad500a",
   "metadata": {},
   "outputs": [
    {
     "data": {
      "text/plain": [
       "{1: {0: 2, 1: 4, 2: 0, 3: 0, 4: 0, 5: 0, 6: 0},\n",
       " 2: {0: 3, 1: 2, 2: 16, 3: 0, 4: 0, 5: 0, 6: 0},\n",
       " 3: {0: 10, 1: 3, 2: 2, 3: 60, 4: 0, 5: 0, 6: 0},\n",
       " 4: {0: 17, 1: 10, 2: 3, 3: 2, 4: 204, 5: 0, 6: 0},\n",
       " 5: {0: 24, 1: 17, 2: 10, 3: 3, 4: 2, 5: 600, 6: 0},\n",
       " 6: {0: 52, 1: 24, 2: 17, 3: 10, 4: 3, 5: 2, 6: 1440}}"
      ]
     },
     "execution_count": 39,
     "metadata": {},
     "output_type": "execute_result"
    }
   ],
   "source": [
    "# transition_probs[i][j] represents the number of ways a dicehand with\n",
    "# i dice can transition to a dicehand with j dice. \n",
    "# i == j is a farkle\n",
    "# j == 0 is around the horn\n",
    "\n",
    "transition_probs"
   ]
  },
  {
   "cell_type": "code",
   "execution_count": null,
   "id": "3c31f5c0-d092-402f-bcab-349bd5a2f7a9",
   "metadata": {},
   "outputs": [],
   "source": []
  },
  {
   "cell_type": "code",
   "execution_count": null,
   "id": "cfef95cb-d745-47b0-87cb-48bdd2b9e80d",
   "metadata": {},
   "outputs": [],
   "source": []
  }
 ],
 "metadata": {
  "kernelspec": {
   "display_name": "my-venv",
   "language": "python",
   "name": "my-venv"
  },
  "language_info": {
   "codemirror_mode": {
    "name": "ipython",
    "version": 3
   },
   "file_extension": ".py",
   "mimetype": "text/x-python",
   "name": "python",
   "nbconvert_exporter": "python",
   "pygments_lexer": "ipython3",
   "version": "3.10.9"
  }
 },
 "nbformat": 4,
 "nbformat_minor": 5
}
