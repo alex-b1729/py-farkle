{
 "cells": [
  {
   "cell_type": "markdown",
   "id": "df9ea608-5f85-445f-a06f-5e7422466775",
   "metadata": {},
   "source": [
    "# Probabilities through monte carlo simulations"
   ]
  },
  {
   "cell_type": "markdown",
   "id": "4084eca0-0af4-4f1e-a876-7545716c0270",
   "metadata": {},
   "source": [
    "Here, rather than training a model to predict the $E[\\text{dice roll score}]$, I just build a monte carlo simulation. "
   ]
  },
  {
   "cell_type": "code",
   "execution_count": 1,
   "id": "a866c8c2-3ccd-41f1-b7e0-e55ba0484a05",
   "metadata": {},
   "outputs": [],
   "source": [
    "import sys\n",
    "sys.path.insert(0, '../../src')"
   ]
  },
  {
   "cell_type": "code",
   "execution_count": 2,
   "id": "1501a200-d112-4478-be23-678a24af7992",
   "metadata": {},
   "outputs": [],
   "source": [
    "import json\n",
    "import random\n",
    "from time import perf_counter\n",
    "from collections import defaultdict\n",
    "\n",
    "from farkle.logic import gameobjects as go"
   ]
  },
  {
   "cell_type": "code",
   "execution_count": null,
   "id": "9c26ddfd-d746-421c-9dbe-1a9da1f2a2eb",
   "metadata": {},
   "outputs": [],
   "source": []
  },
  {
   "cell_type": "code",
   "execution_count": 3,
   "id": "1e22a3da-540a-41c8-9f52-0513cc7223e6",
   "metadata": {},
   "outputs": [
    {
     "data": {
      "text/plain": [
       "[]"
      ]
     },
     "execution_count": 3,
     "metadata": {},
     "output_type": "execute_result"
    }
   ],
   "source": [
    "dh = go.DiceHand(2,3)\n",
    "dh.possible_scores()"
   ]
  },
  {
   "cell_type": "code",
   "execution_count": 4,
   "id": "6420f151-14d4-4418-9d85-57d3728c9651",
   "metadata": {},
   "outputs": [],
   "source": [
    "# for saving dicehands as json\n",
    "class DiceHandEncoder(json.JSONEncoder):\n",
    "    def default(self, obj):\n",
    "        if isinstance(obj, go.DiceHand):\n",
    "            return obj.json_encode\n",
    "        return super().default(obj)\n",
    "    \n",
    "def as_dicehand(dct):\n",
    "    if '__DiceHand__' in dct:\n",
    "        return go.DiceHand.json_decode(dct)\n",
    "    return dct"
   ]
  },
  {
   "cell_type": "code",
   "execution_count": 5,
   "id": "e1a6cdda-ff59-48c7-b82b-fe3bf5ad7795",
   "metadata": {},
   "outputs": [],
   "source": [
    "j = json.dumps({'dh': dh}, cls=DiceHandEncoder)"
   ]
  },
  {
   "cell_type": "code",
   "execution_count": 6,
   "id": "3fd55566-9a75-4d6e-82fa-30cc5d9601dc",
   "metadata": {},
   "outputs": [
    {
     "data": {
      "text/plain": [
       "'{\"dh\": {\"__DiceHand__\": true, \"free\": [2, 3], \"locked\": [], \"score\": 0}}'"
      ]
     },
     "execution_count": 6,
     "metadata": {},
     "output_type": "execute_result"
    }
   ],
   "source": [
    "j"
   ]
  },
  {
   "cell_type": "code",
   "execution_count": 7,
   "id": "38395d3a-b5a4-42f5-8a74-0008335b71a2",
   "metadata": {},
   "outputs": [],
   "source": [
    "jl = json.loads(j, object_hook=as_dicehand)"
   ]
  },
  {
   "cell_type": "code",
   "execution_count": 8,
   "id": "9edb0661-81a9-4716-bfe7-366ddb974452",
   "metadata": {},
   "outputs": [
    {
     "data": {
      "text/plain": [
       "{'dh': DiceHand(free=[2, 3], locked=[], score=0)}"
      ]
     },
     "execution_count": 8,
     "metadata": {},
     "output_type": "execute_result"
    }
   ],
   "source": [
    "jl"
   ]
  },
  {
   "cell_type": "code",
   "execution_count": null,
   "id": "2aff2b0b-961d-4938-9152-366845fb591e",
   "metadata": {},
   "outputs": [],
   "source": []
  },
  {
   "cell_type": "code",
   "execution_count": 19,
   "id": "a8eaefc0-0179-4caf-8b75-376ebebe6ab1",
   "metadata": {},
   "outputs": [
    {
     "ename": "TypeError",
     "evalue": "keys must be str, int, float, bool or None, not DiceHand",
     "output_type": "error",
     "traceback": [
      "\u001b[0;31m---------------------------------------------------------------------------\u001b[0m",
      "\u001b[0;31mTypeError\u001b[0m                                 Traceback (most recent call last)",
      "Cell \u001b[0;32mIn[19], line 1\u001b[0m\n\u001b[0;32m----> 1\u001b[0m j \u001b[38;5;241m=\u001b[39m \u001b[43mjson\u001b[49m\u001b[38;5;241;43m.\u001b[39;49m\u001b[43mdumps\u001b[49m\u001b[43m(\u001b[49m\u001b[43m{\u001b[49m\u001b[43mdh\u001b[49m\u001b[43m:\u001b[49m\u001b[43m \u001b[49m\u001b[38;5;241;43m5\u001b[39;49m\u001b[43m}\u001b[49m\u001b[43m,\u001b[49m\u001b[43m \u001b[49m\u001b[38;5;28;43mcls\u001b[39;49m\u001b[38;5;241;43m=\u001b[39;49m\u001b[43mDiceHandEncoder\u001b[49m\u001b[43m)\u001b[49m\n",
      "File \u001b[0;32m~/anaconda3/lib/python3.10/json/__init__.py:238\u001b[0m, in \u001b[0;36mdumps\u001b[0;34m(obj, skipkeys, ensure_ascii, check_circular, allow_nan, cls, indent, separators, default, sort_keys, **kw)\u001b[0m\n\u001b[1;32m    232\u001b[0m \u001b[38;5;28;01mif\u001b[39;00m \u001b[38;5;28mcls\u001b[39m \u001b[38;5;129;01mis\u001b[39;00m \u001b[38;5;28;01mNone\u001b[39;00m:\n\u001b[1;32m    233\u001b[0m     \u001b[38;5;28mcls\u001b[39m \u001b[38;5;241m=\u001b[39m JSONEncoder\n\u001b[1;32m    234\u001b[0m \u001b[38;5;28;01mreturn\u001b[39;00m \u001b[38;5;28;43mcls\u001b[39;49m\u001b[43m(\u001b[49m\n\u001b[1;32m    235\u001b[0m \u001b[43m    \u001b[49m\u001b[43mskipkeys\u001b[49m\u001b[38;5;241;43m=\u001b[39;49m\u001b[43mskipkeys\u001b[49m\u001b[43m,\u001b[49m\u001b[43m \u001b[49m\u001b[43mensure_ascii\u001b[49m\u001b[38;5;241;43m=\u001b[39;49m\u001b[43mensure_ascii\u001b[49m\u001b[43m,\u001b[49m\n\u001b[1;32m    236\u001b[0m \u001b[43m    \u001b[49m\u001b[43mcheck_circular\u001b[49m\u001b[38;5;241;43m=\u001b[39;49m\u001b[43mcheck_circular\u001b[49m\u001b[43m,\u001b[49m\u001b[43m \u001b[49m\u001b[43mallow_nan\u001b[49m\u001b[38;5;241;43m=\u001b[39;49m\u001b[43mallow_nan\u001b[49m\u001b[43m,\u001b[49m\u001b[43m \u001b[49m\u001b[43mindent\u001b[49m\u001b[38;5;241;43m=\u001b[39;49m\u001b[43mindent\u001b[49m\u001b[43m,\u001b[49m\n\u001b[1;32m    237\u001b[0m \u001b[43m    \u001b[49m\u001b[43mseparators\u001b[49m\u001b[38;5;241;43m=\u001b[39;49m\u001b[43mseparators\u001b[49m\u001b[43m,\u001b[49m\u001b[43m \u001b[49m\u001b[43mdefault\u001b[49m\u001b[38;5;241;43m=\u001b[39;49m\u001b[43mdefault\u001b[49m\u001b[43m,\u001b[49m\u001b[43m \u001b[49m\u001b[43msort_keys\u001b[49m\u001b[38;5;241;43m=\u001b[39;49m\u001b[43msort_keys\u001b[49m\u001b[43m,\u001b[49m\n\u001b[0;32m--> 238\u001b[0m \u001b[43m    \u001b[49m\u001b[38;5;241;43m*\u001b[39;49m\u001b[38;5;241;43m*\u001b[39;49m\u001b[43mkw\u001b[49m\u001b[43m)\u001b[49m\u001b[38;5;241;43m.\u001b[39;49m\u001b[43mencode\u001b[49m\u001b[43m(\u001b[49m\u001b[43mobj\u001b[49m\u001b[43m)\u001b[49m\n",
      "File \u001b[0;32m~/anaconda3/lib/python3.10/json/encoder.py:199\u001b[0m, in \u001b[0;36mJSONEncoder.encode\u001b[0;34m(self, o)\u001b[0m\n\u001b[1;32m    195\u001b[0m         \u001b[38;5;28;01mreturn\u001b[39;00m encode_basestring(o)\n\u001b[1;32m    196\u001b[0m \u001b[38;5;66;03m# This doesn't pass the iterator directly to ''.join() because the\u001b[39;00m\n\u001b[1;32m    197\u001b[0m \u001b[38;5;66;03m# exceptions aren't as detailed.  The list call should be roughly\u001b[39;00m\n\u001b[1;32m    198\u001b[0m \u001b[38;5;66;03m# equivalent to the PySequence_Fast that ''.join() would do.\u001b[39;00m\n\u001b[0;32m--> 199\u001b[0m chunks \u001b[38;5;241m=\u001b[39m \u001b[38;5;28;43mself\u001b[39;49m\u001b[38;5;241;43m.\u001b[39;49m\u001b[43miterencode\u001b[49m\u001b[43m(\u001b[49m\u001b[43mo\u001b[49m\u001b[43m,\u001b[49m\u001b[43m \u001b[49m\u001b[43m_one_shot\u001b[49m\u001b[38;5;241;43m=\u001b[39;49m\u001b[38;5;28;43;01mTrue\u001b[39;49;00m\u001b[43m)\u001b[49m\n\u001b[1;32m    200\u001b[0m \u001b[38;5;28;01mif\u001b[39;00m \u001b[38;5;129;01mnot\u001b[39;00m \u001b[38;5;28misinstance\u001b[39m(chunks, (\u001b[38;5;28mlist\u001b[39m, \u001b[38;5;28mtuple\u001b[39m)):\n\u001b[1;32m    201\u001b[0m     chunks \u001b[38;5;241m=\u001b[39m \u001b[38;5;28mlist\u001b[39m(chunks)\n",
      "File \u001b[0;32m~/anaconda3/lib/python3.10/json/encoder.py:257\u001b[0m, in \u001b[0;36mJSONEncoder.iterencode\u001b[0;34m(self, o, _one_shot)\u001b[0m\n\u001b[1;32m    252\u001b[0m \u001b[38;5;28;01melse\u001b[39;00m:\n\u001b[1;32m    253\u001b[0m     _iterencode \u001b[38;5;241m=\u001b[39m _make_iterencode(\n\u001b[1;32m    254\u001b[0m         markers, \u001b[38;5;28mself\u001b[39m\u001b[38;5;241m.\u001b[39mdefault, _encoder, \u001b[38;5;28mself\u001b[39m\u001b[38;5;241m.\u001b[39mindent, floatstr,\n\u001b[1;32m    255\u001b[0m         \u001b[38;5;28mself\u001b[39m\u001b[38;5;241m.\u001b[39mkey_separator, \u001b[38;5;28mself\u001b[39m\u001b[38;5;241m.\u001b[39mitem_separator, \u001b[38;5;28mself\u001b[39m\u001b[38;5;241m.\u001b[39msort_keys,\n\u001b[1;32m    256\u001b[0m         \u001b[38;5;28mself\u001b[39m\u001b[38;5;241m.\u001b[39mskipkeys, _one_shot)\n\u001b[0;32m--> 257\u001b[0m \u001b[38;5;28;01mreturn\u001b[39;00m \u001b[43m_iterencode\u001b[49m\u001b[43m(\u001b[49m\u001b[43mo\u001b[49m\u001b[43m,\u001b[49m\u001b[43m \u001b[49m\u001b[38;5;241;43m0\u001b[39;49m\u001b[43m)\u001b[49m\n",
      "\u001b[0;31mTypeError\u001b[0m: keys must be str, int, float, bool or None, not DiceHand"
     ]
    }
   ],
   "source": [
    "# cant use dicehand as key even with encoder\n",
    "# maybe use the hash? \n",
    "j = json.dumps({dh: 5}, cls=DiceHandEncoder)"
   ]
  },
  {
   "cell_type": "code",
   "execution_count": 20,
   "id": "8b9dc71d-2166-4708-96d6-a9d3e76dedd2",
   "metadata": {},
   "outputs": [
    {
     "data": {
      "text/plain": [
       "-1025832054940974799"
      ]
     },
     "execution_count": 20,
     "metadata": {},
     "output_type": "execute_result"
    }
   ],
   "source": [
    "hash(dh)"
   ]
  },
  {
   "cell_type": "code",
   "execution_count": 40,
   "id": "2ad9371e-06bf-403b-966f-16f084bc6452",
   "metadata": {},
   "outputs": [
    {
     "data": {
      "text/plain": [
       "int"
      ]
     },
     "execution_count": 40,
     "metadata": {},
     "output_type": "execute_result"
    }
   ],
   "source": [
    "type(hash(dh))"
   ]
  },
  {
   "cell_type": "code",
   "execution_count": 6,
   "id": "7ccb0342-47cc-461f-a950-6cf8d36bff2c",
   "metadata": {},
   "outputs": [
    {
     "data": {
      "text/plain": [
       "'{\"dh\": {\"__DiceHand__\": true, \"free\": [2, 3], \"locked\": [], \"score\": 0}}'"
      ]
     },
     "execution_count": 6,
     "metadata": {},
     "output_type": "execute_result"
    }
   ],
   "source": [
    "j"
   ]
  },
  {
   "cell_type": "code",
   "execution_count": 7,
   "id": "602da4ca-c3e0-4828-99cf-89a93f92503e",
   "metadata": {},
   "outputs": [],
   "source": [
    "jl = json.loads(j, object_hook=as_dicehand)"
   ]
  },
  {
   "cell_type": "code",
   "execution_count": 8,
   "id": "5d68c3b0-4ca9-412f-843b-6d98051ce506",
   "metadata": {},
   "outputs": [
    {
     "data": {
      "text/plain": [
       "{'dh': DiceHand(free=[2, 3], locked=[], score=0)}"
      ]
     },
     "execution_count": 8,
     "metadata": {},
     "output_type": "execute_result"
    }
   ],
   "source": [
    "jl"
   ]
  },
  {
   "cell_type": "code",
   "execution_count": 9,
   "id": "28c0f337-1aea-4a07-9684-b42a84a259ca",
   "metadata": {},
   "outputs": [
    {
     "data": {
      "text/plain": [
       "farkle.logic.gameobjects.DiceHand"
      ]
     },
     "execution_count": 9,
     "metadata": {},
     "output_type": "execute_result"
    }
   ],
   "source": [
    "type(jl['dh'])"
   ]
  },
  {
   "cell_type": "code",
   "execution_count": 10,
   "id": "cd81979d-8a1c-4bf5-823e-1216e66a9dfb",
   "metadata": {},
   "outputs": [],
   "source": [
    "d = {0: 'a', 1: 'b'}"
   ]
  },
  {
   "cell_type": "code",
   "execution_count": 11,
   "id": "cfb63a3a-4146-49e2-8bcb-acc920ddf5d5",
   "metadata": {},
   "outputs": [
    {
     "data": {
      "text/plain": [
       "\"{0: 'a', 1: 'b'}\""
      ]
     },
     "execution_count": 11,
     "metadata": {},
     "output_type": "execute_result"
    }
   ],
   "source": [
    "str(d)"
   ]
  },
  {
   "cell_type": "code",
   "execution_count": 12,
   "id": "1d6d299d-e338-4e30-ba17-ca416e3d0bec",
   "metadata": {},
   "outputs": [
    {
     "name": "stdout",
     "output_type": "stream",
     "text": [
      "{0: 'a', 1: 'b'}\n"
     ]
    }
   ],
   "source": [
    "print(d)"
   ]
  },
  {
   "cell_type": "code",
   "execution_count": null,
   "id": "ebd505e3-842d-40c6-86c7-0ced9f83c422",
   "metadata": {},
   "outputs": [],
   "source": []
  },
  {
   "cell_type": "code",
   "execution_count": 113,
   "id": "fcb89314-61cd-40f3-9801-164c740a34ef",
   "metadata": {},
   "outputs": [],
   "source": [
    "class MonteCarloSimulation(object):\n",
    "    def __init__(self, max_dice: int = 6):\n",
    "        self.max_dice = max_dice\n",
    "        self.dice_range = range(1, self.max_dice + 1)\n",
    "        self.dice_hands = {i: go.DiceHand(num_dice=i) for i in self.dice_range}\n",
    "        \n",
    "        self.roll_obs = {i: 0 for i in self.dice_range}\n",
    "        self.possible_score_obs = {i: 0 for i in self.dice_range}\n",
    "        self.possible_score_frequencies = {i: defaultdict(int) for i in self.dice_range}\n",
    "        \n",
    "    def roll(self, num_dice: int):\n",
    "        self.dice_hands[num_dice].roll()\n",
    "        self.roll_obs[num_dice] += 1\n",
    "        if self.dice_hands[num_dice].possible_scores():\n",
    "            for dh in self.dice_hands[num_dice].possible_scores():\n",
    "                dh: go.DiceHand\n",
    "                self.possible_score_obs[num_dice] += 1\n",
    "                self.possible_score_frequencies[num_dice][dh] += 1\n",
    "        else:\n",
    "            self.possible_score_frequencies[num_dice][None] += 1\n",
    "            \n",
    "    def roll_all(self, num_rolls: int = 1):\n",
    "        \"\"\"Rolls all hands in ratio where 1 dice is 1 roll and \n",
    "        each additional die is 6x more rolls\"\"\"\n",
    "        for die_num in self.dice_range:\n",
    "            for roll_num in range(6**(die_num-1)):\n",
    "                self.roll(die_num)\n",
    "    \n",
    "    def P_farkle(self, num_dice: int):\n",
    "        return self.possible_score_frequencies[num_dice][None] / self.roll_obs[num_dice]\n",
    "    \n",
    "    def E_score(self, num_dice: int):\n",
    "        E_score = 0\n",
    "        for dh, freq in self.possible_score_frequencies[num_dice].items():\n",
    "            if dh: E_score += dh.score * freq\n",
    "        return (E_score / self.possible_score_obs[num_dice]) * (1 - self.P_farkle(num_dice))\n",
    "    \n",
    "    # todo: probs best as an iter\n",
    "    @property\n",
    "    def _hash_frequencies(self):\n",
    "        hash_to_dh = {}\n",
    "        hash_to_freq = {}\n",
    "        for d in self.dice_range:\n",
    "            hash_to_freq[d] = {}\n",
    "            for dh, freq in self.possible_score_frequencies[d].items():\n",
    "                hash_to_dh[str(hash(dh))] = dh\n",
    "                hash_to_freq[d][str(hash(dh))] = freq\n",
    "        return hash_to_dh, hash_to_freq\n",
    "    \n",
    "    @staticmethod\n",
    "    def _unhash_frequencies(hash_to_dh, hash_to_freq):\n",
    "        _possible_score_freq = {}\n",
    "        for d in hash_to_freq:\n",
    "            d_int = int(d)\n",
    "            _possible_score_freq[d_int] = {}\n",
    "            for h, freq in hash_to_freq[d].items():\n",
    "                _possible_score_freq[d_int][hash_to_dh[h]] = int(freq)\n",
    "        return _possible_score_freq\n",
    "        \n",
    "    @property\n",
    "    def json_encode(self):\n",
    "        hash_to_dh, hash_to_freq = self._hash_frequencies\n",
    "        d = {'max_dice': self.max_dice, \n",
    "             'roll_obs': self.roll_obs, \n",
    "             'possible_score_obs': self.possible_score_obs, \n",
    "             'hash_to_dh': hash_to_dh, \n",
    "             'hash_to_freq': hash_to_freq}\n",
    "             # 'possible_score_frequencies': self.possible_score_frequencies}\n",
    "        return json.dumps(d, cls=DiceHandEncoder)\n",
    "    \n",
    "    def save(self, path: str):\n",
    "        j = self.json_encode\n",
    "        with open(path, 'w') as f:\n",
    "            f.write(j)\n",
    "        \n",
    "    @staticmethod\n",
    "    def load(path: str):\n",
    "        with open(path, 'r') as f:\n",
    "            j = json.loads(f.read(), object_hook=as_dicehand)\n",
    "        \n",
    "        mcs = MonteCarloSimulation(j['max_dice'])\n",
    "        mcs.roll_obs = j['roll_obs']\n",
    "        mcs.possible_score_obs = j['possible_score_obs']\n",
    "        mcs.possible_score_frequencies = MonteCarloSimulation._unhash_frequencies(j['hash_to_dh'], \n",
    "                                                                                  j['hash_to_freq'])\n",
    "        return mcs"
   ]
  },
  {
   "cell_type": "code",
   "execution_count": 101,
   "id": "96a4523f-554f-439b-b257-8c06acc184be",
   "metadata": {},
   "outputs": [],
   "source": [
    "mcs = MonteCarloSimulation()"
   ]
  },
  {
   "cell_type": "code",
   "execution_count": 102,
   "id": "36e2bd0e-4f61-45d3-ae26-92ca6a7510d2",
   "metadata": {},
   "outputs": [
    {
     "data": {
      "text/plain": [
       "DiceHand(free=[1, 1, 1, 3, 5, 6], locked=[], score=0)"
      ]
     },
     "execution_count": 102,
     "metadata": {},
     "output_type": "execute_result"
    }
   ],
   "source": [
    "mcs.dice_hands[6]"
   ]
  },
  {
   "cell_type": "code",
   "execution_count": 103,
   "id": "f3792a89-dd6c-4067-96fe-62eee56abfe1",
   "metadata": {},
   "outputs": [],
   "source": [
    "for i in range(20):\n",
    "    mcs.roll(6)"
   ]
  },
  {
   "cell_type": "code",
   "execution_count": 104,
   "id": "a89ab89a-e32c-4451-8e78-4e85c43ca7c5",
   "metadata": {},
   "outputs": [
    {
     "data": {
      "text/plain": [
       "{1: defaultdict(int, {}),\n",
       " 2: defaultdict(int, {}),\n",
       " 3: defaultdict(int, {}),\n",
       " 4: defaultdict(int, {}),\n",
       " 5: defaultdict(int, {}),\n",
       " 6: defaultdict(int,\n",
       "             {DiceHand(free=[6, 6, 6], locked=[], score=600): 3,\n",
       "              DiceHand(free=[1], locked=[], score=100): 15,\n",
       "              DiceHand(free=[1, 5], locked=[], score=150): 13,\n",
       "              DiceHand(free=[1, 5, 5], locked=[], score=200): 5,\n",
       "              DiceHand(free=[5], locked=[], score=50): 16,\n",
       "              DiceHand(free=[5, 5], locked=[], score=100): 5,\n",
       "              DiceHand(free=[1, 1], locked=[], score=200): 4,\n",
       "              DiceHand(free=[1, 1, 5], locked=[], score=250): 4,\n",
       "              DiceHand(free=[1, 1, 5, 5], locked=[], score=300): 2,\n",
       "              None: 1,\n",
       "              DiceHand(free=[1, 4, 4, 4], locked=[], score=500): 1,\n",
       "              DiceHand(free=[4, 4, 4], locked=[], score=400): 1,\n",
       "              DiceHand(free=[1, 6, 6, 6], locked=[], score=700): 2,\n",
       "              DiceHand(free=[1, 5, 6, 6, 6], locked=[], score=750): 1,\n",
       "              DiceHand(free=[5, 6, 6, 6], locked=[], score=650): 1,\n",
       "              DiceHand(free=[3, 3, 3, 5], locked=[], score=350): 1,\n",
       "              DiceHand(free=[3, 3, 3], locked=[], score=300): 1})}"
      ]
     },
     "execution_count": 104,
     "metadata": {},
     "output_type": "execute_result"
    }
   ],
   "source": [
    "mcs.possible_score_frequencies"
   ]
  },
  {
   "cell_type": "code",
   "execution_count": 105,
   "id": "95da6c28-f79c-4099-b656-cd2e74cb06c5",
   "metadata": {},
   "outputs": [],
   "source": [
    "h, f = mcs._hash_frequencies"
   ]
  },
  {
   "cell_type": "code",
   "execution_count": 106,
   "id": "15a9a621-e8ef-4b8e-84e4-fec58d17ef2e",
   "metadata": {},
   "outputs": [
    {
     "data": {
      "text/plain": [
       "{'5084703364844673703': DiceHand(free=[6, 6, 6], locked=[], score=600),\n",
       " '7632524756553394483': DiceHand(free=[1], locked=[], score=100),\n",
       " '6209970323174613410': DiceHand(free=[1, 5], locked=[], score=150),\n",
       " '2390374266854751092': DiceHand(free=[1, 5, 5], locked=[], score=200),\n",
       " '6457213122273063421': DiceHand(free=[5], locked=[], score=50),\n",
       " '5353976940633003237': DiceHand(free=[5, 5], locked=[], score=100),\n",
       " '-1809235098275554318': DiceHand(free=[1, 1], locked=[], score=200),\n",
       " '-7810874240232125281': DiceHand(free=[1, 1, 5], locked=[], score=250),\n",
       " '-2902616736069918135': DiceHand(free=[1, 1, 5, 5], locked=[], score=300),\n",
       " '271773578': None,\n",
       " '-1520611015974714827': DiceHand(free=[1, 4, 4, 4], locked=[], score=500),\n",
       " '-5490153455905078781': DiceHand(free=[4, 4, 4], locked=[], score=400),\n",
       " '-176996419478431460': DiceHand(free=[1, 6, 6, 6], locked=[], score=700),\n",
       " '-6971664803686750677': DiceHand(free=[1, 5, 6, 6, 6], locked=[], score=750),\n",
       " '3573966809515336244': DiceHand(free=[5, 6, 6, 6], locked=[], score=650),\n",
       " '-8432349949530499542': DiceHand(free=[3, 3, 3, 5], locked=[], score=350),\n",
       " '-203550692328843228': DiceHand(free=[3, 3, 3], locked=[], score=300)}"
      ]
     },
     "execution_count": 106,
     "metadata": {},
     "output_type": "execute_result"
    }
   ],
   "source": [
    "h"
   ]
  },
  {
   "cell_type": "code",
   "execution_count": 107,
   "id": "670c1a14-1a8c-45c0-a456-33c23dd900c1",
   "metadata": {},
   "outputs": [
    {
     "data": {
      "text/plain": [
       "{1: {},\n",
       " 2: {},\n",
       " 3: {},\n",
       " 4: {},\n",
       " 5: {},\n",
       " 6: {'5084703364844673703': 3,\n",
       "  '7632524756553394483': 15,\n",
       "  '6209970323174613410': 13,\n",
       "  '2390374266854751092': 5,\n",
       "  '6457213122273063421': 16,\n",
       "  '5353976940633003237': 5,\n",
       "  '-1809235098275554318': 4,\n",
       "  '-7810874240232125281': 4,\n",
       "  '-2902616736069918135': 2,\n",
       "  '271773578': 1,\n",
       "  '-1520611015974714827': 1,\n",
       "  '-5490153455905078781': 1,\n",
       "  '-176996419478431460': 2,\n",
       "  '-6971664803686750677': 1,\n",
       "  '3573966809515336244': 1,\n",
       "  '-8432349949530499542': 1,\n",
       "  '-203550692328843228': 1}}"
      ]
     },
     "execution_count": 107,
     "metadata": {},
     "output_type": "execute_result"
    }
   ],
   "source": [
    "f"
   ]
  },
  {
   "cell_type": "code",
   "execution_count": null,
   "id": "0ff5a54c-cd11-44ad-971c-89166bcc0b56",
   "metadata": {},
   "outputs": [],
   "source": []
  },
  {
   "cell_type": "code",
   "execution_count": 108,
   "id": "732ab4ec-8017-4509-bb1d-db4a0411478d",
   "metadata": {},
   "outputs": [
    {
     "data": {
      "text/plain": [
       "'{\"max_dice\": 6, \"roll_obs\": {\"1\": 0, \"2\": 0, \"3\": 0, \"4\": 0, \"5\": 0, \"6\": 20}, \"possible_score_obs\": {\"1\": 0, \"2\": 0, \"3\": 0, \"4\": 0, \"5\": 0, \"6\": 75}, \"hash_to_dh\": {\"5084703364844673703\": {\"__DiceHand__\": true, \"free\": [6, 6, 6], \"locked\": [], \"score\": 600}, \"7632524756553394483\": {\"__DiceHand__\": true, \"free\": [1], \"locked\": [], \"score\": 100}, \"6209970323174613410\": {\"__DiceHand__\": true, \"free\": [1, 5], \"locked\": [], \"score\": 150}, \"2390374266854751092\": {\"__DiceHand__\": true, \"free\": [1, 5, 5], \"locked\": [], \"score\": 200}, \"6457213122273063421\": {\"__DiceHand__\": true, \"free\": [5], \"locked\": [], \"score\": 50}, \"5353976940633003237\": {\"__DiceHand__\": true, \"free\": [5, 5], \"locked\": [], \"score\": 100}, \"-1809235098275554318\": {\"__DiceHand__\": true, \"free\": [1, 1], \"locked\": [], \"score\": 200}, \"-7810874240232125281\": {\"__DiceHand__\": true, \"free\": [1, 1, 5], \"locked\": [], \"score\": 250}, \"-2902616736069918135\": {\"__DiceHand__\": true, \"free\": [1, 1, 5, 5], \"locked\": [], \"score\": 300}, \"271773578\": null, \"-1520611015974714827\": {\"__DiceHand__\": true, \"free\": [1, 4, 4, 4], \"locked\": [], \"score\": 500}, \"-5490153455905078781\": {\"__DiceHand__\": true, \"free\": [4, 4, 4], \"locked\": [], \"score\": 400}, \"-176996419478431460\": {\"__DiceHand__\": true, \"free\": [1, 6, 6, 6], \"locked\": [], \"score\": 700}, \"-6971664803686750677\": {\"__DiceHand__\": true, \"free\": [1, 5, 6, 6, 6], \"locked\": [], \"score\": 750}, \"3573966809515336244\": {\"__DiceHand__\": true, \"free\": [5, 6, 6, 6], \"locked\": [], \"score\": 650}, \"-8432349949530499542\": {\"__DiceHand__\": true, \"free\": [3, 3, 3, 5], \"locked\": [], \"score\": 350}, \"-203550692328843228\": {\"__DiceHand__\": true, \"free\": [3, 3, 3], \"locked\": [], \"score\": 300}}, \"hash_to_freq\": {\"1\": {}, \"2\": {}, \"3\": {}, \"4\": {}, \"5\": {}, \"6\": {\"5084703364844673703\": 3, \"7632524756553394483\": 15, \"6209970323174613410\": 13, \"2390374266854751092\": 5, \"6457213122273063421\": 16, \"5353976940633003237\": 5, \"-1809235098275554318\": 4, \"-7810874240232125281\": 4, \"-2902616736069918135\": 2, \"271773578\": 1, \"-1520611015974714827\": 1, \"-5490153455905078781\": 1, \"-176996419478431460\": 2, \"-6971664803686750677\": 1, \"3573966809515336244\": 1, \"-8432349949530499542\": 1, \"-203550692328843228\": 1}}}'"
      ]
     },
     "execution_count": 108,
     "metadata": {},
     "output_type": "execute_result"
    }
   ],
   "source": [
    "mcs.json_encode"
   ]
  },
  {
   "cell_type": "code",
   "execution_count": 109,
   "id": "e7dfd413-4e75-4fa8-be1f-382260fe4b95",
   "metadata": {},
   "outputs": [],
   "source": [
    "mcs.save('test_export.json')"
   ]
  },
  {
   "cell_type": "code",
   "execution_count": null,
   "id": "c9b5a289-60d4-49a4-9c41-bbd6193a03d7",
   "metadata": {},
   "outputs": [],
   "source": []
  },
  {
   "cell_type": "code",
   "execution_count": 114,
   "id": "985fafb3-5e91-479a-bba3-d38f72e051ab",
   "metadata": {},
   "outputs": [],
   "source": [
    "mcs_loaded = MonteCarloSimulation.load('test_export.json')"
   ]
  },
  {
   "cell_type": "code",
   "execution_count": 117,
   "id": "8cffed24-d817-4630-a89f-3dd75a457fbf",
   "metadata": {},
   "outputs": [
    {
     "data": {
      "text/plain": [
       "{1: {},\n",
       " 2: {},\n",
       " 3: {},\n",
       " 4: {},\n",
       " 5: {},\n",
       " 6: {DiceHand(free=[6, 6, 6], locked=[], score=600): 3,\n",
       "  DiceHand(free=[1], locked=[], score=100): 15,\n",
       "  DiceHand(free=[1, 5], locked=[], score=150): 13,\n",
       "  DiceHand(free=[1, 5, 5], locked=[], score=200): 5,\n",
       "  DiceHand(free=[5], locked=[], score=50): 16,\n",
       "  DiceHand(free=[5, 5], locked=[], score=100): 5,\n",
       "  DiceHand(free=[1, 1], locked=[], score=200): 4,\n",
       "  DiceHand(free=[1, 1, 5], locked=[], score=250): 4,\n",
       "  DiceHand(free=[1, 1, 5, 5], locked=[], score=300): 2,\n",
       "  None: 1,\n",
       "  DiceHand(free=[1, 4, 4, 4], locked=[], score=500): 1,\n",
       "  DiceHand(free=[4, 4, 4], locked=[], score=400): 1,\n",
       "  DiceHand(free=[1, 6, 6, 6], locked=[], score=700): 2,\n",
       "  DiceHand(free=[1, 5, 6, 6, 6], locked=[], score=750): 1,\n",
       "  DiceHand(free=[5, 6, 6, 6], locked=[], score=650): 1,\n",
       "  DiceHand(free=[3, 3, 3, 5], locked=[], score=350): 1,\n",
       "  DiceHand(free=[3, 3, 3], locked=[], score=300): 1}}"
      ]
     },
     "execution_count": 117,
     "metadata": {},
     "output_type": "execute_result"
    }
   ],
   "source": [
    "mcs_loaded.possible_score_frequencies"
   ]
  },
  {
   "cell_type": "code",
   "execution_count": 118,
   "id": "02ba533d-4151-48d1-9365-b040900c1f2c",
   "metadata": {},
   "outputs": [
    {
     "data": {
      "text/plain": [
       "15"
      ]
     },
     "execution_count": 118,
     "metadata": {},
     "output_type": "execute_result"
    }
   ],
   "source": [
    "mcs_loaded.possible_score_frequencies[6][go.DiceHand(1, score=100)]"
   ]
  },
  {
   "cell_type": "code",
   "execution_count": null,
   "id": "b6080142-b7c7-4180-97e8-a5cc83ba70c5",
   "metadata": {},
   "outputs": [],
   "source": []
  },
  {
   "cell_type": "code",
   "execution_count": 22,
   "id": "39dc2e7f-22b3-4f5f-beba-8c5afad7ad76",
   "metadata": {},
   "outputs": [
    {
     "data": {
      "text/plain": [
       "DiceHand(6, 6, 2, 6, 5, 6, score=0)"
      ]
     },
     "execution_count": 22,
     "metadata": {},
     "output_type": "execute_result"
    }
   ],
   "source": [
    "mcs.dice_hands[6]"
   ]
  },
  {
   "cell_type": "code",
   "execution_count": 25,
   "id": "96d2012c-66a7-487a-9652-90706192543b",
   "metadata": {},
   "outputs": [
    {
     "name": "stdout",
     "output_type": "stream",
     "text": [
      "0\n",
      "300\n",
      "600\n",
      "900\n",
      "1200\n",
      "1500\n",
      "1800\n",
      "2100\n",
      "2400\n",
      "2700\n",
      "3000\n",
      "3300\n",
      "3600\n",
      "3900\n",
      "4200\n",
      "4500\n",
      "4800\n",
      "5100\n",
      "5400\n",
      "5700\n",
      "6000\n",
      "6300\n",
      "6600\n",
      "6900\n",
      "7200\n",
      "7500\n",
      "476.1664\n"
     ]
    }
   ],
   "source": [
    "t0 = perf_counter()\n",
    "for i in range(6**5):\n",
    "    if i % 300 == 0:\n",
    "        print(i)\n",
    "    mcs.roll(6)\n",
    "t1 = perf_counter()\n",
    "print(round(t1-t0, 4))"
   ]
  },
  {
   "cell_type": "code",
   "execution_count": 27,
   "id": "2a7ab71a-9343-4801-bc75-d09272358468",
   "metadata": {},
   "outputs": [
    {
     "data": {
      "text/plain": [
       "defaultdict(int,\n",
       "            {DiceHand(1, score=100): 5317,\n",
       "             DiceHand(1, 1, score=200): 2139,\n",
       "             DiceHand(1, 1, 5, score=250): 1176,\n",
       "             DiceHand(1, 5, score=150): 3316,\n",
       "             DiceHand(5, score=50): 5308,\n",
       "             DiceHand(5, 5, score=100): 2111,\n",
       "             DiceHand(5, 5, 5, score=150): 510,\n",
       "             DiceHand(5, 5, 5, score=500): 510,\n",
       "             DiceHand(1, 5, 5, score=200): 1166,\n",
       "             DiceHand(1, 1, 2, 2, 2, 5, score=450): 10,\n",
       "             DiceHand(1, 1, 2, 2, 2, score=400): 46,\n",
       "             DiceHand(1, 2, 2, 2, 5, score=350): 88,\n",
       "             DiceHand(1, 2, 2, 2, score=300): 239,\n",
       "             DiceHand(5, 2, 2, 2, score=250): 233,\n",
       "             DiceHand(2, 2, 2, score=200): 480,\n",
       "             DiceHand(1, 1, 1, score=300): 549,\n",
       "             DiceHand(1, 1, 1, 5, score=350): 240,\n",
       "             DiceHand(5, 1, 1, 1, score=1050): 240,\n",
       "             DiceHand(1, 1, 1, score=1000): 549,\n",
       "             DiceHand(1, 6, 6, 6, score=700): 230,\n",
       "             DiceHand(6, 6, 6, score=600): 488,\n",
       "             DiceHand(1, 3, 3, 3, 5, score=450): 61,\n",
       "             DiceHand(1, 3, 3, 3, score=400): 199,\n",
       "             DiceHand(5, 3, 3, 3, score=350): 210,\n",
       "             DiceHand(3, 3, 3, score=300): 472,\n",
       "             None: 230,\n",
       "             DiceHand(1, 5, 6, 6, 6, score=750): 90,\n",
       "             DiceHand(5, 6, 6, 6, score=650): 240,\n",
       "             DiceHand(1, 5, 5, 5, score=250): 231,\n",
       "             DiceHand(1, 5, 5, 5, score=600): 231,\n",
       "             DiceHand(1, 1, 1, 1, score=400): 72,\n",
       "             DiceHand(1, 1, 1, 1, score=1100): 72,\n",
       "             DiceHand(5, 3, 3, 3, 5, score=400): 37,\n",
       "             DiceHand(5, 4, 4, 4, score=450): 239,\n",
       "             DiceHand(4, 4, 4, score=400): 483,\n",
       "             DiceHand(1, 1, 5, 5, score=300): 342,\n",
       "             DiceHand(1, 1, 3, 3, 3, score=500): 47,\n",
       "             DiceHand(1, 4, 4, 4, 5, score=550): 86,\n",
       "             DiceHand(1, 4, 4, 4, score=500): 217,\n",
       "             DiceHand(1, 1, 5, 5, 5, score=350): 48,\n",
       "             DiceHand(1, 1, 5, 5, 5, score=700): 48,\n",
       "             DiceHand(1, 5, 5, 5, 5, score=300): 22,\n",
       "             DiceHand(1, 5, 5, 5, 5, score=650): 22,\n",
       "             DiceHand(5, 5, 5, 5, score=200): 70,\n",
       "             DiceHand(5, 5, 5, 5, score=550): 70,\n",
       "             DiceHand(5, 4, 4, 4, 5, score=500): 48,\n",
       "             DiceHand(1, 1, 1, 1, 1, score=500): 1,\n",
       "             DiceHand(1, 1, 1, 1, 1, score=1200): 1,\n",
       "             DiceHand(1, 1, 6, 6, 6, score=800): 53,\n",
       "             DiceHand(1, 1, 4, 4, 4, score=600): 49,\n",
       "             DiceHand(1, 3, 3, 3, 5, 5, score=500): 7,\n",
       "             DiceHand(1, 1, 1, 4, 4, 4, score=700): 4,\n",
       "             DiceHand(1, 1, 1, 4, 4, 4, score=1400): 4,\n",
       "             DiceHand(1, 5, 5, 6, 6, 6, score=800): 10,\n",
       "             DiceHand(5, 5, 6, 6, 6, score=700): 46,\n",
       "             DiceHand(1, 2, 2, 2, 5, 5, score=400): 20,\n",
       "             DiceHand(5, 2, 2, 2, 5, score=300): 62,\n",
       "             DiceHand(1, 1, 3, 3, 3, 5, score=550): 4,\n",
       "             DiceHand(1, 1, 1, 1, 5, score=450): 28,\n",
       "             DiceHand(1, 1, 1, 1, 5, 5, score=500): 4,\n",
       "             DiceHand(1, 1, 1, 5, 5, score=400): 53,\n",
       "             DiceHand(1, 1, 1, 1, 5, score=1150): 28,\n",
       "             DiceHand(1, 1, 1, 1, 5, 5, score=1200): 4,\n",
       "             DiceHand(5, 1, 1, 1, 5, score=1100): 53,\n",
       "             DiceHand(3, 3, 3, 6, 6, 6, score=900): 6,\n",
       "             DiceHand(5, 3, 3, 3, 5, 5, score=450): 2,\n",
       "             DiceHand(5, 5, 5, 3, 3, 3, score=800): 2,\n",
       "             DiceHand(2, 2, 2, 4, 4, 4, score=600): 3,\n",
       "             DiceHand(1, 1, 5, 6, 6, 6, score=850): 12,\n",
       "             DiceHand(5, 4, 4, 4, 5, 5, score=550): 3,\n",
       "             DiceHand(5, 5, 5, 4, 4, 4, score=900): 3,\n",
       "             DiceHand(2, 2, 2, 3, 3, 3, score=500): 5,\n",
       "             DiceHand(1, 1, 1, 6, 6, 6, score=900): 2,\n",
       "             DiceHand(1, 1, 1, 6, 6, 6, score=1600): 2,\n",
       "             DiceHand(1, 1, 4, 4, 4, 5, score=650): 8,\n",
       "             DiceHand(1, 4, 4, 4, 5, 5, score=600): 12,\n",
       "             DiceHand(5, 5, 5, 6, 6, 6, score=750): 5,\n",
       "             DiceHand(5, 5, 5, 6, 6, 6, score=1100): 5,\n",
       "             DiceHand(1, 1, 1, 5, 5, 5, score=450): 5,\n",
       "             DiceHand(1, 1, 1, 5, 5, 5, score=800): 5,\n",
       "             DiceHand(5, 1, 1, 1, 5, 5, score=1150): 5,\n",
       "             DiceHand(2, 2, 2, 6, 6, 6, score=800): 3,\n",
       "             DiceHand(4, 4, 4, 6, 6, 6, score=1000): 2,\n",
       "             DiceHand(1, 1, 1, 2, 2, 2, score=500): 1,\n",
       "             DiceHand(1, 1, 1, 2, 2, 2, score=1200): 1,\n",
       "             DiceHand(1, 1, 1, 3, 3, 3, score=600): 3,\n",
       "             DiceHand(1, 1, 1, 3, 3, 3, score=1300): 3,\n",
       "             DiceHand(5, 2, 2, 2, 5, 5, score=350): 2,\n",
       "             DiceHand(5, 5, 5, 2, 2, 2, score=700): 2})"
      ]
     },
     "execution_count": 27,
     "metadata": {},
     "output_type": "execute_result"
    }
   ],
   "source": [
    "mcs.possible_score_frequencies[6]"
   ]
  },
  {
   "cell_type": "code",
   "execution_count": 13,
   "id": "169c981b-6442-4b11-8f82-77570e1dc2e3",
   "metadata": {},
   "outputs": [],
   "source": [
    "mcs.roll(3)"
   ]
  },
  {
   "cell_type": "code",
   "execution_count": 14,
   "id": "2b5458b9-7886-4aa8-8af7-88ab69f9fc19",
   "metadata": {},
   "outputs": [
    {
     "data": {
      "text/plain": [
       "defaultdict(int, {DiceHand(1, score=100): 1})"
      ]
     },
     "execution_count": 14,
     "metadata": {},
     "output_type": "execute_result"
    }
   ],
   "source": [
    "mcs.possible_score_frequencies[3]"
   ]
  },
  {
   "cell_type": "code",
   "execution_count": 15,
   "id": "62ddbd07-5de4-4dfb-a2a6-9fbfe256b2f0",
   "metadata": {},
   "outputs": [],
   "source": [
    "for i in range(4):\n",
    "    mcs.roll(3)"
   ]
  },
  {
   "cell_type": "code",
   "execution_count": 16,
   "id": "1fa60425-7408-4793-a02e-7dd4f5aa9669",
   "metadata": {},
   "outputs": [
    {
     "data": {
      "text/plain": [
       "defaultdict(int,\n",
       "            {DiceHand(1, score=100): 1, DiceHand(5, score=50): 3, None: 1})"
      ]
     },
     "execution_count": 16,
     "metadata": {},
     "output_type": "execute_result"
    }
   ],
   "source": [
    "mcs.possible_score_frequencies[3]"
   ]
  },
  {
   "cell_type": "code",
   "execution_count": null,
   "id": "8b759033-1251-4afb-b9f8-21ffdf8ae8bf",
   "metadata": {},
   "outputs": [],
   "source": []
  },
  {
   "cell_type": "code",
   "execution_count": null,
   "id": "b5ab403d-2709-4b35-8e5c-f7c854dc8437",
   "metadata": {},
   "outputs": [],
   "source": []
  },
  {
   "cell_type": "code",
   "execution_count": null,
   "id": "2af9f97c-abd3-4a36-9408-fe91b072e74d",
   "metadata": {},
   "outputs": [],
   "source": []
  },
  {
   "cell_type": "code",
   "execution_count": null,
   "id": "54ab1c84-8001-4c11-ae72-ff0f5be243c8",
   "metadata": {},
   "outputs": [],
   "source": []
  },
  {
   "cell_type": "code",
   "execution_count": null,
   "id": "8dbdfc84-8acb-47be-9f8f-32e7ec95de81",
   "metadata": {},
   "outputs": [],
   "source": []
  },
  {
   "cell_type": "code",
   "execution_count": null,
   "id": "eb29c28c-aa8a-4f90-8308-43c8ad32a569",
   "metadata": {},
   "outputs": [],
   "source": []
  },
  {
   "cell_type": "code",
   "execution_count": 4,
   "id": "8b092ec9-cadd-47b3-9521-474d1f2c0f76",
   "metadata": {},
   "outputs": [],
   "source": [
    "class MonteCarloDiceHand(go.DiceHand):\n",
    "    def __init__(self, num_dice):\n",
    "        super().__init__(num_dice=num_dice)\n",
    "\n",
    "        self.possible_score_frequencies = defaultdict(int)\n",
    "        self.roll_obs = 0\n",
    "        self.possible_score_obs = 0\n",
    "\n",
    "    def roll(self):\n",
    "        super().roll()\n",
    "        self.roll_obs += 1\n",
    "        # save resulting possible scores if any otherwise None\n",
    "        if self.possible_scores():\n",
    "            for dh in self.possible_scores():\n",
    "                dh: go.DiceHand\n",
    "                self.possible_score_obs += 1\n",
    "                self.possible_score_frequencies[dh] += 1\n",
    "        else:\n",
    "            self.possible_score_frequencies[None] += 1\n",
    "\n",
    "    @property\n",
    "    def E_any_score(self):\n",
    "        return 1 - (self.possible_score_frequencies[None] / self.roll_obs)\n",
    "\n",
    "    @property\n",
    "    def E_score_arithmetic(self):\n",
    "        E_score = 0\n",
    "        for dh, freq in self.possible_score_frequencies.items():\n",
    "            if dh: E_score += dh.score * freq\n",
    "        return (E_score / self.possible_score_obs) * self.E_any_score"
   ]
  },
  {
   "cell_type": "code",
   "execution_count": 5,
   "id": "778bf825-3e7f-45c5-9a23-8029b0df5527",
   "metadata": {},
   "outputs": [],
   "source": [
    "mcdh = MonteCarloDiceHand(3)"
   ]
  },
  {
   "cell_type": "code",
   "execution_count": 6,
   "id": "f2790a4f-c2dc-4fe2-bcbb-5b5eeaefd416",
   "metadata": {},
   "outputs": [
    {
     "data": {
      "text/plain": [
       "DiceHand(4, 4, 4, score=0)"
      ]
     },
     "execution_count": 6,
     "metadata": {},
     "output_type": "execute_result"
    }
   ],
   "source": [
    "mcdh"
   ]
  },
  {
   "cell_type": "code",
   "execution_count": 7,
   "id": "ae18d991-530e-40cb-81a1-e336d71dcb0b",
   "metadata": {},
   "outputs": [],
   "source": [
    "mcdh.roll()"
   ]
  },
  {
   "cell_type": "code",
   "execution_count": 8,
   "id": "7493941b-e978-479f-bb5d-49a9309e5a72",
   "metadata": {},
   "outputs": [
    {
     "data": {
      "text/plain": [
       "DiceHand(1, 2, 2, score=0)"
      ]
     },
     "execution_count": 8,
     "metadata": {},
     "output_type": "execute_result"
    }
   ],
   "source": [
    "mcdh"
   ]
  },
  {
   "cell_type": "code",
   "execution_count": 9,
   "id": "b0fe110c-86bb-4d75-8c58-3dbc4cae403e",
   "metadata": {},
   "outputs": [
    {
     "data": {
      "text/plain": [
       "defaultdict(int, {DiceHand(1, score=100): 1})"
      ]
     },
     "execution_count": 9,
     "metadata": {},
     "output_type": "execute_result"
    }
   ],
   "source": [
    "mcdh.possible_score_frequencies"
   ]
  },
  {
   "cell_type": "code",
   "execution_count": 10,
   "id": "4e9f75ba-2a4c-4336-a454-0dc271bdb322",
   "metadata": {},
   "outputs": [],
   "source": [
    "for i in range(4):\n",
    "    mcdh.roll()"
   ]
  },
  {
   "cell_type": "code",
   "execution_count": 11,
   "id": "1718a7cf-840d-4563-8d20-120ffb7cfef0",
   "metadata": {},
   "outputs": [
    {
     "data": {
      "text/plain": [
       "defaultdict(int,\n",
       "            {DiceHand(1, score=100): 1,\n",
       "             None: 3,\n",
       "             DiceHand(5, score=50): 1,\n",
       "             DiceHand(5, 5, score=100): 1})"
      ]
     },
     "execution_count": 11,
     "metadata": {},
     "output_type": "execute_result"
    }
   ],
   "source": [
    "mcdh.possible_score_frequencies"
   ]
  },
  {
   "cell_type": "code",
   "execution_count": 13,
   "id": "425772f3-ef75-4e3c-bb53-c24d6571a6e2",
   "metadata": {},
   "outputs": [
    {
     "data": {
      "text/plain": [
       "5"
      ]
     },
     "execution_count": 13,
     "metadata": {},
     "output_type": "execute_result"
    }
   ],
   "source": [
    "mcdh.roll_obs"
   ]
  },
  {
   "cell_type": "code",
   "execution_count": 14,
   "id": "1ebc7770-7f60-40af-90fb-d9c1c5258294",
   "metadata": {},
   "outputs": [
    {
     "data": {
      "text/plain": [
       "0.4"
      ]
     },
     "execution_count": 14,
     "metadata": {},
     "output_type": "execute_result"
    }
   ],
   "source": [
    "mcdh.E_any_score"
   ]
  },
  {
   "cell_type": "code",
   "execution_count": 15,
   "id": "4dd421d0-e2d9-4e1d-a7cd-f9c94721e766",
   "metadata": {},
   "outputs": [
    {
     "data": {
      "text/plain": [
       "33.333333333333336"
      ]
     },
     "execution_count": 15,
     "metadata": {},
     "output_type": "execute_result"
    }
   ],
   "source": [
    "mcdh.E_score_arithmetic"
   ]
  },
  {
   "cell_type": "code",
   "execution_count": null,
   "id": "ec78e1ac-30be-4cae-8943-5c413e32b24e",
   "metadata": {},
   "outputs": [],
   "source": []
  },
  {
   "cell_type": "code",
   "execution_count": null,
   "id": "7fccac1e-d975-4bf4-9c44-924a80090d77",
   "metadata": {},
   "outputs": [],
   "source": []
  },
  {
   "cell_type": "code",
   "execution_count": null,
   "id": "1e3d3e40-8b66-4780-874f-84979631b4eb",
   "metadata": {},
   "outputs": [],
   "source": []
  },
  {
   "cell_type": "code",
   "execution_count": null,
   "id": "d58e41b8-3653-4d2f-b729-40d2a674e573",
   "metadata": {},
   "outputs": [],
   "source": []
  },
  {
   "cell_type": "code",
   "execution_count": null,
   "id": "83a3af8b-5b40-45dd-add3-b1e88fd725cf",
   "metadata": {},
   "outputs": [],
   "source": []
  },
  {
   "cell_type": "code",
   "execution_count": null,
   "id": "fbc4da60-eb3c-4ed0-81eb-fbc5135f3906",
   "metadata": {},
   "outputs": [],
   "source": []
  },
  {
   "cell_type": "code",
   "execution_count": null,
   "id": "81ef2fcb-ae59-46c9-874e-846101331299",
   "metadata": {},
   "outputs": [],
   "source": []
  },
  {
   "cell_type": "code",
   "execution_count": null,
   "id": "1f54fda3-4c43-4b63-97c0-3bcbbed1a08b",
   "metadata": {},
   "outputs": [],
   "source": []
  },
  {
   "cell_type": "code",
   "execution_count": null,
   "id": "a7053719-1cce-4227-9fdf-d05bc9f1eb83",
   "metadata": {},
   "outputs": [],
   "source": []
  },
  {
   "cell_type": "code",
   "execution_count": null,
   "id": "a3f962af-aa32-46e3-872f-050e461090dc",
   "metadata": {},
   "outputs": [],
   "source": []
  },
  {
   "cell_type": "code",
   "execution_count": null,
   "id": "f059b710-354d-4dd2-9fc3-e202bad27ec4",
   "metadata": {},
   "outputs": [],
   "source": []
  }
 ],
 "metadata": {
  "kernelspec": {
   "display_name": "my-venv",
   "language": "python",
   "name": "my-venv"
  },
  "language_info": {
   "codemirror_mode": {
    "name": "ipython",
    "version": 3
   },
   "file_extension": ".py",
   "mimetype": "text/x-python",
   "name": "python",
   "nbconvert_exporter": "python",
   "pygments_lexer": "ipython3",
   "version": "3.10.9"
  }
 },
 "nbformat": 4,
 "nbformat_minor": 5
}
