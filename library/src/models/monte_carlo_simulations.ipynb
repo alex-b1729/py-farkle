{
 "cells": [
  {
   "cell_type": "markdown",
   "id": "df9ea608-5f85-445f-a06f-5e7422466775",
   "metadata": {},
   "source": [
    "# Probabilities through monte carlo simulations"
   ]
  },
  {
   "cell_type": "markdown",
   "id": "4084eca0-0af4-4f1e-a876-7545716c0270",
   "metadata": {},
   "source": [
    "Here, rather than training a model to predict the $E[\\text{dice roll score}]$, I just build a monte carlo simulation of a Farkle turn. "
   ]
  },
  {
   "cell_type": "code",
   "execution_count": 1,
   "id": "a866c8c2-3ccd-41f1-b7e0-e55ba0484a05",
   "metadata": {},
   "outputs": [],
   "source": [
    "import sys\n",
    "sys.path.insert(0, '../../src')"
   ]
  },
  {
   "cell_type": "code",
   "execution_count": 2,
   "id": "1501a200-d112-4478-be23-678a24af7992",
   "metadata": {},
   "outputs": [],
   "source": [
    "import random\n",
    "from collections import defaultdict\n",
    "\n",
    "from farkle.logic import gameobjects as go"
   ]
  },
  {
   "cell_type": "code",
   "execution_count": null,
   "id": "9c26ddfd-d746-421c-9dbe-1a9da1f2a2eb",
   "metadata": {},
   "outputs": [],
   "source": []
  },
  {
   "cell_type": "code",
   "execution_count": 3,
   "id": "d3123773-1c2d-41a9-b73a-d9bcf310d12c",
   "metadata": {},
   "outputs": [],
   "source": [
    "dh1 = go.DiceHand()"
   ]
  },
  {
   "cell_type": "code",
   "execution_count": 4,
   "id": "35fe920f-a9ac-4a0b-8ca2-2e5dbe7a66fc",
   "metadata": {},
   "outputs": [
    {
     "data": {
      "text/plain": [
       "0: 5\n",
       "1: 6\n",
       "2: 4\n",
       "3: 1\n",
       "4: 6\n",
       "5: 3\n",
       "Score: 0"
      ]
     },
     "execution_count": 4,
     "metadata": {},
     "output_type": "execute_result"
    }
   ],
   "source": [
    "dh1"
   ]
  },
  {
   "cell_type": "code",
   "execution_count": null,
   "id": "2c62297b-e846-410f-86a1-f9b856f598df",
   "metadata": {},
   "outputs": [],
   "source": []
  },
  {
   "cell_type": "code",
   "execution_count": null,
   "id": "7bac12db-8bd3-4178-9238-a8573e4f194f",
   "metadata": {},
   "outputs": [],
   "source": []
  },
  {
   "cell_type": "code",
   "execution_count": 13,
   "id": "5f1fbbee-d5b0-4624-88d8-2a298ea5a8cf",
   "metadata": {},
   "outputs": [],
   "source": [
    "class ExpectedRollScore():\n",
    "    def __init__(self, num_dice: int):\n",
    "        self.num_dice = num_dice\n",
    "        self.obs = 0\n",
    "        self.possible_score_counts = defaultdict(int)\n",
    "    \n",
    "    def score_frequ(self):\n",
    "        dh: go.DiceHand\n",
    "        sf = {dh: c / self.obs for dh, c in self.possible_score_counts.items()}\n",
    "        return sf\n",
    "    \n",
    "    def count_score(self, dh: go.DiceHand):\n",
    "        assert dh.num_dice <= self.num_dice\n",
    "        self.obs += 1\n",
    "        self.possible_score_counts[dh] += 1\n",
    "        \n",
    "    def count_farkle(self):\n",
    "        self.obs += 1\n",
    "        self.possible_score_counts['farkle'] += 1\n",
    "        \n",
    "    def expected_score(self, points_at_risk: int) -> int:\n",
    "        dh: go.DiceHand\n",
    "        s = sum([dh.score * prob if dh != 'farkle' \n",
    "                 else -points_at_risk * prob \n",
    "                 for dh, prob in self.score_frequ().items()])\n",
    "        return s\n",
    "        \n",
    "    def __repr__(self):\n",
    "        return f'ExpectedRollScore(num_dice={self.num_dice})'"
   ]
  },
  {
   "cell_type": "code",
   "execution_count": 14,
   "id": "36da76c6-e8e9-4a6a-8df5-b6ca38b07d52",
   "metadata": {},
   "outputs": [],
   "source": [
    "ers = ExpectedRollScore(6)"
   ]
  },
  {
   "cell_type": "code",
   "execution_count": 15,
   "id": "26a87aa7-4d27-4a78-9ab7-f95c7089a227",
   "metadata": {},
   "outputs": [],
   "source": [
    "ers.count_score(dh1)"
   ]
  },
  {
   "cell_type": "code",
   "execution_count": 16,
   "id": "da18d913-b9f4-479e-acbd-15eb36d9fad9",
   "metadata": {},
   "outputs": [],
   "source": [
    "ers.count_score(go.DiceHand(1,1,1, score=1000))"
   ]
  },
  {
   "cell_type": "code",
   "execution_count": 17,
   "id": "a13bdd2f-1256-4220-940d-43309445495e",
   "metadata": {},
   "outputs": [],
   "source": [
    "ers.count_farkle()"
   ]
  },
  {
   "cell_type": "code",
   "execution_count": 18,
   "id": "6c257085-a755-4c9d-8a30-e3a2c573ce74",
   "metadata": {},
   "outputs": [],
   "source": [
    "ers.count_farkle()"
   ]
  },
  {
   "cell_type": "code",
   "execution_count": 19,
   "id": "46421d29-e681-4cdf-9ee0-382eba7413f5",
   "metadata": {},
   "outputs": [
    {
     "data": {
      "text/plain": [
       "{0: 5\n",
       " 1: 6\n",
       " 2: 4\n",
       " 3: 1\n",
       " 4: 6\n",
       " 5: 3\n",
       " Score: 0: 0.25,\n",
       " 0: 1\n",
       " 1: 1\n",
       " 2: 1\n",
       " Score: 1000: 0.25,\n",
       " 'farkle': 0.5}"
      ]
     },
     "execution_count": 19,
     "metadata": {},
     "output_type": "execute_result"
    }
   ],
   "source": [
    "ers.score_frequ()"
   ]
  },
  {
   "cell_type": "code",
   "execution_count": 20,
   "id": "c0264f88-2923-4014-9198-fa9dfc6b565d",
   "metadata": {},
   "outputs": [
    {
     "data": {
      "text/plain": [
       "150.0"
      ]
     },
     "execution_count": 20,
     "metadata": {},
     "output_type": "execute_result"
    }
   ],
   "source": [
    "ers.expected_score(200)"
   ]
  },
  {
   "cell_type": "code",
   "execution_count": null,
   "id": "57f919bd-6ef6-4316-b16e-7049cca5ac75",
   "metadata": {},
   "outputs": [],
   "source": []
  },
  {
   "cell_type": "code",
   "execution_count": null,
   "id": "32cbf5ed-6be9-42cf-b564-dad5744499ca",
   "metadata": {},
   "outputs": [],
   "source": []
  },
  {
   "cell_type": "code",
   "execution_count": 76,
   "id": "2b112ffb-8327-4614-b395-c9fe3a4ef357",
   "metadata": {},
   "outputs": [],
   "source": [
    "class StatTracker():\n",
    "    def __init__(self):\n",
    "        self.epoch = 0\n",
    "        \n",
    "        self.dice_to_roll_probs = {i+1: ExpectedRollScore(i+1) for i in range(6)}\n",
    "        \n",
    "    def expected_score(self, num_dice: int, points_at_risk: int, depth: int = 5) -> float:\n",
    "        \"\"\"\n",
    "        num_dice: number of dice to roll\n",
    "        points_at_risk: points lost if Farkle\n",
    "        depth: number of recursive calls allowed\n",
    "        \"\"\"\n",
    "        ers = self.dice_to_roll\n",
    "    \n",
    "    @property\n",
    "    def expected_hot_dice_score(self) -> float:\n",
    "        return self.expected_score(num_dice=6)"
   ]
  },
  {
   "cell_type": "code",
   "execution_count": 77,
   "id": "47411722-5d25-4e32-90f0-70ded721d4e3",
   "metadata": {},
   "outputs": [
    {
     "data": {
      "text/plain": [
       "{1: ExpectedRollScore(num_dice=1),\n",
       " 2: ExpectedRollScore(num_dice=2),\n",
       " 3: ExpectedRollScore(num_dice=3),\n",
       " 4: ExpectedRollScore(num_dice=4),\n",
       " 5: ExpectedRollScore(num_dice=5),\n",
       " 6: ExpectedRollScore(num_dice=6)}"
      ]
     },
     "execution_count": 77,
     "metadata": {},
     "output_type": "execute_result"
    }
   ],
   "source": [
    "st = StatTracker()\n",
    "st.dice_to_roll_probs"
   ]
  },
  {
   "cell_type": "code",
   "execution_count": null,
   "id": "81ef2fcb-ae59-46c9-874e-846101331299",
   "metadata": {},
   "outputs": [],
   "source": []
  },
  {
   "cell_type": "code",
   "execution_count": null,
   "id": "1f54fda3-4c43-4b63-97c0-3bcbbed1a08b",
   "metadata": {},
   "outputs": [],
   "source": []
  },
  {
   "cell_type": "code",
   "execution_count": null,
   "id": "f059b710-354d-4dd2-9fc3-e202bad27ec4",
   "metadata": {},
   "outputs": [],
   "source": []
  }
 ],
 "metadata": {
  "kernelspec": {
   "display_name": "Python 3",
   "language": "python",
   "name": "python3"
  },
  "language_info": {
   "codemirror_mode": {
    "name": "ipython",
    "version": 3
   },
   "file_extension": ".py",
   "mimetype": "text/x-python",
   "name": "python",
   "nbconvert_exporter": "python",
   "pygments_lexer": "ipython3",
   "version": "3.10.9"
  }
 },
 "nbformat": 4,
 "nbformat_minor": 5
}
