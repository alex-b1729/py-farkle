{
 "cells": [
  {
   "cell_type": "markdown",
   "id": "df9ea608-5f85-445f-a06f-5e7422466775",
   "metadata": {},
   "source": [
    "# Probabilities through monte carlo simulations"
   ]
  },
  {
   "cell_type": "markdown",
   "id": "4084eca0-0af4-4f1e-a876-7545716c0270",
   "metadata": {},
   "source": [
    "Here, rather than training a model to predict the $E[\\text{dice roll score}]$, I just build a monte carlo simulation. "
   ]
  },
  {
   "cell_type": "code",
   "execution_count": 1,
   "id": "a866c8c2-3ccd-41f1-b7e0-e55ba0484a05",
   "metadata": {},
   "outputs": [],
   "source": [
    "import sys\n",
    "sys.path.insert(0, '../../src')"
   ]
  },
  {
   "cell_type": "code",
   "execution_count": 2,
   "id": "1501a200-d112-4478-be23-678a24af7992",
   "metadata": {},
   "outputs": [],
   "source": [
    "import json\n",
    "import random\n",
    "from time import perf_counter\n",
    "from collections import defaultdict\n",
    "\n",
    "from farkle.logic import gameobjects as go"
   ]
  },
  {
   "cell_type": "code",
   "execution_count": null,
   "id": "9c26ddfd-d746-421c-9dbe-1a9da1f2a2eb",
   "metadata": {},
   "outputs": [],
   "source": []
  },
  {
   "cell_type": "code",
   "execution_count": 3,
   "id": "6420f151-14d4-4418-9d85-57d3728c9651",
   "metadata": {},
   "outputs": [],
   "source": [
    "# for saving dicehands as json\n",
    "class DiceHandEncoder(json.JSONEncoder):\n",
    "    def default(self, obj):\n",
    "        if isinstance(obj, go.DiceHand):\n",
    "            return obj.json_encode\n",
    "        return super().default(obj)\n",
    "    \n",
    "def as_dicehand(dct):\n",
    "    if '__DiceHand__' in dct:\n",
    "        return go.DiceHand.json_decode(dct)\n",
    "    return dct"
   ]
  },
  {
   "cell_type": "code",
   "execution_count": null,
   "id": "13ef179d-0b08-49ac-b9ef-26190aba8fdd",
   "metadata": {},
   "outputs": [],
   "source": []
  },
  {
   "cell_type": "code",
   "execution_count": 7,
   "id": "fcb89314-61cd-40f3-9801-164c740a34ef",
   "metadata": {},
   "outputs": [],
   "source": [
    "class MonteCarloSimulation(object):\n",
    "    def __init__(self, max_dice: int = 6):\n",
    "        self.max_dice = max_dice\n",
    "        self.dice_range = range(1, self.max_dice + 1)\n",
    "        self.dice_hands = {i: go.DiceHand(num_dice=i) for i in self.dice_range}\n",
    "        \n",
    "        self.roll_obs = {i: 0 for i in self.dice_range}\n",
    "        self.possible_score_obs = {i: 0 for i in self.dice_range}\n",
    "        self.possible_score_frequencies = {i: defaultdict(int) for i in self.dice_range}\n",
    "        \n",
    "    def roll(self, num_dice: int):\n",
    "        self.dice_hands[num_dice].roll()\n",
    "        self.roll_obs[num_dice] += 1\n",
    "        if self.dice_hands[num_dice].possible_scores():\n",
    "            for dh in self.dice_hands[num_dice].possible_scores():\n",
    "                dh: go.DiceHand\n",
    "                self.possible_score_obs[num_dice] += 1\n",
    "                self.possible_score_frequencies[num_dice][dh] += 1\n",
    "        else:\n",
    "            self.possible_score_frequencies[num_dice][None] += 1\n",
    "            \n",
    "    def roll_all(self, num_rolls: int = 1):\n",
    "        \"\"\"Rolls all hands in ratio where 1 dice is 1 roll and \n",
    "        each additional die is 6x more rolls\"\"\"\n",
    "        for die_num in self.dice_range:\n",
    "            num_sims = num_rolls * (6**(die_num-1))\n",
    "            for roll_num in range(num_sims):\n",
    "                self.roll(die_num)\n",
    "                if roll_num == num_sims - 1:\n",
    "                    sys.stdout.write(f'\\rDie: {die_num} | ')\n",
    "                    sys.stdout.write(f'{\"#\" * 20} | ')\n",
    "                    sys.stdout.write(f'100%\\n')\n",
    "                elif int(roll_num * 100 / num_sims) % 5 == 0:\n",
    "                    sys.stdout.write(f'\\rDie: {die_num} | ')\n",
    "                    sys.stdout.write(f'{\"#\" * int(roll_num * 20 / num_sims)}')\n",
    "                    sys.stdout.write(f'{\" \" * (20 - int(roll_num * 20 / num_sims))} | ')\n",
    "                    sys.stdout.write(f'{int(roll_num * 100 / num_sims)}%')\n",
    "                \n",
    "            sys.stdout.write('\\n')\n",
    "    \n",
    "    def P_farkle(self, num_dice: int):\n",
    "        return self.possible_score_frequencies[num_dice][None] / self.roll_obs[num_dice]\n",
    "    \n",
    "    def E_score(self, num_dice: int):\n",
    "        E_score = 0\n",
    "        for dh, freq in self.possible_score_frequencies[num_dice].items():\n",
    "            if dh: E_score += dh.score * freq\n",
    "        return (E_score / self.possible_score_obs[num_dice]) * (1 - self.P_farkle(num_dice))\n",
    "    \n",
    "    # todo: probs best as an iter\n",
    "    @property\n",
    "    def _hash_frequencies(self):\n",
    "        hash_to_dh = {}\n",
    "        hash_to_freq = {}\n",
    "        for d in self.dice_range:\n",
    "            hash_to_freq[d] = {}\n",
    "            for dh, freq in self.possible_score_frequencies[d].items():\n",
    "                hash_to_dh[str(hash(dh))] = dh\n",
    "                hash_to_freq[d][str(hash(dh))] = freq\n",
    "        return hash_to_dh, hash_to_freq\n",
    "    \n",
    "    @staticmethod\n",
    "    def _unhash_frequencies(hash_to_dh, hash_to_freq):\n",
    "        _possible_score_freq = {}\n",
    "        for d in hash_to_freq:\n",
    "            d_int = int(d)\n",
    "            _possible_score_freq[d_int] = defaultdict(int)\n",
    "            for h, freq in hash_to_freq[d].items():\n",
    "                if hash_to_dh[h] is not None:\n",
    "                    dh = go.DiceHand.json_decode(hash_to_dh[h])\n",
    "                else:\n",
    "                    dh = None\n",
    "                _possible_score_freq[d_int][dh] = int(freq)\n",
    "        return _possible_score_freq\n",
    "        \n",
    "    @property\n",
    "    def json_encode(self):\n",
    "        hash_to_dh, hash_to_freq = self._hash_frequencies\n",
    "        d = {'max_dice': self.max_dice, \n",
    "             'roll_obs': self.roll_obs, \n",
    "             'possible_score_obs': self.possible_score_obs, \n",
    "             'hash_to_dh': hash_to_dh, \n",
    "             'hash_to_freq': hash_to_freq}\n",
    "             # 'possible_score_frequencies': self.possible_score_frequencies}\n",
    "        return json.dumps(d, cls=DiceHandEncoder)\n",
    "    \n",
    "    def save(self, path: str):\n",
    "        j = self.json_encode\n",
    "        with open(path, 'w') as f:\n",
    "            f.write(j)\n",
    "        \n",
    "    @staticmethod\n",
    "    def load(path: str):\n",
    "        with open(path, 'r') as f:\n",
    "            j = json.loads(f.read()) #, object_hook=as_dicehand)\n",
    "        \n",
    "        mcs = MonteCarloSimulation(j['max_dice'])\n",
    "        mcs.roll_obs = {int(k): v for k, v in j['roll_obs'].items()}\n",
    "        mcs.possible_score_obs = {int(k): v for k, v in j['possible_score_obs'].items()}\n",
    "        mcs.possible_score_frequencies = MonteCarloSimulation._unhash_frequencies(j['hash_to_dh'], \n",
    "                                                                                  j['hash_to_freq'])\n",
    "        return mcs"
   ]
  },
  {
   "cell_type": "code",
   "execution_count": 8,
   "id": "b9e4ff0d-38d8-442f-9a37-712d879263b0",
   "metadata": {},
   "outputs": [
    {
     "name": "stdout",
     "output_type": "stream",
     "text": [
      "{1: 16, 2: 96, 3: 576, 4: 3456, 5: 20736, 6: 124416}\n"
     ]
    }
   ],
   "source": [
    "# mcs = MonteCarloSimulation()\n",
    "prob_path = '../../../models/possible_score_frequencies.json'\n",
    "mcs = MonteCarloSimulation.load(prob_path)\n",
    "print(mcs.roll_obs)"
   ]
  },
  {
   "cell_type": "code",
   "execution_count": 9,
   "id": "6aaee068-21d0-4cba-beb9-e0ff69e7c892",
   "metadata": {},
   "outputs": [
    {
     "name": "stdout",
     "output_type": "stream",
     "text": [
      "Die: 1 | #################### | 100%\n",
      "\n",
      "Die: 2 | #################### | 100%\n",
      "\n",
      "Die: 3 | #################### | 100%\n",
      "\n",
      "Die: 4 | #################### | 100%\n",
      "\n",
      "Die: 5 | #################### | 100%\n",
      "\n",
      "Die: 6 | #################### | 100%\n",
      "\n",
      "21.91 minutes to run\n"
     ]
    }
   ],
   "source": [
    "t0 = perf_counter()\n",
    "mcs.roll_all(3)\n",
    "t1 = perf_counter()\n",
    "print(f'{round((t1-t0) / 60, 2)} minutes to run')\n",
    "\n",
    "mcs.save(prob_path)"
   ]
  },
  {
   "cell_type": "code",
   "execution_count": 10,
   "id": "f021bef0-eb0d-4359-a8b5-ab5447b2eddb",
   "metadata": {},
   "outputs": [
    {
     "data": {
      "text/plain": [
       "{1: 19, 2: 114, 3: 684, 4: 4104, 5: 24624, 6: 147744}"
      ]
     },
     "execution_count": 10,
     "metadata": {},
     "output_type": "execute_result"
    }
   ],
   "source": [
    "mcs.roll_obs"
   ]
  },
  {
   "cell_type": "code",
   "execution_count": 12,
   "id": "34949ba4-e94e-43da-b590-7ff53e79a5d6",
   "metadata": {},
   "outputs": [
    {
     "data": {
      "text/plain": [
       "defaultdict(int,\n",
       "            {DiceHand(free=[1], locked=[], score=100): 40,\n",
       "             DiceHand(free=[5], locked=[], score=50): 45,\n",
       "             None: 43,\n",
       "             DiceHand(free=[1, 1], locked=[], score=200): 5,\n",
       "             DiceHand(free=[1, 5], locked=[], score=150): 14,\n",
       "             DiceHand(free=[5, 5], locked=[], score=100): 3})"
      ]
     },
     "execution_count": 12,
     "metadata": {},
     "output_type": "execute_result"
    }
   ],
   "source": [
    "mcs.possible_score_frequencies[2]"
   ]
  },
  {
   "cell_type": "code",
   "execution_count": null,
   "id": "cfb31aa7-899b-46d1-bd6c-d1a590f3d3e5",
   "metadata": {},
   "outputs": [],
   "source": []
  },
  {
   "cell_type": "code",
   "execution_count": null,
   "id": "c46f2352-80f3-4db2-a3c5-e77c738c8a6d",
   "metadata": {},
   "outputs": [],
   "source": []
  },
  {
   "cell_type": "code",
   "execution_count": 4,
   "id": "8b092ec9-cadd-47b3-9521-474d1f2c0f76",
   "metadata": {},
   "outputs": [],
   "source": [
    "class MonteCarloDiceHand(go.DiceHand):\n",
    "    def __init__(self, num_dice):\n",
    "        super().__init__(num_dice=num_dice)\n",
    "\n",
    "        self.possible_score_frequencies = defaultdict(int)\n",
    "        self.roll_obs = 0\n",
    "        self.possible_score_obs = 0\n",
    "\n",
    "    def roll(self):\n",
    "        super().roll()\n",
    "        self.roll_obs += 1\n",
    "        # save resulting possible scores if any otherwise None\n",
    "        if self.possible_scores():\n",
    "            for dh in self.possible_scores():\n",
    "                dh: go.DiceHand\n",
    "                self.possible_score_obs += 1\n",
    "                self.possible_score_frequencies[dh] += 1\n",
    "        else:\n",
    "            self.possible_score_frequencies[None] += 1\n",
    "\n",
    "    @property\n",
    "    def E_any_score(self):\n",
    "        return 1 - (self.possible_score_frequencies[None] / self.roll_obs)\n",
    "\n",
    "    @property\n",
    "    def E_score_arithmetic(self):\n",
    "        E_score = 0\n",
    "        for dh, freq in self.possible_score_frequencies.items():\n",
    "            if dh: E_score += dh.score * freq\n",
    "        return (E_score / self.possible_score_obs) * self.E_any_score"
   ]
  },
  {
   "cell_type": "code",
   "execution_count": 5,
   "id": "778bf825-3e7f-45c5-9a23-8029b0df5527",
   "metadata": {},
   "outputs": [],
   "source": [
    "mcdh = MonteCarloDiceHand(3)"
   ]
  },
  {
   "cell_type": "code",
   "execution_count": 6,
   "id": "f2790a4f-c2dc-4fe2-bcbb-5b5eeaefd416",
   "metadata": {},
   "outputs": [
    {
     "data": {
      "text/plain": [
       "DiceHand(4, 4, 4, score=0)"
      ]
     },
     "execution_count": 6,
     "metadata": {},
     "output_type": "execute_result"
    }
   ],
   "source": [
    "mcdh"
   ]
  },
  {
   "cell_type": "code",
   "execution_count": 7,
   "id": "ae18d991-530e-40cb-81a1-e336d71dcb0b",
   "metadata": {},
   "outputs": [],
   "source": [
    "mcdh.roll()"
   ]
  },
  {
   "cell_type": "code",
   "execution_count": 8,
   "id": "7493941b-e978-479f-bb5d-49a9309e5a72",
   "metadata": {},
   "outputs": [
    {
     "data": {
      "text/plain": [
       "DiceHand(1, 2, 2, score=0)"
      ]
     },
     "execution_count": 8,
     "metadata": {},
     "output_type": "execute_result"
    }
   ],
   "source": [
    "mcdh"
   ]
  },
  {
   "cell_type": "code",
   "execution_count": 9,
   "id": "b0fe110c-86bb-4d75-8c58-3dbc4cae403e",
   "metadata": {},
   "outputs": [
    {
     "data": {
      "text/plain": [
       "defaultdict(int, {DiceHand(1, score=100): 1})"
      ]
     },
     "execution_count": 9,
     "metadata": {},
     "output_type": "execute_result"
    }
   ],
   "source": [
    "mcdh.possible_score_frequencies"
   ]
  },
  {
   "cell_type": "code",
   "execution_count": 10,
   "id": "4e9f75ba-2a4c-4336-a454-0dc271bdb322",
   "metadata": {},
   "outputs": [],
   "source": [
    "for i in range(4):\n",
    "    mcdh.roll()"
   ]
  },
  {
   "cell_type": "code",
   "execution_count": 11,
   "id": "1718a7cf-840d-4563-8d20-120ffb7cfef0",
   "metadata": {},
   "outputs": [
    {
     "data": {
      "text/plain": [
       "defaultdict(int,\n",
       "            {DiceHand(1, score=100): 1,\n",
       "             None: 3,\n",
       "             DiceHand(5, score=50): 1,\n",
       "             DiceHand(5, 5, score=100): 1})"
      ]
     },
     "execution_count": 11,
     "metadata": {},
     "output_type": "execute_result"
    }
   ],
   "source": [
    "mcdh.possible_score_frequencies"
   ]
  },
  {
   "cell_type": "code",
   "execution_count": 13,
   "id": "425772f3-ef75-4e3c-bb53-c24d6571a6e2",
   "metadata": {},
   "outputs": [
    {
     "data": {
      "text/plain": [
       "5"
      ]
     },
     "execution_count": 13,
     "metadata": {},
     "output_type": "execute_result"
    }
   ],
   "source": [
    "mcdh.roll_obs"
   ]
  },
  {
   "cell_type": "code",
   "execution_count": 14,
   "id": "1ebc7770-7f60-40af-90fb-d9c1c5258294",
   "metadata": {},
   "outputs": [
    {
     "data": {
      "text/plain": [
       "0.4"
      ]
     },
     "execution_count": 14,
     "metadata": {},
     "output_type": "execute_result"
    }
   ],
   "source": [
    "mcdh.E_any_score"
   ]
  },
  {
   "cell_type": "code",
   "execution_count": 15,
   "id": "4dd421d0-e2d9-4e1d-a7cd-f9c94721e766",
   "metadata": {},
   "outputs": [
    {
     "data": {
      "text/plain": [
       "33.333333333333336"
      ]
     },
     "execution_count": 15,
     "metadata": {},
     "output_type": "execute_result"
    }
   ],
   "source": [
    "mcdh.E_score_arithmetic"
   ]
  },
  {
   "cell_type": "code",
   "execution_count": null,
   "id": "5cb5cf68-0b38-4fa2-b1d4-27f9c8096481",
   "metadata": {},
   "outputs": [],
   "source": []
  }
 ],
 "metadata": {
  "kernelspec": {
   "display_name": "my-venv",
   "language": "python",
   "name": "my-venv"
  },
  "language_info": {
   "codemirror_mode": {
    "name": "ipython",
    "version": 3
   },
   "file_extension": ".py",
   "mimetype": "text/x-python",
   "name": "python",
   "nbconvert_exporter": "python",
   "pygments_lexer": "ipython3",
   "version": "3.10.9"
  }
 },
 "nbformat": 4,
 "nbformat_minor": 5
}
