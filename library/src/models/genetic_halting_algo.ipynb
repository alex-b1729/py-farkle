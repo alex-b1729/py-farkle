{
 "cells": [
  {
   "cell_type": "markdown",
   "id": "fd60f6fd-6adf-4218-85d5-afffe9a36cd6",
   "metadata": {},
   "source": [
    "# Genetic algorithm Farkle player"
   ]
  },
  {
   "cell_type": "markdown",
   "id": "5926c5ac-6bc9-4f7b-9d52-4b044fa7a431",
   "metadata": {},
   "source": [
    "The goal of this player is to maximize their individual score in an infinite game. \n",
    "\n",
    "For any number of dice remaining there should be a cutoff score at which you would no longer be willing to roll and risk your current score. Rather than directly figure out the expected score from rolling any number of dice I'll just write a genetic algo to backout the threshold score at which you should no longer roll. "
   ]
  },
  {
   "cell_type": "code",
   "execution_count": 24,
   "id": "36c2dc52-6160-43d0-ab43-1d4c9be6fd13",
   "metadata": {},
   "outputs": [],
   "source": [
    "import sys\n",
    "sys.path.insert(0, '../../src')\n",
    "\n",
    "import json\n",
    "import random\n",
    "from time import perf_counter\n",
    "import matplotlib.pyplot as plt\n",
    "from collections import defaultdict\n",
    "\n",
    "from farkle.game.players import Player\n",
    "from farkle.logic import gameobjects as go"
   ]
  },
  {
   "cell_type": "code",
   "execution_count": null,
   "id": "90d5c4a1-1504-4464-b2b9-bce7a87b13c3",
   "metadata": {},
   "outputs": [],
   "source": []
  },
  {
   "cell_type": "code",
   "execution_count": 2,
   "id": "9d728ea2-40be-44b7-80d2-51c8bd5940fd",
   "metadata": {},
   "outputs": [],
   "source": [
    "def unhash_frequencies(hash_to_dh, hash_to_freq):\n",
    "    _possible_score_freq = {}\n",
    "    for d in hash_to_freq:\n",
    "        d_int = int(d)\n",
    "        _possible_score_freq[d_int] = defaultdict(int)\n",
    "        for h, freq in hash_to_freq[d].items():\n",
    "            if hash_to_dh[h] is not None:\n",
    "                dh = go.DiceHand.json_decode(hash_to_dh[h])\n",
    "            else:\n",
    "                dh = None\n",
    "            _possible_score_freq[d_int][dh] = int(freq)\n",
    "    return _possible_score_freq\n",
    "\n",
    "def load_freq(path: str):\n",
    "    with open(path, 'r') as f:\n",
    "        j = json.loads(f.read())\n",
    "\n",
    "    return unhash_frequencies(j['hash_to_dh'], j['hash_to_freq'])"
   ]
  },
  {
   "cell_type": "code",
   "execution_count": 3,
   "id": "7f31826e-071f-4f03-8f28-d6f60824f104",
   "metadata": {},
   "outputs": [],
   "source": [
    "freq_path = '../../../models/possible_score_frequencies.json'\n",
    "possible_score_frequencies = load_freq(freq_path)"
   ]
  },
  {
   "cell_type": "code",
   "execution_count": 4,
   "id": "ffaba82a-7d38-479d-a612-618e76338dfa",
   "metadata": {},
   "outputs": [],
   "source": [
    "def p_farkle(num_dice: int = None):\n",
    "    if num_dice == 0: num_dice = 6\n",
    "    if num_dice is not None:\n",
    "        return possible_score_frequencies[num_dice][None] / 6**num_dice\n",
    "    else:\n",
    "        return {num_dice: possible_score_frequencies[num_dice][None] / 6**num_dice \n",
    "                for num_dice in possible_score_frequencies}"
   ]
  },
  {
   "cell_type": "code",
   "execution_count": 5,
   "id": "1da03819-f4b6-461c-9f2f-03edf61bab94",
   "metadata": {},
   "outputs": [],
   "source": [
    "def weighted_score(dice_left: int, total_score: int):\n",
    "    assert dice_left in range(0, 7) and total_score >= 0\n",
    "    return (1-p_farkle(dice_left)) * (total_score+50)"
   ]
  },
  {
   "cell_type": "code",
   "execution_count": null,
   "id": "5de94a7c-979a-4709-80f8-88d70dfd94c0",
   "metadata": {},
   "outputs": [],
   "source": []
  },
  {
   "cell_type": "code",
   "execution_count": 6,
   "id": "d83684c2-807a-42d4-97dd-d29da6bb4655",
   "metadata": {},
   "outputs": [],
   "source": [
    "class GeneticThresholdScorePlayer(Player):\n",
    "    def __init__(self, name: str, thresholds: dict):\n",
    "        \"\"\"\n",
    "        thresholds : dict\n",
    "            Keys are num dice remaining and values are the thresholds above which \n",
    "            the player will no longer roll again\n",
    "        \"\"\"\n",
    "        super().__init__(name=name)\n",
    "        self.thresholds = thresholds\n",
    "                \n",
    "    def play_dicehand(self, dice_hand: go.DiceHand, game_state: go.GameState) -> go.RollDecision:\n",
    "        \"\"\"\n",
    "        In GameState player ignores everything but dice_hand\n",
    "        \n",
    "        score decision logic:\n",
    "            1. For each possible score determine whether this player will\n",
    "            choose to roll again using the player's total un-weighted score\n",
    "            and the remaining dice. \n",
    "            2. For those where we roll again take the weighted score. For \n",
    "            those where we don't roll again take the unweighted score. \n",
    "            3. Choose the scoring option with the largest score from step 2. \n",
    "            4. Use the re-roll decision from step 1. \n",
    "            \n",
    "        I don't know that this is the best behavior, I actually think it is not\n",
    "        \"\"\"\n",
    "        ps_list = dice_hand.possible_scores()\n",
    "        compare_score = []\n",
    "        roll_again_list = []\n",
    "        for ps in ps_list:\n",
    "            dice_left = len(dice_hand.free_dice) - len(ps.free_dice)\n",
    "            total_score = self.score + dice_hand.score + ps.score\n",
    "            wght_score = weighted_score(dice_left, total_score)\n",
    "            \n",
    "            roll_again = dice_left == 0\n",
    "            if not roll_again: roll_again = total_score < self.thresholds[dice_left]\n",
    "            roll_again_list.append(roll_again)\n",
    "            \n",
    "            if roll_again: compare_score.append(wght_score)\n",
    "            else: compare_score.append(total_score)\n",
    "        \n",
    "        choose_index = compare_score.index(max(compare_score))\n",
    "        choose_ps = ps_list[choose_index]\n",
    "        choose_roll_again = roll_again_list[choose_index]\n",
    "        \n",
    "        post_dice_hand = dice_hand.copy()\n",
    "        post_dice_hand.lock_from_dicehand(choose_ps)\n",
    "        \n",
    "        return go.RollDecision(dice_hand, post_dice_hand, choose_roll_again)"
   ]
  },
  {
   "cell_type": "code",
   "execution_count": 7,
   "id": "22b1b2e9-0e2d-43ab-9cd5-91709f3addbe",
   "metadata": {},
   "outputs": [
    {
     "name": "stdout",
     "output_type": "stream",
     "text": [
      "DiceHand(free=[1, 2, 2, 2], locked=[], score=300)\n",
      "Total score: 300\n",
      "Dice remaining: 2\n",
      "Prob of farkle: 0.4444444444444444\n",
      "Weighted score: 194.44444444444446\n",
      "\n",
      "\n",
      "DiceHand(free=[2, 2, 2], locked=[], score=200)\n",
      "Total score: 200\n",
      "Dice remaining: 3\n",
      "Prob of farkle: 0.2777777777777778\n",
      "Weighted score: 180.55555555555554\n",
      "\n",
      "\n",
      "DiceHand(free=[1], locked=[], score=100)\n",
      "Total score: 100\n",
      "Dice remaining: 5\n",
      "Prob of farkle: 0.07716049382716049\n",
      "Weighted score: 138.42592592592592\n",
      "\n",
      "\n",
      "RollDecision(dicehand_pre=DiceHand(free=[1, 2, 2, 2, 3, 4], locked=[], score=0), dicehand_post=DiceHand(free=[3, 4], locked=[1, 2, 2, 2], score=300), will_roll_again=True)\n"
     ]
    }
   ],
   "source": [
    "# example of behavior I wouldn't do myself\n",
    "# I would take the 1 and leave the 2,2,2 since seems\n",
    "# like a waist of 3 dice that would likely get a better score\n",
    "thresholds = {i+1: 500 + 200 * i for i in range(5)}\n",
    "name = 'gtsp1'\n",
    "gtsp = GeneticThresholdScorePlayer(name=name, thresholds=thresholds)\n",
    "# gtsp.thresholds\n",
    "\n",
    "dh = go.DiceHand(1,2,2,2,4,3)\n",
    "# dh\n",
    "\n",
    "for ps in dh.possible_scores():\n",
    "    ps: go.DiceHand\n",
    "    added_score = ps.score\n",
    "    total_score = dh.score + added_score\n",
    "    dice_left = len(dh.free_dice) - len(ps.free_dice)\n",
    "    print(ps)\n",
    "    print(f'Total score: {total_score}')\n",
    "    print(f'Dice remaining: {dice_left}')\n",
    "    print(f'Prob of farkle: {p_farkle(dice_left)}')\n",
    "    print(f'Weighted score: {(1-p_farkle(dice_left)) * (total_score+50)}')\n",
    "    print('\\n')\n",
    "\n",
    "game_state = go.GameState(scores={name: 0}, \n",
    "                          current_player_name=name, \n",
    "                          dice_hand=dh, \n",
    "                          goal_score=None)\n",
    "# game_state\n",
    "\n",
    "print(gtsp.play_dicehand(dh, game_state))"
   ]
  },
  {
   "cell_type": "code",
   "execution_count": null,
   "id": "9be0caba-3a00-40d6-a87f-af98e2bc4228",
   "metadata": {},
   "outputs": [],
   "source": []
  },
  {
   "cell_type": "code",
   "execution_count": 8,
   "id": "f7f78111-b4ea-4b07-99fb-157ffa3f1362",
   "metadata": {},
   "outputs": [
    {
     "name": "stdout",
     "output_type": "stream",
     "text": [
      "{1: 500, 2: 700, 3: 900, 4: 1100, 5: 1300} \n",
      "\n",
      "DiceHand(free=[1, 2, 2, 2], locked=[], score=300)\n",
      "Total score: 600\n",
      "Dice remaining: 2\n",
      "Prob of farkle: 0.4444444444444444\n",
      "Weighted score: 361.11111111111114\n",
      "\n",
      "\n",
      "DiceHand(free=[2, 2, 2], locked=[], score=200)\n",
      "Total score: 500\n",
      "Dice remaining: 3\n",
      "Prob of farkle: 0.2777777777777778\n",
      "Weighted score: 397.22222222222223\n",
      "\n",
      "\n",
      "DiceHand(free=[1], locked=[], score=100)\n",
      "Total score: 400\n",
      "Dice remaining: 5\n",
      "Prob of farkle: 0.07716049382716049\n",
      "Weighted score: 415.27777777777777\n",
      "\n",
      "\n",
      "RollDecision(dicehand_pre=DiceHand(free=[1, 2, 2, 2, 3, 4], locked=[], score=0), dicehand_post=DiceHand(free=[2, 2, 2, 3, 4], locked=[1], score=100), will_roll_again=True)\n"
     ]
    }
   ],
   "source": [
    "thresholds = {i+1: 500 + 200 * i for i in range(5)}\n",
    "name = 'gtsp1'\n",
    "gtsp = GeneticThresholdScorePlayer(name=name, thresholds=thresholds)\n",
    "gtsp.score = 300  # can change above behaior if change player score\n",
    "print(gtsp.thresholds, '\\n')\n",
    "\n",
    "dh = go.DiceHand(1,2,2,2,4,3)\n",
    "# dh\n",
    "\n",
    "for ps in dh.possible_scores():\n",
    "    ps: go.DiceHand\n",
    "    added_score = ps.score\n",
    "    total_score = dh.score + added_score + gtsp.score\n",
    "    dice_left = len(dh.free_dice) - len(ps.free_dice)\n",
    "    print(ps)\n",
    "    print(f'Total score: {total_score}')\n",
    "    print(f'Dice remaining: {dice_left}')\n",
    "    print(f'Prob of farkle: {p_farkle(dice_left)}')\n",
    "    print(f'Weighted score: {(1-p_farkle(dice_left)) * (total_score+50)}')\n",
    "    print('\\n')\n",
    "\n",
    "game_state = go.GameState(scores={name: 0}, \n",
    "                          current_player_name=name, \n",
    "                          dice_hand=dh, \n",
    "                          goal_score=None)\n",
    "# game_state\n",
    "\n",
    "print(gtsp.play_dicehand(dh, game_state))"
   ]
  },
  {
   "cell_type": "code",
   "execution_count": 32,
   "id": "4a619de9-3840-46f7-b19e-fab1d3aefed4",
   "metadata": {},
   "outputs": [
    {
     "data": {
      "text/plain": [
       "(array([2.700e+01, 2.370e+02, 9.650e+02, 2.329e+03, 3.141e+03, 2.196e+03,\n",
       "        8.920e+02, 1.930e+02, 1.700e+01, 3.000e+00]),\n",
       " array([-3.53199883, -2.73547985, -1.93896087, -1.14244189, -0.34592292,\n",
       "         0.45059606,  1.24711504,  2.04363402,  2.840153  ,  3.63667198,\n",
       "         4.43319096]),\n",
       " <BarContainer object of 10 artists>)"
      ]
     },
     "execution_count": 32,
     "metadata": {},
     "output_type": "execute_result"
    },
    {
     "data": {
      "image/png": "[encoded data removed]",
      "text/plain": [
       "<Figure size 640x480 with 1 Axes>"
      ]
     },
     "metadata": {},
     "output_type": "display_data"
    }
   ],
   "source": [
    "l = [random.gauss(0, 1) for _ in range(10000)]\n",
    "\n",
    "plt.hist(l)"
   ]
  },
  {
   "cell_type": "code",
   "execution_count": 39,
   "id": "ff70acc6-8c7f-491c-8ae2-0253d73d43e3",
   "metadata": {},
   "outputs": [
    {
     "data": {
      "text/plain": [
       "4"
      ]
     },
     "execution_count": 39,
     "metadata": {},
     "output_type": "execute_result"
    }
   ],
   "source": [
    "l = [1,4,5]\n",
    "l.pop(1)"
   ]
  },
  {
   "cell_type": "code",
   "execution_count": 40,
   "id": "e9134bc5-9255-4555-8e65-b018dc96259a",
   "metadata": {},
   "outputs": [
    {
     "data": {
      "text/plain": [
       "[1, 5]"
      ]
     },
     "execution_count": 40,
     "metadata": {},
     "output_type": "execute_result"
    }
   ],
   "source": [
    "l"
   ]
  },
  {
   "cell_type": "code",
   "execution_count": null,
   "id": "bc4b460d-3bc6-4008-8067-06b6072ae749",
   "metadata": {},
   "outputs": [],
   "source": []
  },
  {
   "cell_type": "code",
   "execution_count": null,
   "id": "f9866e57-3fd6-4b7d-bad1-100c3d437ab7",
   "metadata": {},
   "outputs": [],
   "source": []
  },
  {
   "cell_type": "code",
   "execution_count": 50,
   "id": "b2031c7a-e3cb-4d43-bec0-4c5489bd84aa",
   "metadata": {
    "tags": []
   },
   "outputs": [
    {
     "name": "stdout",
     "output_type": "stream",
     "text": [
      "epoch:  0\n",
      "player gtsp6 of 30"
     ]
    },
    {
     "ename": "KeyboardInterrupt",
     "evalue": "",
     "output_type": "error",
     "traceback": [
      "\u001b[0;31m---------------------------------------------------------------------------\u001b[0m",
      "\u001b[0;31mKeyboardInterrupt\u001b[0m                         Traceback (most recent call last)",
      "Cell \u001b[0;32mIn[50], line 44\u001b[0m\n\u001b[1;32m     42\u001b[0m \u001b[38;5;28;01melse\u001b[39;00m:\n\u001b[1;32m     43\u001b[0m     dh\u001b[38;5;241m.\u001b[39mroll()\n\u001b[0;32m---> 44\u001b[0m farkled \u001b[38;5;241m=\u001b[39m \u001b[43mdh\u001b[49m\u001b[38;5;241;43m.\u001b[39;49m\u001b[43mfarkled\u001b[49m\n\u001b[1;32m     46\u001b[0m \u001b[38;5;66;03m# gen current state before player makes roll decision\u001b[39;00m\n\u001b[1;32m     47\u001b[0m game_state \u001b[38;5;241m=\u001b[39m go\u001b[38;5;241m.\u001b[39mGameState(game_state_pre\u001b[38;5;241m.\u001b[39mscores,\n\u001b[1;32m     48\u001b[0m                           player\u001b[38;5;241m.\u001b[39mname,\n\u001b[1;32m     49\u001b[0m                           dh,\n\u001b[1;32m     50\u001b[0m                           game_state_pre\u001b[38;5;241m.\u001b[39mgoal_score)\n",
      "File \u001b[0;32m~/ab/Scripts/py-farkle/library/src/models/../../src/farkle/logic/gameobjects.py:314\u001b[0m, in \u001b[0;36mDiceHand.farkled\u001b[0;34m(self)\u001b[0m\n\u001b[1;32m    311\u001b[0m \u001b[38;5;129m@property\u001b[39m\n\u001b[1;32m    312\u001b[0m \u001b[38;5;28;01mdef\u001b[39;00m \u001b[38;5;21mfarkled\u001b[39m(\u001b[38;5;28mself\u001b[39m) \u001b[38;5;241m-\u001b[39m\u001b[38;5;241m>\u001b[39m \u001b[38;5;28mbool\u001b[39m:\n\u001b[1;32m    313\u001b[0m \u001b[38;5;250m    \u001b[39m\u001b[38;5;124;03m\"\"\"True if no possible scores and all dice are not locked\"\"\"\u001b[39;00m\n\u001b[0;32m--> 314\u001b[0m     \u001b[38;5;28;01mreturn\u001b[39;00m \u001b[38;5;28;43mself\u001b[39;49m\u001b[38;5;241;43m.\u001b[39;49m\u001b[43mpossible_scores\u001b[49m\u001b[43m(\u001b[49m\u001b[43m)\u001b[49m \u001b[38;5;241m==\u001b[39m [] \u001b[38;5;129;01mand\u001b[39;00m \u001b[38;5;129;01mnot\u001b[39;00m \u001b[38;5;28mself\u001b[39m\u001b[38;5;241m.\u001b[39mall_locked\n",
      "File \u001b[0;32m~/ab/Scripts/py-farkle/library/src/models/../../src/farkle/logic/gameobjects.py:309\u001b[0m, in \u001b[0;36mDiceHand.possible_scores\u001b[0;34m(self)\u001b[0m\n\u001b[1;32m    306\u001b[0m \u001b[38;5;28;01mdef\u001b[39;00m \u001b[38;5;21mpossible_scores\u001b[39m(\u001b[38;5;28mself\u001b[39m) \u001b[38;5;241m-\u001b[39m\u001b[38;5;241m>\u001b[39m \u001b[38;5;28mlist\u001b[39m:\n\u001b[1;32m    307\u001b[0m \u001b[38;5;250m    \u001b[39m\u001b[38;5;124;03m\"\"\"Returns list of DiceHand objects representing all possible\u001b[39;00m\n\u001b[1;32m    308\u001b[0m \u001b[38;5;124;03m    scoring hands of self\"\"\"\u001b[39;00m\n\u001b[0;32m--> 309\u001b[0m     \u001b[38;5;28;01mreturn\u001b[39;00m \u001b[38;5;28mlist\u001b[39m(\u001b[38;5;28mset\u001b[39m(\u001b[38;5;28;43mself\u001b[39;49m\u001b[38;5;241;43m.\u001b[39;49m\u001b[43m_all_duplicate_possible_scores\u001b[49m\u001b[43m(\u001b[49m\u001b[38;5;28;43mself\u001b[39;49m\u001b[38;5;241;43m.\u001b[39;49m\u001b[43mcopy\u001b[49m\u001b[43m(\u001b[49m\u001b[43m)\u001b[49m\u001b[43m)\u001b[49m))\n",
      "File \u001b[0;32m~/ab/Scripts/py-farkle/library/src/models/../../src/farkle/logic/gameobjects.py:297\u001b[0m, in \u001b[0;36mDiceHand._all_duplicate_possible_scores\u001b[0;34m(self, dice_hand, ps_list)\u001b[0m\n\u001b[1;32m    295\u001b[0m new_search_dh \u001b[38;5;241m=\u001b[39m search_dh\u001b[38;5;241m.\u001b[39mcopy()\n\u001b[1;32m    296\u001b[0m new_search_dh\u001b[38;5;241m.\u001b[39mlock_from_dicehand(ps)\n\u001b[0;32m--> 297\u001b[0m additional_possible_score_list \u001b[38;5;241m=\u001b[39m \u001b[38;5;28;43mself\u001b[39;49m\u001b[38;5;241;43m.\u001b[39;49m\u001b[43m_all_duplicate_possible_scores\u001b[49m\u001b[43m(\u001b[49m\u001b[43mnew_search_dh\u001b[49m\u001b[43m,\u001b[49m\n\u001b[1;32m    298\u001b[0m \u001b[43m                                                                     \u001b[49m\u001b[43mpossible_score_list\u001b[49m\u001b[43m)\u001b[49m\n\u001b[1;32m    299\u001b[0m \u001b[38;5;28;01mfor\u001b[39;00m aps \u001b[38;5;129;01min\u001b[39;00m additional_possible_score_list:\n\u001b[1;32m    300\u001b[0m     ps_sum \u001b[38;5;241m=\u001b[39m ps \u001b[38;5;241m+\u001b[39m aps\n",
      "File \u001b[0;32m~/ab/Scripts/py-farkle/library/src/models/../../src/farkle/logic/gameobjects.py:297\u001b[0m, in \u001b[0;36mDiceHand._all_duplicate_possible_scores\u001b[0;34m(self, dice_hand, ps_list)\u001b[0m\n\u001b[1;32m    295\u001b[0m new_search_dh \u001b[38;5;241m=\u001b[39m search_dh\u001b[38;5;241m.\u001b[39mcopy()\n\u001b[1;32m    296\u001b[0m new_search_dh\u001b[38;5;241m.\u001b[39mlock_from_dicehand(ps)\n\u001b[0;32m--> 297\u001b[0m additional_possible_score_list \u001b[38;5;241m=\u001b[39m \u001b[38;5;28;43mself\u001b[39;49m\u001b[38;5;241;43m.\u001b[39;49m\u001b[43m_all_duplicate_possible_scores\u001b[49m\u001b[43m(\u001b[49m\u001b[43mnew_search_dh\u001b[49m\u001b[43m,\u001b[49m\n\u001b[1;32m    298\u001b[0m \u001b[43m                                                                     \u001b[49m\u001b[43mpossible_score_list\u001b[49m\u001b[43m)\u001b[49m\n\u001b[1;32m    299\u001b[0m \u001b[38;5;28;01mfor\u001b[39;00m aps \u001b[38;5;129;01min\u001b[39;00m additional_possible_score_list:\n\u001b[1;32m    300\u001b[0m     ps_sum \u001b[38;5;241m=\u001b[39m ps \u001b[38;5;241m+\u001b[39m aps\n",
      "File \u001b[0;32m~/ab/Scripts/py-farkle/library/src/models/../../src/farkle/logic/gameobjects.py:297\u001b[0m, in \u001b[0;36mDiceHand._all_duplicate_possible_scores\u001b[0;34m(self, dice_hand, ps_list)\u001b[0m\n\u001b[1;32m    295\u001b[0m new_search_dh \u001b[38;5;241m=\u001b[39m search_dh\u001b[38;5;241m.\u001b[39mcopy()\n\u001b[1;32m    296\u001b[0m new_search_dh\u001b[38;5;241m.\u001b[39mlock_from_dicehand(ps)\n\u001b[0;32m--> 297\u001b[0m additional_possible_score_list \u001b[38;5;241m=\u001b[39m \u001b[38;5;28;43mself\u001b[39;49m\u001b[38;5;241;43m.\u001b[39;49m\u001b[43m_all_duplicate_possible_scores\u001b[49m\u001b[43m(\u001b[49m\u001b[43mnew_search_dh\u001b[49m\u001b[43m,\u001b[49m\n\u001b[1;32m    298\u001b[0m \u001b[43m                                                                     \u001b[49m\u001b[43mpossible_score_list\u001b[49m\u001b[43m)\u001b[49m\n\u001b[1;32m    299\u001b[0m \u001b[38;5;28;01mfor\u001b[39;00m aps \u001b[38;5;129;01min\u001b[39;00m additional_possible_score_list:\n\u001b[1;32m    300\u001b[0m     ps_sum \u001b[38;5;241m=\u001b[39m ps \u001b[38;5;241m+\u001b[39m aps\n",
      "File \u001b[0;32m~/ab/Scripts/py-farkle/library/src/models/../../src/farkle/logic/gameobjects.py:293\u001b[0m, in \u001b[0;36mDiceHand._all_duplicate_possible_scores\u001b[0;34m(self, dice_hand, ps_list)\u001b[0m\n\u001b[1;32m    291\u001b[0m possible_score_list \u001b[38;5;241m=\u001b[39m []\n\u001b[1;32m    292\u001b[0m \u001b[38;5;28;01mfor\u001b[39;00m sh \u001b[38;5;129;01min\u001b[39;00m SCORING_HANDS:\n\u001b[0;32m--> 293\u001b[0m     \u001b[38;5;28;01mif\u001b[39;00m \u001b[43msh\u001b[49m\u001b[43m \u001b[49m\u001b[38;5;129;43;01min\u001b[39;49;00m\u001b[43m \u001b[49m\u001b[43msearch_dh\u001b[49m: possible_score_list\u001b[38;5;241m.\u001b[39mappend(sh)\n\u001b[1;32m    294\u001b[0m \u001b[38;5;28;01mfor\u001b[39;00m ps \u001b[38;5;129;01min\u001b[39;00m possible_score_list:\n\u001b[1;32m    295\u001b[0m     new_search_dh \u001b[38;5;241m=\u001b[39m search_dh\u001b[38;5;241m.\u001b[39mcopy()\n",
      "File \u001b[0;32m~/ab/Scripts/py-farkle/library/src/models/../../src/farkle/logic/gameobjects.py:248\u001b[0m, in \u001b[0;36mDiceHand.__contains__\u001b[0;34m(self, key)\u001b[0m\n\u001b[1;32m    246\u001b[0m is_contained \u001b[38;5;241m=\u001b[39m \u001b[38;5;28;01mFalse\u001b[39;00m\n\u001b[1;32m    247\u001b[0m \u001b[38;5;28;01mif\u001b[39;00m \u001b[38;5;28misinstance\u001b[39m(key, DiceHand) \u001b[38;5;129;01mand\u001b[39;00m \u001b[38;5;28mlen\u001b[39m(\u001b[38;5;28mself\u001b[39m\u001b[38;5;241m.\u001b[39mfree_dice) \u001b[38;5;241m>\u001b[39m\u001b[38;5;241m=\u001b[39m \u001b[38;5;28mlen\u001b[39m(key\u001b[38;5;241m.\u001b[39mfree_dice):\n\u001b[0;32m--> 248\u001b[0m     dice_self \u001b[38;5;241m=\u001b[39m \u001b[38;5;28;43mself\u001b[39;49m\u001b[38;5;241;43m.\u001b[39;49m\u001b[43mcopy\u001b[49m\u001b[43m(\u001b[49m\u001b[43m)\u001b[49m  \u001b[38;5;66;03m# without will modify and lock self\u001b[39;00m\n\u001b[1;32m    249\u001b[0m     dice_compare: DiceHand \u001b[38;5;241m=\u001b[39m key\u001b[38;5;241m.\u001b[39mcopy()\n\u001b[1;32m    250\u001b[0m     didnt_find \u001b[38;5;241m=\u001b[39m \u001b[38;5;28;01mFalse\u001b[39;00m\n",
      "File \u001b[0;32m~/ab/Scripts/py-farkle/library/src/models/../../src/farkle/logic/gameobjects.py:275\u001b[0m, in \u001b[0;36mDiceHand.copy\u001b[0;34m(self)\u001b[0m\n\u001b[1;32m    274\u001b[0m \u001b[38;5;28;01mdef\u001b[39;00m \u001b[38;5;21mcopy\u001b[39m(\u001b[38;5;28mself\u001b[39m):\n\u001b[0;32m--> 275\u001b[0m     \u001b[38;5;28;01mreturn\u001b[39;00m \u001b[43mcopy\u001b[49m\u001b[38;5;241;43m.\u001b[39;49m\u001b[43mdeepcopy\u001b[49m\u001b[43m(\u001b[49m\u001b[38;5;28;43mself\u001b[39;49m\u001b[43m)\u001b[49m\n",
      "File \u001b[0;32m~/anaconda3/lib/python3.10/copy.py:172\u001b[0m, in \u001b[0;36mdeepcopy\u001b[0;34m(x, memo, _nil)\u001b[0m\n\u001b[1;32m    170\u001b[0m                 y \u001b[38;5;241m=\u001b[39m x\n\u001b[1;32m    171\u001b[0m             \u001b[38;5;28;01melse\u001b[39;00m:\n\u001b[0;32m--> 172\u001b[0m                 y \u001b[38;5;241m=\u001b[39m \u001b[43m_reconstruct\u001b[49m\u001b[43m(\u001b[49m\u001b[43mx\u001b[49m\u001b[43m,\u001b[49m\u001b[43m \u001b[49m\u001b[43mmemo\u001b[49m\u001b[43m,\u001b[49m\u001b[43m \u001b[49m\u001b[38;5;241;43m*\u001b[39;49m\u001b[43mrv\u001b[49m\u001b[43m)\u001b[49m\n\u001b[1;32m    174\u001b[0m \u001b[38;5;66;03m# If is its own copy, don't memoize.\u001b[39;00m\n\u001b[1;32m    175\u001b[0m \u001b[38;5;28;01mif\u001b[39;00m y \u001b[38;5;129;01mis\u001b[39;00m \u001b[38;5;129;01mnot\u001b[39;00m x:\n",
      "File \u001b[0;32m~/anaconda3/lib/python3.10/copy.py:271\u001b[0m, in \u001b[0;36m_reconstruct\u001b[0;34m(x, memo, func, args, state, listiter, dictiter, deepcopy)\u001b[0m\n\u001b[1;32m    269\u001b[0m \u001b[38;5;28;01mif\u001b[39;00m state \u001b[38;5;129;01mis\u001b[39;00m \u001b[38;5;129;01mnot\u001b[39;00m \u001b[38;5;28;01mNone\u001b[39;00m:\n\u001b[1;32m    270\u001b[0m     \u001b[38;5;28;01mif\u001b[39;00m deep:\n\u001b[0;32m--> 271\u001b[0m         state \u001b[38;5;241m=\u001b[39m \u001b[43mdeepcopy\u001b[49m\u001b[43m(\u001b[49m\u001b[43mstate\u001b[49m\u001b[43m,\u001b[49m\u001b[43m \u001b[49m\u001b[43mmemo\u001b[49m\u001b[43m)\u001b[49m\n\u001b[1;32m    272\u001b[0m     \u001b[38;5;28;01mif\u001b[39;00m \u001b[38;5;28mhasattr\u001b[39m(y, \u001b[38;5;124m'\u001b[39m\u001b[38;5;124m__setstate__\u001b[39m\u001b[38;5;124m'\u001b[39m):\n\u001b[1;32m    273\u001b[0m         y\u001b[38;5;241m.\u001b[39m__setstate__(state)\n",
      "File \u001b[0;32m~/anaconda3/lib/python3.10/copy.py:146\u001b[0m, in \u001b[0;36mdeepcopy\u001b[0;34m(x, memo, _nil)\u001b[0m\n\u001b[1;32m    144\u001b[0m copier \u001b[38;5;241m=\u001b[39m _deepcopy_dispatch\u001b[38;5;241m.\u001b[39mget(\u001b[38;5;28mcls\u001b[39m)\n\u001b[1;32m    145\u001b[0m \u001b[38;5;28;01mif\u001b[39;00m copier \u001b[38;5;129;01mis\u001b[39;00m \u001b[38;5;129;01mnot\u001b[39;00m \u001b[38;5;28;01mNone\u001b[39;00m:\n\u001b[0;32m--> 146\u001b[0m     y \u001b[38;5;241m=\u001b[39m \u001b[43mcopier\u001b[49m\u001b[43m(\u001b[49m\u001b[43mx\u001b[49m\u001b[43m,\u001b[49m\u001b[43m \u001b[49m\u001b[43mmemo\u001b[49m\u001b[43m)\u001b[49m\n\u001b[1;32m    147\u001b[0m \u001b[38;5;28;01melse\u001b[39;00m:\n\u001b[1;32m    148\u001b[0m     \u001b[38;5;28;01mif\u001b[39;00m \u001b[38;5;28missubclass\u001b[39m(\u001b[38;5;28mcls\u001b[39m, \u001b[38;5;28mtype\u001b[39m):\n",
      "File \u001b[0;32m~/anaconda3/lib/python3.10/copy.py:231\u001b[0m, in \u001b[0;36m_deepcopy_dict\u001b[0;34m(x, memo, deepcopy)\u001b[0m\n\u001b[1;32m    229\u001b[0m memo[\u001b[38;5;28mid\u001b[39m(x)] \u001b[38;5;241m=\u001b[39m y\n\u001b[1;32m    230\u001b[0m \u001b[38;5;28;01mfor\u001b[39;00m key, value \u001b[38;5;129;01min\u001b[39;00m x\u001b[38;5;241m.\u001b[39mitems():\n\u001b[0;32m--> 231\u001b[0m     y[deepcopy(key, memo)] \u001b[38;5;241m=\u001b[39m \u001b[43mdeepcopy\u001b[49m\u001b[43m(\u001b[49m\u001b[43mvalue\u001b[49m\u001b[43m,\u001b[49m\u001b[43m \u001b[49m\u001b[43mmemo\u001b[49m\u001b[43m)\u001b[49m\n\u001b[1;32m    232\u001b[0m \u001b[38;5;28;01mreturn\u001b[39;00m y\n",
      "File \u001b[0;32m~/anaconda3/lib/python3.10/copy.py:146\u001b[0m, in \u001b[0;36mdeepcopy\u001b[0;34m(x, memo, _nil)\u001b[0m\n\u001b[1;32m    144\u001b[0m copier \u001b[38;5;241m=\u001b[39m _deepcopy_dispatch\u001b[38;5;241m.\u001b[39mget(\u001b[38;5;28mcls\u001b[39m)\n\u001b[1;32m    145\u001b[0m \u001b[38;5;28;01mif\u001b[39;00m copier \u001b[38;5;129;01mis\u001b[39;00m \u001b[38;5;129;01mnot\u001b[39;00m \u001b[38;5;28;01mNone\u001b[39;00m:\n\u001b[0;32m--> 146\u001b[0m     y \u001b[38;5;241m=\u001b[39m \u001b[43mcopier\u001b[49m\u001b[43m(\u001b[49m\u001b[43mx\u001b[49m\u001b[43m,\u001b[49m\u001b[43m \u001b[49m\u001b[43mmemo\u001b[49m\u001b[43m)\u001b[49m\n\u001b[1;32m    147\u001b[0m \u001b[38;5;28;01melse\u001b[39;00m:\n\u001b[1;32m    148\u001b[0m     \u001b[38;5;28;01mif\u001b[39;00m \u001b[38;5;28missubclass\u001b[39m(\u001b[38;5;28mcls\u001b[39m, \u001b[38;5;28mtype\u001b[39m):\n",
      "File \u001b[0;32m~/anaconda3/lib/python3.10/copy.py:231\u001b[0m, in \u001b[0;36m_deepcopy_dict\u001b[0;34m(x, memo, deepcopy)\u001b[0m\n\u001b[1;32m    229\u001b[0m memo[\u001b[38;5;28mid\u001b[39m(x)] \u001b[38;5;241m=\u001b[39m y\n\u001b[1;32m    230\u001b[0m \u001b[38;5;28;01mfor\u001b[39;00m key, value \u001b[38;5;129;01min\u001b[39;00m x\u001b[38;5;241m.\u001b[39mitems():\n\u001b[0;32m--> 231\u001b[0m     y[deepcopy(key, memo)] \u001b[38;5;241m=\u001b[39m \u001b[43mdeepcopy\u001b[49m\u001b[43m(\u001b[49m\u001b[43mvalue\u001b[49m\u001b[43m,\u001b[49m\u001b[43m \u001b[49m\u001b[43mmemo\u001b[49m\u001b[43m)\u001b[49m\n\u001b[1;32m    232\u001b[0m \u001b[38;5;28;01mreturn\u001b[39;00m y\n",
      "File \u001b[0;32m~/anaconda3/lib/python3.10/copy.py:172\u001b[0m, in \u001b[0;36mdeepcopy\u001b[0;34m(x, memo, _nil)\u001b[0m\n\u001b[1;32m    170\u001b[0m                 y \u001b[38;5;241m=\u001b[39m x\n\u001b[1;32m    171\u001b[0m             \u001b[38;5;28;01melse\u001b[39;00m:\n\u001b[0;32m--> 172\u001b[0m                 y \u001b[38;5;241m=\u001b[39m \u001b[43m_reconstruct\u001b[49m\u001b[43m(\u001b[49m\u001b[43mx\u001b[49m\u001b[43m,\u001b[49m\u001b[43m \u001b[49m\u001b[43mmemo\u001b[49m\u001b[43m,\u001b[49m\u001b[43m \u001b[49m\u001b[38;5;241;43m*\u001b[39;49m\u001b[43mrv\u001b[49m\u001b[43m)\u001b[49m\n\u001b[1;32m    174\u001b[0m \u001b[38;5;66;03m# If is its own copy, don't memoize.\u001b[39;00m\n\u001b[1;32m    175\u001b[0m \u001b[38;5;28;01mif\u001b[39;00m y \u001b[38;5;129;01mis\u001b[39;00m \u001b[38;5;129;01mnot\u001b[39;00m x:\n",
      "File \u001b[0;32m~/anaconda3/lib/python3.10/copy.py:271\u001b[0m, in \u001b[0;36m_reconstruct\u001b[0;34m(x, memo, func, args, state, listiter, dictiter, deepcopy)\u001b[0m\n\u001b[1;32m    269\u001b[0m \u001b[38;5;28;01mif\u001b[39;00m state \u001b[38;5;129;01mis\u001b[39;00m \u001b[38;5;129;01mnot\u001b[39;00m \u001b[38;5;28;01mNone\u001b[39;00m:\n\u001b[1;32m    270\u001b[0m     \u001b[38;5;28;01mif\u001b[39;00m deep:\n\u001b[0;32m--> 271\u001b[0m         state \u001b[38;5;241m=\u001b[39m \u001b[43mdeepcopy\u001b[49m\u001b[43m(\u001b[49m\u001b[43mstate\u001b[49m\u001b[43m,\u001b[49m\u001b[43m \u001b[49m\u001b[43mmemo\u001b[49m\u001b[43m)\u001b[49m\n\u001b[1;32m    272\u001b[0m     \u001b[38;5;28;01mif\u001b[39;00m \u001b[38;5;28mhasattr\u001b[39m(y, \u001b[38;5;124m'\u001b[39m\u001b[38;5;124m__setstate__\u001b[39m\u001b[38;5;124m'\u001b[39m):\n\u001b[1;32m    273\u001b[0m         y\u001b[38;5;241m.\u001b[39m__setstate__(state)\n",
      "File \u001b[0;32m~/anaconda3/lib/python3.10/copy.py:146\u001b[0m, in \u001b[0;36mdeepcopy\u001b[0;34m(x, memo, _nil)\u001b[0m\n\u001b[1;32m    144\u001b[0m copier \u001b[38;5;241m=\u001b[39m _deepcopy_dispatch\u001b[38;5;241m.\u001b[39mget(\u001b[38;5;28mcls\u001b[39m)\n\u001b[1;32m    145\u001b[0m \u001b[38;5;28;01mif\u001b[39;00m copier \u001b[38;5;129;01mis\u001b[39;00m \u001b[38;5;129;01mnot\u001b[39;00m \u001b[38;5;28;01mNone\u001b[39;00m:\n\u001b[0;32m--> 146\u001b[0m     y \u001b[38;5;241m=\u001b[39m \u001b[43mcopier\u001b[49m\u001b[43m(\u001b[49m\u001b[43mx\u001b[49m\u001b[43m,\u001b[49m\u001b[43m \u001b[49m\u001b[43mmemo\u001b[49m\u001b[43m)\u001b[49m\n\u001b[1;32m    147\u001b[0m \u001b[38;5;28;01melse\u001b[39;00m:\n\u001b[1;32m    148\u001b[0m     \u001b[38;5;28;01mif\u001b[39;00m \u001b[38;5;28missubclass\u001b[39m(\u001b[38;5;28mcls\u001b[39m, \u001b[38;5;28mtype\u001b[39m):\n",
      "File \u001b[0;32m~/anaconda3/lib/python3.10/copy.py:231\u001b[0m, in \u001b[0;36m_deepcopy_dict\u001b[0;34m(x, memo, deepcopy)\u001b[0m\n\u001b[1;32m    229\u001b[0m memo[\u001b[38;5;28mid\u001b[39m(x)] \u001b[38;5;241m=\u001b[39m y\n\u001b[1;32m    230\u001b[0m \u001b[38;5;28;01mfor\u001b[39;00m key, value \u001b[38;5;129;01min\u001b[39;00m x\u001b[38;5;241m.\u001b[39mitems():\n\u001b[0;32m--> 231\u001b[0m     y[deepcopy(key, memo)] \u001b[38;5;241m=\u001b[39m \u001b[43mdeepcopy\u001b[49m\u001b[43m(\u001b[49m\u001b[43mvalue\u001b[49m\u001b[43m,\u001b[49m\u001b[43m \u001b[49m\u001b[43mmemo\u001b[49m\u001b[43m)\u001b[49m\n\u001b[1;32m    232\u001b[0m \u001b[38;5;28;01mreturn\u001b[39;00m y\n",
      "File \u001b[0;32m~/anaconda3/lib/python3.10/copy.py:177\u001b[0m, in \u001b[0;36mdeepcopy\u001b[0;34m(x, memo, _nil)\u001b[0m\n\u001b[1;32m    175\u001b[0m \u001b[38;5;28;01mif\u001b[39;00m y \u001b[38;5;129;01mis\u001b[39;00m \u001b[38;5;129;01mnot\u001b[39;00m x:\n\u001b[1;32m    176\u001b[0m     memo[d] \u001b[38;5;241m=\u001b[39m y\n\u001b[0;32m--> 177\u001b[0m     \u001b[43m_keep_alive\u001b[49m\u001b[43m(\u001b[49m\u001b[43mx\u001b[49m\u001b[43m,\u001b[49m\u001b[43m \u001b[49m\u001b[43mmemo\u001b[49m\u001b[43m)\u001b[49m \u001b[38;5;66;03m# Make sure x lives at least as long as d\u001b[39;00m\n\u001b[1;32m    178\u001b[0m \u001b[38;5;28;01mreturn\u001b[39;00m y\n",
      "\u001b[0;31mKeyboardInterrupt\u001b[0m: "
     ]
    }
   ],
   "source": [
    "num_epochs = 10\n",
    "num_player_turns = 100\n",
    "num_players = 30\n",
    "\n",
    "default_thresholds = {i+1: 300 + 300 * i for i in range(5)}\n",
    "threshold_evolution = [default_thresholds]\n",
    "\n",
    "player_threshold_points_var = 100\n",
    "alpha = 0.2  # thresholds updated with alpha weight on new and 1-alpha on old\n",
    "top_percent_players = 0.1  # top % of players by score who's thresholds update for next epoch\n",
    "top_player_num = int(num_players * top_percent_players)\n",
    "\n",
    "for epoch_idx in range(num_epochs):\n",
    "    print('epoch: ', epoch_idx) #, end=' ')\n",
    "    # init players for this epoch\n",
    "    player_thresholds = [{d: int(random.gauss(t, player_threshold_points_var))\n",
    "                          for d, t in default_thresholds.items()}\n",
    "                         for p in range(num_players)]\n",
    "    players = {f'gtsp{p}': GeneticThresholdScorePlayer(name=f'gtsp{p}', \n",
    "                                                       thresholds=player_thresholds[p])\n",
    "               for p in range(num_players)}\n",
    "    \n",
    "    for player_name in players:\n",
    "        # print(player_name, end=', ')\n",
    "        sys.stdout.write(f'\\rplayer {player_name} of {num_players}')\n",
    "        player = players[player_name]\n",
    "        # init this players dicehand and this gamestate\n",
    "        dh = go.DiceHand()\n",
    "        game_state_pre = go.GameState(scores={player.name: player.score}, \n",
    "                                      current_player_name=player.name, \n",
    "                                      dice_hand=dh, \n",
    "                                      goal_score=None)\n",
    "        for turn_idx in range(num_player_turns):\n",
    "            dh.reset_dice()\n",
    "            farkled = False\n",
    "            will_roll_again = True\n",
    "\n",
    "            while will_roll_again and not farkled:\n",
    "                # if player has hot dice and can re-roll all\n",
    "                if dh.all_locked:\n",
    "                    dh.roll_all_dice()\n",
    "                else:\n",
    "                    dh.roll()\n",
    "                farkled = dh.farkled\n",
    "\n",
    "                # gen current state before player makes roll decision\n",
    "                game_state = go.GameState(game_state_pre.scores,\n",
    "                                          player.name,\n",
    "                                          dh,\n",
    "                                          game_state_pre.goal_score)\n",
    "\n",
    "                if not farkled:\n",
    "                    roll_decision = player.play_dicehand(dh, game_state)\n",
    "                    dh = roll_decision.dicehand_post\n",
    "                    will_roll_again = roll_decision.will_roll_again\n",
    "\n",
    "            points_earned = dh.score if not farkled else 0\n",
    "            player.score += points_earned\n",
    "\n",
    "    # find players with top x% scores\n",
    "    best_scores = [0]  # init w/ 0 so can call max()\n",
    "    best_thresholds = []\n",
    "    for player_name in players:\n",
    "        if players[player_name].score > min(best_scores):\n",
    "            if len(best_scores) == top_player_num:\n",
    "                remove_idx = best_scores.index(min(best_scores))\n",
    "                best_scores.pop(remove_idx)\n",
    "                best_thresholds.pop(remove_idx)\n",
    "            elif len(best_scores) > top_player_num:\n",
    "                raise print('\\n\\n\\nwtf\\n\\n\\n')\n",
    "                \n",
    "            best_scores.append(players[player_name].score)\n",
    "            best_thresholds.append(players[player_name].threshold)\n",
    "            \n",
    "    # update thresholds for mean of top x%\n",
    "    threshold_list = {d: [e[d] for e in best_thresholds] for d in range(1, 6)}\n",
    "    threshold_avg = {d: sum(l) / len(l) for d, l in threshold_list.items()}\n",
    "            \n",
    "    print(f'\\nlead {top_player_num} players avg score: {sum(best_scores) / len(best_scores)}')\n",
    "    # update default_thresholds for lead player\n",
    "    print('old: ', default_thresholds)\n",
    "    default_thresholds = {d: int(default_thresholds[d] * (1 - alpha) + threshold_avg[d] * alpha)\n",
    "                          for d in default_thresholds}\n",
    "    threshold_evolution.append(default_thresholds)\n",
    "    print('top: ', threshold_avg)\n",
    "    print('new: ', default_thresholds, '\\n')"
   ]
  },
  {
   "cell_type": "code",
   "execution_count": 45,
   "id": "98f43c1e-7b4c-4db3-ab85-f4f4901876fd",
   "metadata": {},
   "outputs": [
    {
     "data": {
      "image/png": "[encoded data removed]",
      "text/plain": [
       "<Figure size 640x480 with 1 Axes>"
      ]
     },
     "metadata": {},
     "output_type": "display_data"
    }
   ],
   "source": [
    "plt_thresholds = {d: [e[d] for e in threshold_evolution] for d in range(1, 6)}\n",
    "\n",
    "for t in plt_thresholds:\n",
    "    plt.plot(plt_thresholds[t], label=str(t))\n",
    "    \n",
    "plt.grid()\n",
    "plt.legend()\n",
    "\n",
    "plt.show()"
   ]
  },
  {
   "cell_type": "code",
   "execution_count": 48,
   "id": "b53d087a-033a-46e3-8389-46a0f1e65259",
   "metadata": {},
   "outputs": [
    {
     "data": {
      "text/plain": [
       "{1: [300, 296, 294, 292, 275, 277, 287, 282, 287, 305, 293],\n",
       " 2: [600, 597, 577, 569, 557, 580, 583, 587, 590, 572, 582],\n",
       " 3: [900, 890, 889, 892, 903, 889, 884, 869, 855, 862, 861],\n",
       " 4: [1200, 1210, 1202, 1220, 1226, 1223, 1222, 1222, 1226, 1220, 1215],\n",
       " 5: [1500, 1511, 1503, 1482, 1497, 1497, 1503, 1485, 1498, 1495, 1469]}"
      ]
     },
     "execution_count": 48,
     "metadata": {},
     "output_type": "execute_result"
    }
   ],
   "source": [
    "plt_thresholds = {d: [e[d] for e in threshold_evolution] for d in range(1, 6)}\n",
    "plt_thresholds"
   ]
  },
  {
   "cell_type": "code",
   "execution_count": 49,
   "id": "00d8cc65-48ce-4cdb-9e19-09a926da7a7e",
   "metadata": {},
   "outputs": [
    {
     "data": {
      "text/plain": [
       "{1: 289, 2: 581, 3: 881, 4: 1216, 5: 1494}"
      ]
     },
     "execution_count": 49,
     "metadata": {},
     "output_type": "execute_result"
    }
   ],
   "source": [
    "{d: int(sum(l) / len(l)) for d, l in plt_thresholds.items()}"
   ]
  },
  {
   "cell_type": "code",
   "execution_count": null,
   "id": "e0dd5bc3-c2e4-429b-80a2-8d6eebfbc49f",
   "metadata": {},
   "outputs": [],
   "source": []
  }
 ],
 "metadata": {
  "kernelspec": {
   "display_name": "my-venv",
   "language": "python",
   "name": "my-venv"
  },
  "language_info": {
   "codemirror_mode": {
    "name": "ipython",
    "version": 3
   },
   "file_extension": ".py",
   "mimetype": "text/x-python",
   "name": "python",
   "nbconvert_exporter": "python",
   "pygments_lexer": "ipython3",
   "version": "3.10.9"
  }
 },
 "nbformat": 4,
 "nbformat_minor": 5
}
