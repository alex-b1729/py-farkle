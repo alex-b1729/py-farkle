{
 "cells": [
  {
   "cell_type": "code",
   "execution_count": 1,
   "id": "1defe1f6-1e01-4241-a12b-9d935a4af5c5",
   "metadata": {},
   "outputs": [],
   "source": [
    "import sys\n",
    "sys.path.insert(0, '../../src')\n",
    "\n",
    "import json\n",
    "import random\n",
    "from time import perf_counter\n",
    "from collections import defaultdict\n",
    "\n",
    "from farkle.logic import gameobjects as go"
   ]
  },
  {
   "cell_type": "code",
   "execution_count": null,
   "id": "90e103c7-ef53-4654-bfbc-421086e94883",
   "metadata": {},
   "outputs": [],
   "source": []
  },
  {
   "cell_type": "code",
   "execution_count": 2,
   "id": "295aa206-d2c4-48d3-99c9-7e4c4bc62f50",
   "metadata": {},
   "outputs": [],
   "source": [
    "# for saving dicehands as json\n",
    "class DiceHandEncoder(json.JSONEncoder):\n",
    "    def default(self, obj):\n",
    "        if isinstance(obj, go.DiceHand):\n",
    "            return obj.json_encode\n",
    "        return super().default(obj)\n",
    "    \n",
    "def as_dicehand(dct):\n",
    "    if '__DiceHand__' in dct:\n",
    "        return go.DiceHand.json_decode(dct)\n",
    "    return dct\n",
    "\n",
    "def hash_frequencies(possible_score_frequencies):\n",
    "    hash_to_dh = {}\n",
    "    hash_to_freq = {}\n",
    "    for d in possible_score_frequencies.keys():\n",
    "        hash_to_freq[d] = {}\n",
    "        for dh, freq in possible_score_frequencies[d].items():\n",
    "            hash_to_dh[str(hash(dh))] = dh\n",
    "            hash_to_freq[d][str(hash(dh))] = freq\n",
    "    return hash_to_dh, hash_to_freq\n",
    "\n",
    "def unhash_frequencies(hash_to_dh, hash_to_freq):\n",
    "    _possible_score_freq = {}\n",
    "    for d in hash_to_freq:\n",
    "        d_int = int(d)\n",
    "        _possible_score_freq[d_int] = defaultdict(int)\n",
    "        for h, freq in hash_to_freq[d].items():\n",
    "            if hash_to_dh[h] is not None:\n",
    "                dh = go.DiceHand.json_decode(hash_to_dh[h])\n",
    "            else:\n",
    "                dh = None\n",
    "            _possible_score_freq[d_int][dh] = int(freq)\n",
    "    return _possible_score_freq\n",
    "\n",
    "def json_encode(possible_score_frequencies):\n",
    "    hash_to_dh, hash_to_freq = hash_frequencies(possible_score_frequencies)\n",
    "    d = {'hash_to_dh': hash_to_dh, \n",
    "         'hash_to_freq': hash_to_freq}\n",
    "    return json.dumps(d, cls=DiceHandEncoder)\n",
    "\n",
    "def save_freq(path: str, possible_score_frequencies: dict):\n",
    "    j = json_encode(possible_score_frequencies)\n",
    "    with open(path, 'w') as f:\n",
    "        f.write(j)\n",
    "\n",
    "def load_freq(path: str):\n",
    "    with open(path, 'r') as f:\n",
    "        j = json.loads(f.read())\n",
    "\n",
    "    return unhash_frequencies(j['hash_to_dh'], j['hash_to_freq'])"
   ]
  },
  {
   "cell_type": "code",
   "execution_count": null,
   "id": "3cdad14b-c46a-4d53-aa87-db023dfea090",
   "metadata": {},
   "outputs": [],
   "source": []
  },
  {
   "cell_type": "code",
   "execution_count": 3,
   "id": "508e9738-96c1-463d-a36d-3ccfdd471659",
   "metadata": {},
   "outputs": [],
   "source": [
    "freq_path = '../../../models/possible_score_frequencies.json'\n",
    "possible_score_frequencies = load_freq(freq_path)"
   ]
  },
  {
   "cell_type": "code",
   "execution_count": 4,
   "id": "0fee5ef1-3dbb-44d5-bc62-5b1730393bf4",
   "metadata": {},
   "outputs": [
    {
     "data": {
      "text/plain": [
       "defaultdict(int,\n",
       "            {DiceHand(free=[1, 1], locked=[], score=200): 1,\n",
       "             DiceHand(free=[1], locked=[], score=100): 11,\n",
       "             DiceHand(free=[5], locked=[], score=50): 11,\n",
       "             DiceHand(free=[1, 5], locked=[], score=150): 2,\n",
       "             None: 16,\n",
       "             DiceHand(free=[5, 5], locked=[], score=100): 1})"
      ]
     },
     "execution_count": 4,
     "metadata": {},
     "output_type": "execute_result"
    }
   ],
   "source": [
    "possible_score_frequencies[2]"
   ]
  },
  {
   "cell_type": "code",
   "execution_count": null,
   "id": "f9bba665-9ad5-4d42-ae89-b42c7c3c9883",
   "metadata": {},
   "outputs": [],
   "source": []
  },
  {
   "cell_type": "code",
   "execution_count": 5,
   "id": "0d723225-312d-4a1c-8f44-36aed76d7e21",
   "metadata": {},
   "outputs": [],
   "source": [
    "def p_farkle(num_dice: int = None):\n",
    "    if num_dice == 0: num_dice = 6\n",
    "    if num_dice is not None:\n",
    "        return possible_score_frequencies[num_dice][None] / 6**num_dice\n",
    "    else:\n",
    "        return {num_dice: possible_score_frequencies[num_dice][None] / 6**num_dice \n",
    "                for num_dice in possible_score_frequencies}"
   ]
  },
  {
   "cell_type": "code",
   "execution_count": 6,
   "id": "402ff3b4-9da8-4cbd-988f-fbea699fcbf3",
   "metadata": {},
   "outputs": [
    {
     "data": {
      "text/plain": [
       "0.030864197530864196"
      ]
     },
     "execution_count": 6,
     "metadata": {},
     "output_type": "execute_result"
    }
   ],
   "source": [
    "p_farkle(0)"
   ]
  },
  {
   "cell_type": "code",
   "execution_count": 7,
   "id": "48f2ef50-f0f2-4280-986d-576243e9ecc1",
   "metadata": {},
   "outputs": [
    {
     "data": {
      "text/plain": [
       "{1: 0.6666666666666666,\n",
       " 2: 0.4444444444444444,\n",
       " 3: 0.2777777777777778,\n",
       " 4: 0.1574074074074074,\n",
       " 5: 0.07716049382716049,\n",
       " 6: 0.030864197530864196}"
      ]
     },
     "execution_count": 7,
     "metadata": {},
     "output_type": "execute_result"
    }
   ],
   "source": [
    "p_farkle()"
   ]
  },
  {
   "cell_type": "code",
   "execution_count": null,
   "id": "bc590f84-22c7-4084-bb0e-cb58e7a35eaf",
   "metadata": {},
   "outputs": [],
   "source": []
  },
  {
   "cell_type": "code",
   "execution_count": 24,
   "id": "0755a6b8-1e47-4013-aac6-64b0a2b37745",
   "metadata": {},
   "outputs": [
    {
     "data": {
      "text/plain": [
       "[DiceHand(free=[1, 2, 2, 2], locked=[], score=300),\n",
       " DiceHand(free=[1], locked=[], score=100),\n",
       " DiceHand(free=[2, 2, 2], locked=[], score=200)]"
      ]
     },
     "execution_count": 24,
     "metadata": {},
     "output_type": "execute_result"
    }
   ],
   "source": [
    "dh = go.DiceHand(2,2,2,1,4, score=100)\n",
    "dh.possible_scores()"
   ]
  },
  {
   "cell_type": "code",
   "execution_count": 25,
   "id": "81d6e762-84e1-4e25-b185-ff5a0d62f9d3",
   "metadata": {},
   "outputs": [
    {
     "name": "stdout",
     "output_type": "stream",
     "text": [
      "DiceHand(free=[1, 2, 2, 2], locked=[], score=300)\n",
      "Total score: 400\n",
      "Dice remaining: 1\n",
      "Prob of farkle: 0.6666666666666666\n",
      "Weighted score w/o 50: 133.33333333333334\n",
      "Weighted score: 150.00000000000003\n",
      "\n",
      "\n",
      "DiceHand(free=[1], locked=[], score=100)\n",
      "Total score: 200\n",
      "Dice remaining: 4\n",
      "Prob of farkle: 0.1574074074074074\n",
      "Weighted score w/o 50: 168.5185185185185\n",
      "Weighted score: 210.64814814814815\n",
      "\n",
      "\n",
      "DiceHand(free=[2, 2, 2], locked=[], score=200)\n",
      "Total score: 300\n",
      "Dice remaining: 2\n",
      "Prob of farkle: 0.4444444444444444\n",
      "Weighted score w/o 50: 166.66666666666669\n",
      "Weighted score: 194.44444444444446\n",
      "\n",
      "\n"
     ]
    }
   ],
   "source": [
    "for ps in dh.possible_scores():\n",
    "    ps: go.DiceHand\n",
    "    added_score = ps.score\n",
    "    total_score = dh.score + added_score\n",
    "    dice_left = len(dh.free_dice) - len(ps.free_dice)\n",
    "    print(ps)\n",
    "    print(f'Total score: {total_score}')\n",
    "    print(f'Dice remaining: {dice_left}')\n",
    "    print(f'Prob of farkle: {p_farkle(dice_left)}')\n",
    "    print(f'Weighted score w/o 50: {(1-p_farkle(dice_left)) * total_score}')\n",
    "    print(f'Weighted score: {(1-p_farkle(dice_left)) * (total_score+50)}')\n",
    "    print('\\n')"
   ]
  },
  {
   "cell_type": "markdown",
   "id": "c5ecd97f-fab0-4fda-935d-9484a0bfbacb",
   "metadata": {},
   "source": [
    "Weighted score is $(1-P[farkle]) \\times (TotalScore + 50)$ since if you don't farkle on the next turn you will receive at least 50 points. This gives the minimum expected value if you take that scoring combination and choose to roll again. \n",
    "\n",
    "From messing around with it it seems to give higher weighted scores to choices that I personally make in game play. "
   ]
  },
  {
   "cell_type": "code",
   "execution_count": null,
   "id": "edf82fa6-f074-4235-9854-a66aee23199b",
   "metadata": {},
   "outputs": [],
   "source": []
  }
 ],
 "metadata": {
  "kernelspec": {
   "display_name": "my-venv",
   "language": "python",
   "name": "my-venv"
  },
  "language_info": {
   "codemirror_mode": {
    "name": "ipython",
    "version": 3
   },
   "file_extension": ".py",
   "mimetype": "text/x-python",
   "name": "python",
   "nbconvert_exporter": "python",
   "pygments_lexer": "ipython3",
   "version": "3.10.9"
  }
 },
 "nbformat": 4,
 "nbformat_minor": 5
}
