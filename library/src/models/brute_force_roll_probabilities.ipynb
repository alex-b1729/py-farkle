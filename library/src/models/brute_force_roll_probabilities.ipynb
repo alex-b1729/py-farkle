{
 "cells": [
  {
   "cell_type": "markdown",
   "id": "24eca8ff-a261-45c5-a717-f65ce02ee5d0",
   "metadata": {},
   "source": [
    "# Score frequencies"
   ]
  },
  {
   "cell_type": "code",
   "execution_count": 1,
   "id": "ff6495fb-a1dc-46ce-a53e-4575f0309a42",
   "metadata": {},
   "outputs": [],
   "source": [
    "import sys\n",
    "sys.path.insert(0, '../../src')\n",
    "\n",
    "import json\n",
    "import random\n",
    "from time import perf_counter\n",
    "from collections import defaultdict\n",
    "\n",
    "from farkle.logic import gameobjects as go"
   ]
  },
  {
   "cell_type": "code",
   "execution_count": null,
   "id": "5bab7928-432a-45b9-bebd-c5bc663f2fb7",
   "metadata": {},
   "outputs": [],
   "source": []
  },
  {
   "cell_type": "code",
   "execution_count": 2,
   "id": "3dec08b8-3568-4915-af09-3ee2c88f4f34",
   "metadata": {},
   "outputs": [],
   "source": [
    "# for saving dicehands as json\n",
    "class DiceHandEncoder(json.JSONEncoder):\n",
    "    def default(self, obj):\n",
    "        if isinstance(obj, go.DiceHand):\n",
    "            return obj.json_encode\n",
    "        return super().default(obj)\n",
    "    \n",
    "def as_dicehand(dct):\n",
    "    if '__DiceHand__' in dct:\n",
    "        return go.DiceHand.json_decode(dct)\n",
    "    return dct\n",
    "\n",
    "def hash_frequencies(possible_score_frequencies):\n",
    "    hash_to_dh = {}\n",
    "    hash_to_freq = {}\n",
    "    for d in possible_score_frequencies.keys():\n",
    "        hash_to_freq[d] = {}\n",
    "        for dh, freq in possible_score_frequencies[d].items():\n",
    "            hash_to_dh[str(hash(dh))] = dh\n",
    "            hash_to_freq[d][str(hash(dh))] = freq\n",
    "    return hash_to_dh, hash_to_freq\n",
    "\n",
    "def unhash_frequencies(hash_to_dh, hash_to_freq):\n",
    "    _possible_score_freq = {}\n",
    "    for d in hash_to_freq:\n",
    "        d_int = int(d)\n",
    "        _possible_score_freq[d_int] = defaultdict(int)\n",
    "        for h, freq in hash_to_freq[d].items():\n",
    "            if hash_to_dh[h] is not None:\n",
    "                dh = go.DiceHand.json_decode(hash_to_dh[h])\n",
    "            else:\n",
    "                dh = None\n",
    "            _possible_score_freq[d_int][dh] = int(freq)\n",
    "    return _possible_score_freq\n",
    "\n",
    "def json_encode(possible_score_frequencies):\n",
    "    hash_to_dh, hash_to_freq = hash_frequencies(possible_score_frequencies)\n",
    "    d = {'hash_to_dh': hash_to_dh, \n",
    "         'hash_to_freq': hash_to_freq}\n",
    "    return json.dumps(d, cls=DiceHandEncoder)\n",
    "\n",
    "def save_freq(path: str, possible_score_frequencies: dict):\n",
    "    j = json_encode(possible_score_frequencies)\n",
    "    with open(path, 'w') as f:\n",
    "        f.write(j)\n",
    "\n",
    "def load_freq(path: str):\n",
    "    with open(path, 'r') as f:\n",
    "        j = json.loads(f.read())\n",
    "\n",
    "    return unhash_frequencies(j['hash_to_dh'], j['hash_to_freq'])"
   ]
  },
  {
   "cell_type": "code",
   "execution_count": null,
   "id": "0493d73e-b897-45a2-93b1-483a2f8f4ab8",
   "metadata": {},
   "outputs": [],
   "source": []
  },
  {
   "cell_type": "code",
   "execution_count": 7,
   "id": "204f38c8-c959-47da-98df-fbd983a3ef21",
   "metadata": {},
   "outputs": [
    {
     "ename": "TypeError",
     "evalue": "unhashable type: 'list'",
     "output_type": "error",
     "traceback": [
      "\u001b[0;31m---------------------------------------------------------------------------\u001b[0m",
      "\u001b[0;31mTypeError\u001b[0m                                 Traceback (most recent call last)",
      "Cell \u001b[0;32mIn[7], line 1\u001b[0m\n\u001b[0;32m----> 1\u001b[0m \u001b[38;5;28;43mset\u001b[39;49m\u001b[43m(\u001b[49m\u001b[43m[\u001b[49m\u001b[43m[\u001b[49m\u001b[38;5;241;43m1\u001b[39;49m\u001b[43m,\u001b[49m\u001b[38;5;241;43m2\u001b[39;49m\u001b[43m,\u001b[49m\u001b[38;5;241;43m1\u001b[39;49m\u001b[43m]\u001b[49m\u001b[43m,\u001b[49m\u001b[43m[\u001b[49m\u001b[38;5;241;43m3\u001b[39;49m\u001b[43m,\u001b[49m\u001b[38;5;241;43m4\u001b[39;49m\u001b[43m,\u001b[49m\u001b[38;5;241;43m5\u001b[39;49m\u001b[43m]\u001b[49m\u001b[43m,\u001b[49m\u001b[43m[\u001b[49m\u001b[38;5;241;43m1\u001b[39;49m\u001b[43m,\u001b[49m\u001b[38;5;241;43m2\u001b[39;49m\u001b[43m,\u001b[49m\u001b[38;5;241;43m1\u001b[39;49m\u001b[43m]\u001b[49m\u001b[43m]\u001b[49m\u001b[43m)\u001b[49m\n",
      "\u001b[0;31mTypeError\u001b[0m: unhashable type: 'list'"
     ]
    }
   ],
   "source": [
    "set([[1,2,1],[3,4,5],[1,2,1]])"
   ]
  },
  {
   "cell_type": "code",
   "execution_count": null,
   "id": "8c394e4b-9d36-478c-862d-5b7ad3cfad82",
   "metadata": {},
   "outputs": [],
   "source": []
  },
  {
   "cell_type": "code",
   "execution_count": null,
   "id": "f6bc5223-a6d7-40f7-94a7-ff504e12aee4",
   "metadata": {},
   "outputs": [],
   "source": []
  },
  {
   "cell_type": "code",
   "execution_count": 28,
   "id": "cd1ab437-29d3-44ca-9453-08ecc82a7ad7",
   "metadata": {
    "tags": []
   },
   "outputs": [],
   "source": [
    "# this will only return unique combinations of dice\n",
    "# so has 1,2 but not 2,1\n",
    "# but think I have to count duplicates for frequencies to be correct\n",
    "\n",
    "l1 = [','.join([str(i)]) for i in range(1, 6+1)]\n",
    "# l1\n",
    "\n",
    "l2 = [','.join([str(j)] + i.split(',')) \n",
    "      for j in range(1, num_dice+1) \n",
    "      for i in l1 \n",
    "      if j >= max([int(i) for i in i.split(',')])]\n",
    "# l2"
   ]
  },
  {
   "cell_type": "code",
   "execution_count": 29,
   "id": "b8fd79be-15ba-40bb-a0f4-3538bb1f288f",
   "metadata": {
    "tags": []
   },
   "outputs": [
    {
     "name": "stdout",
     "output_type": "stream",
     "text": [
      "1 dice | #################### | 100%\n",
      "2 dice | #################### | 100%\n",
      "3 dice | #################### | 100%\n"
     ]
    }
   ],
   "source": [
    "num_dice = 6\n",
    "possible_score_frequencies = {i: defaultdict(int) for i in range(1, num_dice+1)}\n",
    "\n",
    "# all possible 1 die combinations\n",
    "hand_size = 1\n",
    "hand_size_dice_hands = [[i] for i in range(1, num_dice+1)]\n",
    "\n",
    "for hand_size in range(1, 3+1):\n",
    "    dv_count = 0\n",
    "    for dice_vals in hand_size_dice_hands:\n",
    "        dh = go.DiceHand(dice_vals)\n",
    "        if not dh.farkled:\n",
    "            for ps in dh.possible_scores():\n",
    "                possible_score_frequencies[hand_size][ps] += 1\n",
    "        else:\n",
    "            possible_score_frequencies[hand_size][None] += 1\n",
    "        \n",
    "        dv_count += 1\n",
    "        write_str = f'\\r{hand_size} dice | '\n",
    "        write_str += f'{\"#\" * int(dv_count * 20 / len(hand_size_dice_hands))}'\n",
    "        write_str += f'{\" \" * (20 - int(dv_count * 20 / len(hand_size_dice_hands)))} | '\n",
    "        write_str += f'{int(dv_count * 100 / len(hand_size_dice_hands))}%'\n",
    "        sys.stdout.write(write_str)\n",
    "    \n",
    "    hand_size_dice_hands = [[j] + i for j in range(1, num_dice+1) for i in hand_size_dice_hands]\n",
    "    \n",
    "    sys.stdout.write('\\n')\n",
    "    \n",
    "freq_path = '../../../models/possible_score_frequencies.json'\n",
    "save_freq(freq_path, possible_score_frequencies)"
   ]
  },
  {
   "cell_type": "code",
   "execution_count": 30,
   "id": "c45904de-7a41-4031-917a-482ed1f0acd6",
   "metadata": {},
   "outputs": [
    {
     "data": {
      "text/plain": [
       "{1: defaultdict(int,\n",
       "             {DiceHand(free=[1], locked=[], score=100): 1,\n",
       "              None: 4,\n",
       "              DiceHand(free=[5], locked=[], score=50): 1}),\n",
       " 2: defaultdict(int,\n",
       "             {DiceHand(free=[1], locked=[], score=100): 11,\n",
       "              DiceHand(free=[1, 1], locked=[], score=200): 1,\n",
       "              DiceHand(free=[1, 5], locked=[], score=150): 2,\n",
       "              DiceHand(free=[5], locked=[], score=50): 11,\n",
       "              None: 16,\n",
       "              DiceHand(free=[5, 5], locked=[], score=100): 1}),\n",
       " 3: defaultdict(int,\n",
       "             {DiceHand(free=[1], locked=[], score=100): 91,\n",
       "              DiceHand(free=[1, 1, 1], locked=[], score=300): 1,\n",
       "              DiceHand(free=[1, 1], locked=[], score=200): 16,\n",
       "              DiceHand(free=[1, 1, 1], locked=[], score=1000): 1,\n",
       "              DiceHand(free=[1, 5], locked=[], score=150): 30,\n",
       "              DiceHand(free=[5], locked=[], score=50): 91,\n",
       "              DiceHand(free=[1, 1, 5], locked=[], score=250): 3,\n",
       "              DiceHand(free=[5, 5], locked=[], score=100): 16,\n",
       "              DiceHand(free=[1, 5, 5], locked=[], score=200): 3,\n",
       "              DiceHand(free=[2, 2, 2], locked=[], score=200): 1,\n",
       "              None: 60,\n",
       "              DiceHand(free=[3, 3, 3], locked=[], score=300): 1,\n",
       "              DiceHand(free=[4, 4, 4], locked=[], score=400): 1,\n",
       "              DiceHand(free=[5, 5, 5], locked=[], score=500): 1,\n",
       "              DiceHand(free=[5, 5, 5], locked=[], score=150): 1,\n",
       "              DiceHand(free=[6, 6, 6], locked=[], score=600): 1}),\n",
       " 4: defaultdict(int, {}),\n",
       " 5: defaultdict(int, {}),\n",
       " 6: defaultdict(int, {})}"
      ]
     },
     "execution_count": 30,
     "metadata": {},
     "output_type": "execute_result"
    }
   ],
   "source": [
    "possible_score_frequencies"
   ]
  },
  {
   "cell_type": "code",
   "execution_count": null,
   "id": "50725404-87bc-4181-ba9a-a7627cca1a88",
   "metadata": {},
   "outputs": [],
   "source": []
  }
 ],
 "metadata": {
  "kernelspec": {
   "display_name": "my-venv",
   "language": "python",
   "name": "my-venv"
  },
  "language_info": {
   "codemirror_mode": {
    "name": "ipython",
    "version": 3
   },
   "file_extension": ".py",
   "mimetype": "text/x-python",
   "name": "python",
   "nbconvert_exporter": "python",
   "pygments_lexer": "ipython3",
   "version": "3.10.9"
  }
 },
 "nbformat": 4,
 "nbformat_minor": 5
}
