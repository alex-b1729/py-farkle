{
 "cells": [
  {
   "cell_type": "markdown",
   "id": "df9ea608-5f85-445f-a06f-5e7422466775",
   "metadata": {},
   "source": [
    "# Probabilities through monte carlo simulations"
   ]
  },
  {
   "cell_type": "markdown",
   "id": "4084eca0-0af4-4f1e-a876-7545716c0270",
   "metadata": {},
   "source": [
    "Here, rather than training a model to predict the $E[\\text{dice roll score}]$, I just build a monte carlo simulation. "
   ]
  },
  {
   "cell_type": "code",
   "execution_count": 1,
   "id": "a866c8c2-3ccd-41f1-b7e0-e55ba0484a05",
   "metadata": {},
   "outputs": [],
   "source": [
    "import sys\n",
    "sys.path.insert(0, '../../src')"
   ]
  },
  {
   "cell_type": "code",
   "execution_count": 2,
   "id": "1501a200-d112-4478-be23-678a24af7992",
   "metadata": {},
   "outputs": [],
   "source": [
    "import json\n",
    "import random\n",
    "from time import perf_counter\n",
    "from collections import defaultdict\n",
    "\n",
    "from farkle.logic import gameobjects as go"
   ]
  },
  {
   "cell_type": "code",
   "execution_count": null,
   "id": "9c26ddfd-d746-421c-9dbe-1a9da1f2a2eb",
   "metadata": {},
   "outputs": [],
   "source": []
  },
  {
   "cell_type": "code",
   "execution_count": 3,
   "id": "1e22a3da-540a-41c8-9f52-0513cc7223e6",
   "metadata": {},
   "outputs": [
    {
     "data": {
      "text/plain": [
       "[]"
      ]
     },
     "execution_count": 3,
     "metadata": {},
     "output_type": "execute_result"
    }
   ],
   "source": [
    "dh = go.DiceHand(2,3)\n",
    "dh.possible_scores()"
   ]
  },
  {
   "cell_type": "code",
   "execution_count": 4,
   "id": "6420f151-14d4-4418-9d85-57d3728c9651",
   "metadata": {},
   "outputs": [],
   "source": [
    "# for saving dicehands as json\n",
    "class DiceHandEncoder(json.JSONEncoder):\n",
    "    def default(self, obj):\n",
    "        if isinstance(obj, go.DiceHand):\n",
    "            return obj.json_encode\n",
    "        return super().default(obj)\n",
    "    \n",
    "def as_dicehand(dct):\n",
    "    if '__DiceHand__' in dct:\n",
    "        return go.DiceHand.json_decode(dct)\n",
    "    return dct"
   ]
  },
  {
   "cell_type": "code",
   "execution_count": null,
   "id": "13ef179d-0b08-49ac-b9ef-26190aba8fdd",
   "metadata": {},
   "outputs": [],
   "source": []
  },
  {
   "cell_type": "code",
   "execution_count": null,
   "id": "842bff9d-49c6-478b-a705-ec9b03cd47aa",
   "metadata": {},
   "outputs": [],
   "source": []
  },
  {
   "cell_type": "code",
   "execution_count": 5,
   "id": "ba5f37f9-2979-4b39-8375-dd51699dc46b",
   "metadata": {},
   "outputs": [
    {
     "data": {
      "text/plain": [
       "1"
      ]
     },
     "execution_count": 5,
     "metadata": {},
     "output_type": "execute_result"
    }
   ],
   "source": [
    "21 % 20"
   ]
  },
  {
   "cell_type": "code",
   "execution_count": 6,
   "id": "7a410a95-0372-4ca3-a553-b0ab59af1140",
   "metadata": {},
   "outputs": [
    {
     "data": {
      "text/plain": [
       "'###'"
      ]
     },
     "execution_count": 6,
     "metadata": {},
     "output_type": "execute_result"
    }
   ],
   "source": [
    "'#' * 3"
   ]
  },
  {
   "cell_type": "code",
   "execution_count": 7,
   "id": "fcb89314-61cd-40f3-9801-164c740a34ef",
   "metadata": {},
   "outputs": [],
   "source": [
    "class MonteCarloSimulation(object):\n",
    "    def __init__(self, max_dice: int = 6):\n",
    "        self.max_dice = max_dice\n",
    "        self.dice_range = range(1, self.max_dice + 1)\n",
    "        self.dice_hands = {i: go.DiceHand(num_dice=i) for i in self.dice_range}\n",
    "        \n",
    "        self.roll_obs = {i: 0 for i in self.dice_range}\n",
    "        self.possible_score_obs = {i: 0 for i in self.dice_range}\n",
    "        self.possible_score_frequencies = {i: defaultdict(int) for i in self.dice_range}\n",
    "        \n",
    "    def roll(self, num_dice: int):\n",
    "        self.dice_hands[num_dice].roll()\n",
    "        self.roll_obs[num_dice] += 1\n",
    "        if self.dice_hands[num_dice].possible_scores():\n",
    "            for dh in self.dice_hands[num_dice].possible_scores():\n",
    "                dh: go.DiceHand\n",
    "                self.possible_score_obs[num_dice] += 1\n",
    "                self.possible_score_frequencies[num_dice][dh] += 1\n",
    "        else:\n",
    "            self.possible_score_frequencies[num_dice][None] += 1\n",
    "            \n",
    "    def roll_all(self, num_rolls: int = 1):\n",
    "        \"\"\"Rolls all hands in ratio where 1 dice is 1 roll and \n",
    "        each additional die is 6x more rolls\"\"\"\n",
    "        for die_num in self.dice_range:\n",
    "            num_sims = num_rolls * (6**(die_num-1))\n",
    "            for roll_num in range(num_sims):\n",
    "                self.roll(die_num)\n",
    "                if roll_num == num_sims - 1:\n",
    "                    sys.stdout.write(f'\\rDie: {die_num} | ')\n",
    "                    sys.stdout.write(f'{\"#\" * 20} | ')\n",
    "                    sys.stdout.write(f'100%\\n')\n",
    "                elif int(roll_num * 100 / num_sims) % 5 == 0:\n",
    "                    sys.stdout.write(f'\\rDie: {die_num} | ')\n",
    "                    sys.stdout.write(f'{\"#\" * int(roll_num * 20 / num_sims)}')\n",
    "                    sys.stdout.write(f'{\" \" * (20 - int(roll_num * 20 / num_sims))} | ')\n",
    "                    sys.stdout.write(f'{int(roll_num * 100 / num_sims)}%')\n",
    "                \n",
    "            sys.stdout.write('\\n')\n",
    "    \n",
    "    def P_farkle(self, num_dice: int):\n",
    "        return self.possible_score_frequencies[num_dice][None] / self.roll_obs[num_dice]\n",
    "    \n",
    "    def E_score(self, num_dice: int):\n",
    "        E_score = 0\n",
    "        for dh, freq in self.possible_score_frequencies[num_dice].items():\n",
    "            if dh: E_score += dh.score * freq\n",
    "        return (E_score / self.possible_score_obs[num_dice]) * (1 - self.P_farkle(num_dice))\n",
    "    \n",
    "    # todo: probs best as an iter\n",
    "    @property\n",
    "    def _hash_frequencies(self):\n",
    "        hash_to_dh = {}\n",
    "        hash_to_freq = {}\n",
    "        for d in self.dice_range:\n",
    "            hash_to_freq[d] = {}\n",
    "            for dh, freq in self.possible_score_frequencies[d].items():\n",
    "                hash_to_dh[str(hash(dh))] = dh\n",
    "                hash_to_freq[d][str(hash(dh))] = freq\n",
    "        return hash_to_dh, hash_to_freq\n",
    "    \n",
    "    @staticmethod\n",
    "    def _unhash_frequencies(hash_to_dh, hash_to_freq):\n",
    "        _possible_score_freq = {}\n",
    "        for d in hash_to_freq:\n",
    "            d_int = int(d)\n",
    "            _possible_score_freq[d_int] = defaultdict(int)\n",
    "            for h, freq in hash_to_freq[d].items():\n",
    "                if hash_to_dh[h] is not None:\n",
    "                    dh = go.DiceHand.json_decode(hash_to_dh[h])\n",
    "                else:\n",
    "                    dh = None\n",
    "                _possible_score_freq[d_int][dh] = int(freq)\n",
    "        return _possible_score_freq\n",
    "        \n",
    "    @property\n",
    "    def json_encode(self):\n",
    "        hash_to_dh, hash_to_freq = self._hash_frequencies\n",
    "        d = {'max_dice': self.max_dice, \n",
    "             'roll_obs': self.roll_obs, \n",
    "             'possible_score_obs': self.possible_score_obs, \n",
    "             'hash_to_dh': hash_to_dh, \n",
    "             'hash_to_freq': hash_to_freq}\n",
    "             # 'possible_score_frequencies': self.possible_score_frequencies}\n",
    "        return json.dumps(d, cls=DiceHandEncoder)\n",
    "    \n",
    "    def save(self, path: str):\n",
    "        j = self.json_encode\n",
    "        with open(path, 'w') as f:\n",
    "            f.write(j)\n",
    "        \n",
    "    @staticmethod\n",
    "    def load(path: str):\n",
    "        with open(path, 'r') as f:\n",
    "            j = json.loads(f.read()) #, object_hook=as_dicehand)\n",
    "        \n",
    "        mcs = MonteCarloSimulation(j['max_dice'])\n",
    "        mcs.roll_obs = {int(k): v for k, v in j['roll_obs'].items()}\n",
    "        mcs.possible_score_obs = {int(k): v for k, v in j['possible_score_obs'].items()}\n",
    "        mcs.possible_score_frequencies = MonteCarloSimulation._unhash_frequencies(j['hash_to_dh'], \n",
    "                                                                                  j['hash_to_freq'])\n",
    "        return mcs"
   ]
  },
  {
   "cell_type": "code",
   "execution_count": 8,
   "id": "b9e4ff0d-38d8-442f-9a37-712d879263b0",
   "metadata": {},
   "outputs": [
    {
     "name": "stdout",
     "output_type": "stream",
     "text": [
      "{1: 16, 2: 96, 3: 576, 4: 3456, 5: 20736, 6: 124416}\n"
     ]
    }
   ],
   "source": [
    "# mcs = MonteCarloSimulation()\n",
    "mcs = MonteCarloSimulation.load('possible_score_frequencies.json')\n",
    "print(mcs.roll_obs)"
   ]
  },
  {
   "cell_type": "code",
   "execution_count": 9,
   "id": "6aaee068-21d0-4cba-beb9-e0ff69e7c892",
   "metadata": {},
   "outputs": [
    {
     "name": "stdout",
     "output_type": "stream",
     "text": [
      "Die: 1 | #################### | 100%\n",
      "\n",
      "Die: 2 | #################### | 100%\n",
      "\n",
      "Die: 3 | #################### | 100%\n",
      "\n",
      "Die: 4 | #################### | 100%\n",
      "\n",
      "Die: 5 | #################### | 100%\n",
      "\n",
      "Die: 6 | #################### | 100%\n",
      "\n",
      "21.91 minutes to run\n"
     ]
    }
   ],
   "source": [
    "t0 = perf_counter()\n",
    "mcs.roll_all(3)\n",
    "t1 = perf_counter()\n",
    "print(f'{round((t1-t0) / 60, 2)} minutes to run')\n",
    "\n",
    "mcs.save('possible_score_frequencies.json')"
   ]
  },
  {
   "cell_type": "code",
   "execution_count": 10,
   "id": "f021bef0-eb0d-4359-a8b5-ab5447b2eddb",
   "metadata": {},
   "outputs": [
    {
     "data": {
      "text/plain": [
       "{1: 19, 2: 114, 3: 684, 4: 4104, 5: 24624, 6: 147744}"
      ]
     },
     "execution_count": 10,
     "metadata": {},
     "output_type": "execute_result"
    }
   ],
   "source": [
    "mcs.roll_obs"
   ]
  },
  {
   "cell_type": "code",
   "execution_count": 12,
   "id": "34949ba4-e94e-43da-b590-7ff53e79a5d6",
   "metadata": {},
   "outputs": [
    {
     "data": {
      "text/plain": [
       "defaultdict(int,\n",
       "            {DiceHand(free=[1], locked=[], score=100): 40,\n",
       "             DiceHand(free=[5], locked=[], score=50): 45,\n",
       "             None: 43,\n",
       "             DiceHand(free=[1, 1], locked=[], score=200): 5,\n",
       "             DiceHand(free=[1, 5], locked=[], score=150): 14,\n",
       "             DiceHand(free=[5, 5], locked=[], score=100): 3})"
      ]
     },
     "execution_count": 12,
     "metadata": {},
     "output_type": "execute_result"
    }
   ],
   "source": [
    "mcs.possible_score_frequencies[2]"
   ]
  },
  {
   "cell_type": "code",
   "execution_count": null,
   "id": "cfb31aa7-899b-46d1-bd6c-d1a590f3d3e5",
   "metadata": {},
   "outputs": [],
   "source": []
  },
  {
   "cell_type": "code",
   "execution_count": 49,
   "id": "b299a01f-a2f9-403e-b8d7-9e00aa0def70",
   "metadata": {},
   "outputs": [
    {
     "name": "stdout",
     "output_type": "stream",
     "text": [
      "{'1': 1, '2': 6, '3': 36, '4': 216, '5': 1296, '6': 7776}\n"
     ]
    }
   ],
   "source": [
    "mcs = MonteCarloSimulation.load('possible_score_frequencies.json')\n",
    "print(mcs.roll_obs)"
   ]
  },
  {
   "cell_type": "code",
   "execution_count": 31,
   "id": "bdd386a5-e294-49ed-add0-ba35d56f2b40",
   "metadata": {},
   "outputs": [
    {
     "name": "stdout",
     "output_type": "stream",
     "text": [
      "{'1': 1, '2': 6, '3': 36, '4': 216, '5': 1296, '6': 7776}\n"
     ]
    },
    {
     "ename": "KeyError",
     "evalue": "1",
     "output_type": "error",
     "traceback": [
      "\u001b[0;31m---------------------------------------------------------------------------\u001b[0m",
      "\u001b[0;31mKeyError\u001b[0m                                  Traceback (most recent call last)",
      "Cell \u001b[0;32mIn[31], line 3\u001b[0m\n\u001b[1;32m      1\u001b[0m mcs \u001b[38;5;241m=\u001b[39m MonteCarloSimulation\u001b[38;5;241m.\u001b[39mload(\u001b[38;5;124m'\u001b[39m\u001b[38;5;124mpossible_score_frequencies.json\u001b[39m\u001b[38;5;124m'\u001b[39m)\n\u001b[1;32m      2\u001b[0m \u001b[38;5;28mprint\u001b[39m(mcs\u001b[38;5;241m.\u001b[39mroll_obs)\n\u001b[0;32m----> 3\u001b[0m \u001b[43mmcs\u001b[49m\u001b[38;5;241;43m.\u001b[39;49m\u001b[43mroll_all\u001b[49m\u001b[43m(\u001b[49m\u001b[38;5;241;43m1\u001b[39;49m\u001b[43m)\u001b[49m\n\u001b[1;32m      5\u001b[0m mcs\u001b[38;5;241m.\u001b[39msave(\u001b[38;5;124m'\u001b[39m\u001b[38;5;124mpossible_score_frequencies.json\u001b[39m\u001b[38;5;124m'\u001b[39m)\n",
      "Cell \u001b[0;32mIn[29], line 28\u001b[0m, in \u001b[0;36mMonteCarloSimulation.roll_all\u001b[0;34m(self, num_rolls)\u001b[0m\n\u001b[1;32m     26\u001b[0m num_sims \u001b[38;5;241m=\u001b[39m num_rolls \u001b[38;5;241m*\u001b[39m (\u001b[38;5;241m6\u001b[39m\u001b[38;5;241m*\u001b[39m\u001b[38;5;241m*\u001b[39m(die_num\u001b[38;5;241m-\u001b[39m\u001b[38;5;241m1\u001b[39m))\n\u001b[1;32m     27\u001b[0m \u001b[38;5;28;01mfor\u001b[39;00m roll_num \u001b[38;5;129;01min\u001b[39;00m \u001b[38;5;28mrange\u001b[39m(num_sims):\n\u001b[0;32m---> 28\u001b[0m     \u001b[38;5;28;43mself\u001b[39;49m\u001b[38;5;241;43m.\u001b[39;49m\u001b[43mroll\u001b[49m\u001b[43m(\u001b[49m\u001b[43mdie_num\u001b[49m\u001b[43m)\u001b[49m\n\u001b[1;32m     29\u001b[0m     \u001b[38;5;28;01mif\u001b[39;00m \u001b[38;5;28mint\u001b[39m(roll_num \u001b[38;5;241m*\u001b[39m \u001b[38;5;241m100\u001b[39m \u001b[38;5;241m/\u001b[39m num_sims) \u001b[38;5;241m%\u001b[39m \u001b[38;5;241m20\u001b[39m \u001b[38;5;241m==\u001b[39m \u001b[38;5;241m0\u001b[39m:\n\u001b[1;32m     30\u001b[0m         sys\u001b[38;5;241m.\u001b[39mstdout\u001b[38;5;241m.\u001b[39mwrite(\u001b[38;5;124mf\u001b[39m\u001b[38;5;124m'\u001b[39m\u001b[38;5;130;01m\\r\u001b[39;00m\u001b[38;5;124mDie: \u001b[39m\u001b[38;5;132;01m{\u001b[39;00mdie_num\u001b[38;5;132;01m}\u001b[39;00m\u001b[38;5;124m | \u001b[39m\u001b[38;5;124m'\u001b[39m)\n",
      "Cell \u001b[0;32mIn[29], line 13\u001b[0m, in \u001b[0;36mMonteCarloSimulation.roll\u001b[0;34m(self, num_dice)\u001b[0m\n\u001b[1;32m     11\u001b[0m \u001b[38;5;28;01mdef\u001b[39;00m \u001b[38;5;21mroll\u001b[39m(\u001b[38;5;28mself\u001b[39m, num_dice: \u001b[38;5;28mint\u001b[39m):\n\u001b[1;32m     12\u001b[0m     \u001b[38;5;28mself\u001b[39m\u001b[38;5;241m.\u001b[39mdice_hands[num_dice]\u001b[38;5;241m.\u001b[39mroll()\n\u001b[0;32m---> 13\u001b[0m     \u001b[38;5;28mself\u001b[39m\u001b[38;5;241m.\u001b[39mroll_obs[num_dice] \u001b[38;5;241m+\u001b[39m\u001b[38;5;241m=\u001b[39m \u001b[38;5;241m1\u001b[39m\n\u001b[1;32m     14\u001b[0m     \u001b[38;5;28;01mif\u001b[39;00m \u001b[38;5;28mself\u001b[39m\u001b[38;5;241m.\u001b[39mdice_hands[num_dice]\u001b[38;5;241m.\u001b[39mpossible_scores():\n\u001b[1;32m     15\u001b[0m         \u001b[38;5;28;01mfor\u001b[39;00m dh \u001b[38;5;129;01min\u001b[39;00m \u001b[38;5;28mself\u001b[39m\u001b[38;5;241m.\u001b[39mdice_hands[num_dice]\u001b[38;5;241m.\u001b[39mpossible_scores():\n",
      "\u001b[0;31mKeyError\u001b[0m: 1"
     ]
    }
   ],
   "source": [
    "mcs.roll_all(1)\n",
    "\n",
    "mcs.save('possible_score_frequencies.json')"
   ]
  },
  {
   "cell_type": "code",
   "execution_count": null,
   "id": "2226305e-0f82-4a88-8cc3-0d5d50b9f5d6",
   "metadata": {},
   "outputs": [],
   "source": []
  },
  {
   "cell_type": "code",
   "execution_count": 28,
   "id": "a82dfe2e-1ca5-4d9c-a497-9527baa3ae48",
   "metadata": {},
   "outputs": [
    {
     "data": {
      "text/plain": [
       "{1: 1, 2: 6, 3: 36, 4: 216, 5: 1296, 6: 7776}"
      ]
     },
     "execution_count": 28,
     "metadata": {},
     "output_type": "execute_result"
    }
   ],
   "source": [
    "mcs.roll_obs"
   ]
  },
  {
   "cell_type": "code",
   "execution_count": 27,
   "id": "ede0ecf3-d18e-4811-af05-fd05efd73f4d",
   "metadata": {},
   "outputs": [
    {
     "data": {
      "text/plain": [
       "{1: defaultdict(int, {None: 1}),\n",
       " 2: defaultdict(int,\n",
       "             {DiceHand(free=[1], locked=[], score=100): 5,\n",
       "              DiceHand(free=[1, 5], locked=[], score=150): 1,\n",
       "              DiceHand(free=[5], locked=[], score=50): 1,\n",
       "              None: 1}),\n",
       " 3: defaultdict(int,\n",
       "             {DiceHand(free=[1], locked=[], score=100): 16,\n",
       "              DiceHand(free=[1, 5], locked=[], score=150): 9,\n",
       "              DiceHand(free=[5], locked=[], score=50): 16,\n",
       "              DiceHand(free=[5, 5], locked=[], score=100): 3,\n",
       "              None: 11,\n",
       "              DiceHand(free=[1, 1], locked=[], score=200): 4,\n",
       "              DiceHand(free=[6, 6, 6], locked=[], score=600): 1,\n",
       "              DiceHand(free=[1, 1, 1], locked=[], score=300): 1,\n",
       "              DiceHand(free=[3, 3, 3], locked=[], score=300): 1,\n",
       "              DiceHand(free=[1, 1, 5], locked=[], score=250): 1,\n",
       "              DiceHand(free=[1, 5, 5], locked=[], score=200): 1}),\n",
       " 4: defaultdict(int,\n",
       "             {DiceHand(free=[1], locked=[], score=100): 125,\n",
       "              DiceHand(free=[1, 5], locked=[], score=150): 57,\n",
       "              DiceHand(free=[5], locked=[], score=50): 107,\n",
       "              DiceHand(free=[5, 5], locked=[], score=100): 28,\n",
       "              DiceHand(free=[1, 3, 3, 3], locked=[], score=400): 1,\n",
       "              DiceHand(free=[3, 3, 3], locked=[], score=300): 4,\n",
       "              DiceHand(free=[1, 1], locked=[], score=200): 22,\n",
       "              None: 30,\n",
       "              DiceHand(free=[2, 2, 2], locked=[], score=200): 2,\n",
       "              DiceHand(free=[6, 6, 6], locked=[], score=600): 4,\n",
       "              DiceHand(free=[1, 1, 1], locked=[], score=300): 5,\n",
       "              DiceHand(free=[1, 1, 1], locked=[], score=1000): 5,\n",
       "              DiceHand(free=[4, 4, 4], locked=[], score=400): 4,\n",
       "              DiceHand(free=[1, 1, 5], locked=[], score=250): 6,\n",
       "              DiceHand(free=[1, 5, 5], locked=[], score=200): 12,\n",
       "              DiceHand(free=[5, 5, 5], locked=[], score=150): 3,\n",
       "              DiceHand(free=[5, 5, 5], locked=[], score=500): 3,\n",
       "              DiceHand(free=[1, 4, 4, 4], locked=[], score=500): 2,\n",
       "              DiceHand(free=[1, 1, 5, 5], locked=[], score=300): 1}),\n",
       " 5: defaultdict(int,\n",
       "             {DiceHand(free=[5], locked=[], score=50): 760,\n",
       "              DiceHand(free=[5, 5], locked=[], score=100): 261,\n",
       "              DiceHand(free=[1], locked=[], score=100): 760,\n",
       "              DiceHand(free=[1, 1], locked=[], score=200): 236,\n",
       "              DiceHand(free=[5, 5, 5], locked=[], score=150): 53,\n",
       "              DiceHand(free=[5, 5, 5], locked=[], score=500): 53,\n",
       "              None: 101,\n",
       "              DiceHand(free=[1, 2, 2, 2], locked=[], score=300): 15,\n",
       "              DiceHand(free=[2, 2, 2], locked=[], score=200): 45,\n",
       "              DiceHand(free=[1, 5], locked=[], score=150): 402,\n",
       "              DiceHand(free=[1, 5, 5], locked=[], score=200): 106,\n",
       "              DiceHand(free=[3, 3, 3], locked=[], score=300): 47,\n",
       "              DiceHand(free=[1, 1, 5], locked=[], score=250): 104,\n",
       "              DiceHand(free=[1, 1, 5, 5], locked=[], score=300): 19,\n",
       "              DiceHand(free=[5, 6, 6, 6], locked=[], score=650): 9,\n",
       "              DiceHand(free=[6, 6, 6], locked=[], score=600): 50,\n",
       "              DiceHand(free=[1, 1, 6, 6, 6], locked=[], score=800): 3,\n",
       "              DiceHand(free=[1, 6, 6, 6], locked=[], score=700): 20,\n",
       "              DiceHand(free=[1, 1, 3, 3, 3], locked=[], score=500): 2,\n",
       "              DiceHand(free=[1, 3, 3, 3], locked=[], score=400): 16,\n",
       "              DiceHand(free=[1, 5, 5, 5], locked=[], score=250): 19,\n",
       "              DiceHand(free=[1, 5, 5, 5], locked=[], score=600): 19,\n",
       "              DiceHand(free=[4, 4, 4, 5], locked=[], score=450): 14,\n",
       "              DiceHand(free=[4, 4, 4], locked=[], score=400): 35,\n",
       "              DiceHand(free=[1, 1, 1], locked=[], score=300): 39,\n",
       "              DiceHand(free=[1, 1, 1], locked=[], score=1000): 39,\n",
       "              DiceHand(free=[2, 2, 2, 5], locked=[], score=250): 12,\n",
       "              DiceHand(free=[3, 3, 3, 5, 5], locked=[], score=400): 1,\n",
       "              DiceHand(free=[3, 3, 3, 5], locked=[], score=350): 14,\n",
       "              DiceHand(free=[1, 2, 2, 2, 5], locked=[], score=350): 2,\n",
       "              DiceHand(free=[1, 3, 3, 3, 5], locked=[], score=450): 4,\n",
       "              DiceHand(free=[5, 5, 5, 5], locked=[], score=200): 6,\n",
       "              DiceHand(free=[5, 5, 5, 5], locked=[], score=550): 6,\n",
       "              DiceHand(free=[1, 1, 5, 5, 5], locked=[], score=350): 2,\n",
       "              DiceHand(free=[1, 1, 5, 5, 5], locked=[], score=700): 2,\n",
       "              DiceHand(free=[1, 4, 4, 4], locked=[], score=500): 11,\n",
       "              DiceHand(free=[1, 1, 1, 5], locked=[], score=350): 5,\n",
       "              DiceHand(free=[1, 1, 1, 5, 5], locked=[], score=400): 1,\n",
       "              DiceHand(free=[1, 1, 1, 5], locked=[], score=1050): 5,\n",
       "              DiceHand(free=[1, 1, 1, 5, 5], locked=[], score=1100): 1,\n",
       "              DiceHand(free=[1, 5, 6, 6, 6], locked=[], score=750): 3,\n",
       "              DiceHand(free=[1, 1, 1, 1], locked=[], score=400): 3,\n",
       "              DiceHand(free=[1, 1, 1, 1], locked=[], score=1100): 3,\n",
       "              DiceHand(free=[1, 1, 2, 2, 2], locked=[], score=400): 2,\n",
       "              DiceHand(free=[5, 5, 6, 6, 6], locked=[], score=700): 1,\n",
       "              DiceHand(free=[1, 4, 4, 4, 5], locked=[], score=550): 2,\n",
       "              DiceHand(free=[2, 2, 2, 5, 5], locked=[], score=300): 1,\n",
       "              DiceHand(free=[1, 1, 4, 4, 4], locked=[], score=600): 1,\n",
       "              DiceHand(free=[4, 4, 4, 5, 5], locked=[], score=500): 1}),\n",
       " 6: defaultdict(int,\n",
       "             {DiceHand(free=[5], locked=[], score=50): 5197,\n",
       "              DiceHand(free=[5, 5], locked=[], score=100): 2094,\n",
       "              DiceHand(free=[3, 3, 3, 5, 5], locked=[], score=400): 43,\n",
       "              DiceHand(free=[3, 3, 3, 5], locked=[], score=350): 202,\n",
       "              DiceHand(free=[3, 3, 3], locked=[], score=300): 458,\n",
       "              DiceHand(free=[1], locked=[], score=100): 5152,\n",
       "              DiceHand(free=[1, 5], locked=[], score=150): 3254,\n",
       "              DiceHand(free=[1, 5, 5], locked=[], score=200): 1132,\n",
       "              DiceHand(free=[1, 1], locked=[], score=200): 2038,\n",
       "              DiceHand(free=[1, 1, 5], locked=[], score=250): 1176,\n",
       "              DiceHand(free=[1, 3, 3, 3, 5], locked=[], score=450): 78,\n",
       "              DiceHand(free=[1, 3, 3, 3], locked=[], score=400): 220,\n",
       "              DiceHand(free=[2, 2, 2, 5], locked=[], score=250): 227,\n",
       "              DiceHand(free=[2, 2, 2], locked=[], score=200): 494,\n",
       "              DiceHand(free=[1, 1, 2, 2, 2], locked=[], score=400): 42,\n",
       "              DiceHand(free=[1, 2, 2, 2], locked=[], score=300): 235,\n",
       "              DiceHand(free=[1, 1, 1], locked=[], score=300): 472,\n",
       "              DiceHand(free=[1, 1, 1, 1], locked=[], score=400): 75,\n",
       "              DiceHand(free=[1, 1, 1, 1, 5], locked=[], score=450): 29,\n",
       "              DiceHand(free=[1, 1, 1, 5], locked=[], score=350): 231,\n",
       "              DiceHand(free=[1, 1, 1, 1, 5], locked=[], score=1150): 29,\n",
       "              DiceHand(free=[1, 1, 1, 1], locked=[], score=1100): 75,\n",
       "              DiceHand(free=[1, 1, 1, 5], locked=[], score=1050): 231,\n",
       "              DiceHand(free=[1, 1, 1], locked=[], score=1000): 472,\n",
       "              DiceHand(free=[6, 6, 6], locked=[], score=600): 487,\n",
       "              None: 243,\n",
       "              DiceHand(free=[1, 1, 5, 5], locked=[], score=300): 313,\n",
       "              DiceHand(free=[1, 1, 1, 6, 6, 6], locked=[], score=900): 1,\n",
       "              DiceHand(free=[1, 1, 6, 6, 6], locked=[], score=800): 38,\n",
       "              DiceHand(free=[1, 6, 6, 6], locked=[], score=700): 207,\n",
       "              DiceHand(free=[1, 1, 1, 6, 6, 6], locked=[], score=1600): 1,\n",
       "              DiceHand(free=[1, 1, 5, 5, 5], locked=[], score=350): 40,\n",
       "              DiceHand(free=[1, 1, 5, 5, 5], locked=[], score=700): 40,\n",
       "              DiceHand(free=[1, 5, 5, 5], locked=[], score=250): 231,\n",
       "              DiceHand(free=[1, 5, 5, 5], locked=[], score=600): 231,\n",
       "              DiceHand(free=[5, 5, 5], locked=[], score=150): 509,\n",
       "              DiceHand(free=[5, 5, 5], locked=[], score=500): 509,\n",
       "              DiceHand(free=[4, 4, 4, 5], locked=[], score=450): 235,\n",
       "              DiceHand(free=[4, 4, 4], locked=[], score=400): 485,\n",
       "              DiceHand(free=[1, 1, 3, 3, 3], locked=[], score=500): 47,\n",
       "              DiceHand(free=[5, 6, 6, 6], locked=[], score=650): 235,\n",
       "              DiceHand(free=[1, 1, 4, 4, 4], locked=[], score=600): 49,\n",
       "              DiceHand(free=[1, 4, 4, 4], locked=[], score=500): 234,\n",
       "              DiceHand(free=[1, 4, 4, 4, 5], locked=[], score=550): 94,\n",
       "              DiceHand(free=[1, 5, 6, 6, 6], locked=[], score=750): 76,\n",
       "              DiceHand(free=[5, 5, 5, 6, 6, 6], locked=[], score=750): 5,\n",
       "              DiceHand(free=[5, 5, 6, 6, 6], locked=[], score=700): 53,\n",
       "              DiceHand(free=[5, 5, 5, 6, 6, 6], locked=[], score=1100): 5,\n",
       "              DiceHand(free=[4, 4, 4, 5, 5], locked=[], score=500): 45,\n",
       "              DiceHand(free=[1, 1, 1, 5, 5], locked=[], score=400): 48,\n",
       "              DiceHand(free=[1, 1, 1, 5, 5], locked=[], score=1100): 48,\n",
       "              DiceHand(free=[1, 1, 4, 4, 4, 5], locked=[], score=650): 18,\n",
       "              DiceHand(free=[1, 2, 2, 2, 5], locked=[], score=350): 86,\n",
       "              DiceHand(free=[2, 2, 2, 5, 5], locked=[], score=300): 44,\n",
       "              DiceHand(free=[1, 1, 1, 1, 5, 5], locked=[], score=500): 3,\n",
       "              DiceHand(free=[1, 1, 1, 1, 5, 5], locked=[], score=1200): 3,\n",
       "              DiceHand(free=[1, 5, 5, 5, 5], locked=[], score=300): 22,\n",
       "              DiceHand(free=[1, 5, 5, 5, 5], locked=[], score=650): 22,\n",
       "              DiceHand(free=[5, 5, 5, 5], locked=[], score=200): 67,\n",
       "              DiceHand(free=[5, 5, 5, 5], locked=[], score=550): 67,\n",
       "              DiceHand(free=[1, 1, 2, 2, 2, 5], locked=[], score=450): 6,\n",
       "              DiceHand(free=[1, 1, 5, 5, 5, 5], locked=[], score=400): 4,\n",
       "              DiceHand(free=[1, 1, 5, 5, 5, 5], locked=[], score=750): 4,\n",
       "              DiceHand(free=[2, 2, 2, 4, 4, 4], locked=[], score=600): 8,\n",
       "              DiceHand(free=[1, 1, 3, 3, 3, 5], locked=[], score=550): 10,\n",
       "              DiceHand(free=[1, 4, 4, 4, 5, 5], locked=[], score=600): 10,\n",
       "              DiceHand(free=[2, 2, 2, 5, 5, 5], locked=[], score=350): 2,\n",
       "              DiceHand(free=[2, 2, 2, 5, 5, 5], locked=[], score=700): 2,\n",
       "              DiceHand(free=[1, 2, 2, 2, 5, 5], locked=[], score=400): 10,\n",
       "              DiceHand(free=[1, 5, 5, 6, 6, 6], locked=[], score=800): 7,\n",
       "              DiceHand(free=[1, 1, 5, 6, 6, 6], locked=[], score=850): 10,\n",
       "              DiceHand(free=[3, 3, 3, 5, 5, 5], locked=[], score=450): 3,\n",
       "              DiceHand(free=[3, 3, 3, 5, 5, 5], locked=[], score=800): 3,\n",
       "              DiceHand(free=[1, 5, 5, 5, 5, 5], locked=[], score=350): 1,\n",
       "              DiceHand(free=[5, 5, 5, 5, 5], locked=[], score=250): 3,\n",
       "              DiceHand(free=[5, 5, 5, 5, 5], locked=[], score=600): 3,\n",
       "              DiceHand(free=[1, 5, 5, 5, 5, 5], locked=[], score=700): 1,\n",
       "              DiceHand(free=[1, 1, 1, 1, 1], locked=[], score=500): 2,\n",
       "              DiceHand(free=[1, 1, 1, 1, 1, 5], locked=[], score=550): 1,\n",
       "              DiceHand(free=[1, 1, 1, 1, 1], locked=[], score=1200): 2,\n",
       "              DiceHand(free=[1, 1, 1, 1, 1, 5], locked=[], score=1250): 1,\n",
       "              DiceHand(free=[1, 1, 1, 5, 5, 5], locked=[], score=450): 2,\n",
       "              DiceHand(free=[1, 1, 1, 5, 5, 5], locked=[], score=800): 2,\n",
       "              DiceHand(free=[1, 1, 1, 5, 5, 5], locked=[], score=1150): 2,\n",
       "              DiceHand(free=[2, 2, 2, 6, 6, 6], locked=[], score=800): 4,\n",
       "              DiceHand(free=[1, 1, 1, 2, 2, 2], locked=[], score=500): 2,\n",
       "              DiceHand(free=[1, 1, 1, 2, 2, 2], locked=[], score=1200): 2,\n",
       "              DiceHand(free=[4, 4, 4, 5, 5, 5], locked=[], score=550): 5,\n",
       "              DiceHand(free=[4, 4, 4, 5, 5, 5], locked=[], score=900): 5,\n",
       "              DiceHand(free=[1, 3, 3, 3, 5, 5], locked=[], score=500): 6,\n",
       "              DiceHand(free=[3, 3, 3, 6, 6, 6], locked=[], score=900): 6,\n",
       "              DiceHand(free=[4, 4, 4, 6, 6, 6], locked=[], score=1000): 5,\n",
       "              DiceHand(free=[1, 1, 1, 4, 4, 4], locked=[], score=700): 2,\n",
       "              DiceHand(free=[1, 1, 1, 4, 4, 4], locked=[], score=1400): 2,\n",
       "              DiceHand(free=[1, 1, 1, 3, 3, 3], locked=[], score=600): 3,\n",
       "              DiceHand(free=[1, 1, 1, 3, 3, 3], locked=[], score=1300): 3,\n",
       "              DiceHand(free=[3, 3, 3, 4, 4, 4], locked=[], score=700): 2})}"
      ]
     },
     "execution_count": 27,
     "metadata": {},
     "output_type": "execute_result"
    }
   ],
   "source": [
    "mcs.possible_score_frequencies"
   ]
  },
  {
   "cell_type": "code",
   "execution_count": null,
   "id": "dabbbbb4-a985-4a0e-89f9-3050d8903669",
   "metadata": {},
   "outputs": [],
   "source": []
  },
  {
   "cell_type": "code",
   "execution_count": null,
   "id": "c46f2352-80f3-4db2-a3c5-e77c738c8a6d",
   "metadata": {},
   "outputs": [],
   "source": []
  },
  {
   "cell_type": "code",
   "execution_count": 102,
   "id": "36e2bd0e-4f61-45d3-ae26-92ca6a7510d2",
   "metadata": {},
   "outputs": [
    {
     "data": {
      "text/plain": [
       "DiceHand(free=[1, 1, 1, 3, 5, 6], locked=[], score=0)"
      ]
     },
     "execution_count": 102,
     "metadata": {},
     "output_type": "execute_result"
    }
   ],
   "source": [
    "mcs.dice_hands[6]"
   ]
  },
  {
   "cell_type": "code",
   "execution_count": 103,
   "id": "f3792a89-dd6c-4067-96fe-62eee56abfe1",
   "metadata": {},
   "outputs": [],
   "source": [
    "for i in range(20):\n",
    "    mcs.roll(6)"
   ]
  },
  {
   "cell_type": "code",
   "execution_count": 104,
   "id": "a89ab89a-e32c-4451-8e78-4e85c43ca7c5",
   "metadata": {},
   "outputs": [
    {
     "data": {
      "text/plain": [
       "{1: defaultdict(int, {}),\n",
       " 2: defaultdict(int, {}),\n",
       " 3: defaultdict(int, {}),\n",
       " 4: defaultdict(int, {}),\n",
       " 5: defaultdict(int, {}),\n",
       " 6: defaultdict(int,\n",
       "             {DiceHand(free=[6, 6, 6], locked=[], score=600): 3,\n",
       "              DiceHand(free=[1], locked=[], score=100): 15,\n",
       "              DiceHand(free=[1, 5], locked=[], score=150): 13,\n",
       "              DiceHand(free=[1, 5, 5], locked=[], score=200): 5,\n",
       "              DiceHand(free=[5], locked=[], score=50): 16,\n",
       "              DiceHand(free=[5, 5], locked=[], score=100): 5,\n",
       "              DiceHand(free=[1, 1], locked=[], score=200): 4,\n",
       "              DiceHand(free=[1, 1, 5], locked=[], score=250): 4,\n",
       "              DiceHand(free=[1, 1, 5, 5], locked=[], score=300): 2,\n",
       "              None: 1,\n",
       "              DiceHand(free=[1, 4, 4, 4], locked=[], score=500): 1,\n",
       "              DiceHand(free=[4, 4, 4], locked=[], score=400): 1,\n",
       "              DiceHand(free=[1, 6, 6, 6], locked=[], score=700): 2,\n",
       "              DiceHand(free=[1, 5, 6, 6, 6], locked=[], score=750): 1,\n",
       "              DiceHand(free=[5, 6, 6, 6], locked=[], score=650): 1,\n",
       "              DiceHand(free=[3, 3, 3, 5], locked=[], score=350): 1,\n",
       "              DiceHand(free=[3, 3, 3], locked=[], score=300): 1})}"
      ]
     },
     "execution_count": 104,
     "metadata": {},
     "output_type": "execute_result"
    }
   ],
   "source": [
    "mcs.possible_score_frequencies"
   ]
  },
  {
   "cell_type": "code",
   "execution_count": 105,
   "id": "95da6c28-f79c-4099-b656-cd2e74cb06c5",
   "metadata": {},
   "outputs": [],
   "source": [
    "h, f = mcs._hash_frequencies"
   ]
  },
  {
   "cell_type": "code",
   "execution_count": 106,
   "id": "15a9a621-e8ef-4b8e-84e4-fec58d17ef2e",
   "metadata": {},
   "outputs": [
    {
     "data": {
      "text/plain": [
       "{'5084703364844673703': DiceHand(free=[6, 6, 6], locked=[], score=600),\n",
       " '7632524756553394483': DiceHand(free=[1], locked=[], score=100),\n",
       " '6209970323174613410': DiceHand(free=[1, 5], locked=[], score=150),\n",
       " '2390374266854751092': DiceHand(free=[1, 5, 5], locked=[], score=200),\n",
       " '6457213122273063421': DiceHand(free=[5], locked=[], score=50),\n",
       " '5353976940633003237': DiceHand(free=[5, 5], locked=[], score=100),\n",
       " '-1809235098275554318': DiceHand(free=[1, 1], locked=[], score=200),\n",
       " '-7810874240232125281': DiceHand(free=[1, 1, 5], locked=[], score=250),\n",
       " '-2902616736069918135': DiceHand(free=[1, 1, 5, 5], locked=[], score=300),\n",
       " '271773578': None,\n",
       " '-1520611015974714827': DiceHand(free=[1, 4, 4, 4], locked=[], score=500),\n",
       " '-5490153455905078781': DiceHand(free=[4, 4, 4], locked=[], score=400),\n",
       " '-176996419478431460': DiceHand(free=[1, 6, 6, 6], locked=[], score=700),\n",
       " '-6971664803686750677': DiceHand(free=[1, 5, 6, 6, 6], locked=[], score=750),\n",
       " '3573966809515336244': DiceHand(free=[5, 6, 6, 6], locked=[], score=650),\n",
       " '-8432349949530499542': DiceHand(free=[3, 3, 3, 5], locked=[], score=350),\n",
       " '-203550692328843228': DiceHand(free=[3, 3, 3], locked=[], score=300)}"
      ]
     },
     "execution_count": 106,
     "metadata": {},
     "output_type": "execute_result"
    }
   ],
   "source": [
    "h"
   ]
  },
  {
   "cell_type": "code",
   "execution_count": 107,
   "id": "670c1a14-1a8c-45c0-a456-33c23dd900c1",
   "metadata": {},
   "outputs": [
    {
     "data": {
      "text/plain": [
       "{1: {},\n",
       " 2: {},\n",
       " 3: {},\n",
       " 4: {},\n",
       " 5: {},\n",
       " 6: {'5084703364844673703': 3,\n",
       "  '7632524756553394483': 15,\n",
       "  '6209970323174613410': 13,\n",
       "  '2390374266854751092': 5,\n",
       "  '6457213122273063421': 16,\n",
       "  '5353976940633003237': 5,\n",
       "  '-1809235098275554318': 4,\n",
       "  '-7810874240232125281': 4,\n",
       "  '-2902616736069918135': 2,\n",
       "  '271773578': 1,\n",
       "  '-1520611015974714827': 1,\n",
       "  '-5490153455905078781': 1,\n",
       "  '-176996419478431460': 2,\n",
       "  '-6971664803686750677': 1,\n",
       "  '3573966809515336244': 1,\n",
       "  '-8432349949530499542': 1,\n",
       "  '-203550692328843228': 1}}"
      ]
     },
     "execution_count": 107,
     "metadata": {},
     "output_type": "execute_result"
    }
   ],
   "source": [
    "f"
   ]
  },
  {
   "cell_type": "code",
   "execution_count": null,
   "id": "0ff5a54c-cd11-44ad-971c-89166bcc0b56",
   "metadata": {},
   "outputs": [],
   "source": []
  },
  {
   "cell_type": "code",
   "execution_count": 108,
   "id": "732ab4ec-8017-4509-bb1d-db4a0411478d",
   "metadata": {},
   "outputs": [
    {
     "data": {
      "text/plain": [
       "'{\"max_dice\": 6, \"roll_obs\": {\"1\": 0, \"2\": 0, \"3\": 0, \"4\": 0, \"5\": 0, \"6\": 20}, \"possible_score_obs\": {\"1\": 0, \"2\": 0, \"3\": 0, \"4\": 0, \"5\": 0, \"6\": 75}, \"hash_to_dh\": {\"5084703364844673703\": {\"__DiceHand__\": true, \"free\": [6, 6, 6], \"locked\": [], \"score\": 600}, \"7632524756553394483\": {\"__DiceHand__\": true, \"free\": [1], \"locked\": [], \"score\": 100}, \"6209970323174613410\": {\"__DiceHand__\": true, \"free\": [1, 5], \"locked\": [], \"score\": 150}, \"2390374266854751092\": {\"__DiceHand__\": true, \"free\": [1, 5, 5], \"locked\": [], \"score\": 200}, \"6457213122273063421\": {\"__DiceHand__\": true, \"free\": [5], \"locked\": [], \"score\": 50}, \"5353976940633003237\": {\"__DiceHand__\": true, \"free\": [5, 5], \"locked\": [], \"score\": 100}, \"-1809235098275554318\": {\"__DiceHand__\": true, \"free\": [1, 1], \"locked\": [], \"score\": 200}, \"-7810874240232125281\": {\"__DiceHand__\": true, \"free\": [1, 1, 5], \"locked\": [], \"score\": 250}, \"-2902616736069918135\": {\"__DiceHand__\": true, \"free\": [1, 1, 5, 5], \"locked\": [], \"score\": 300}, \"271773578\": null, \"-1520611015974714827\": {\"__DiceHand__\": true, \"free\": [1, 4, 4, 4], \"locked\": [], \"score\": 500}, \"-5490153455905078781\": {\"__DiceHand__\": true, \"free\": [4, 4, 4], \"locked\": [], \"score\": 400}, \"-176996419478431460\": {\"__DiceHand__\": true, \"free\": [1, 6, 6, 6], \"locked\": [], \"score\": 700}, \"-6971664803686750677\": {\"__DiceHand__\": true, \"free\": [1, 5, 6, 6, 6], \"locked\": [], \"score\": 750}, \"3573966809515336244\": {\"__DiceHand__\": true, \"free\": [5, 6, 6, 6], \"locked\": [], \"score\": 650}, \"-8432349949530499542\": {\"__DiceHand__\": true, \"free\": [3, 3, 3, 5], \"locked\": [], \"score\": 350}, \"-203550692328843228\": {\"__DiceHand__\": true, \"free\": [3, 3, 3], \"locked\": [], \"score\": 300}}, \"hash_to_freq\": {\"1\": {}, \"2\": {}, \"3\": {}, \"4\": {}, \"5\": {}, \"6\": {\"5084703364844673703\": 3, \"7632524756553394483\": 15, \"6209970323174613410\": 13, \"2390374266854751092\": 5, \"6457213122273063421\": 16, \"5353976940633003237\": 5, \"-1809235098275554318\": 4, \"-7810874240232125281\": 4, \"-2902616736069918135\": 2, \"271773578\": 1, \"-1520611015974714827\": 1, \"-5490153455905078781\": 1, \"-176996419478431460\": 2, \"-6971664803686750677\": 1, \"3573966809515336244\": 1, \"-8432349949530499542\": 1, \"-203550692328843228\": 1}}}'"
      ]
     },
     "execution_count": 108,
     "metadata": {},
     "output_type": "execute_result"
    }
   ],
   "source": [
    "mcs.json_encode"
   ]
  },
  {
   "cell_type": "code",
   "execution_count": 109,
   "id": "e7dfd413-4e75-4fa8-be1f-382260fe4b95",
   "metadata": {},
   "outputs": [],
   "source": [
    "mcs.save('test_export.json')"
   ]
  },
  {
   "cell_type": "code",
   "execution_count": null,
   "id": "c9b5a289-60d4-49a4-9c41-bbd6193a03d7",
   "metadata": {},
   "outputs": [],
   "source": []
  },
  {
   "cell_type": "code",
   "execution_count": 114,
   "id": "985fafb3-5e91-479a-bba3-d38f72e051ab",
   "metadata": {},
   "outputs": [],
   "source": [
    "mcs_loaded = MonteCarloSimulation.load('test_export.json')"
   ]
  },
  {
   "cell_type": "code",
   "execution_count": 117,
   "id": "8cffed24-d817-4630-a89f-3dd75a457fbf",
   "metadata": {},
   "outputs": [
    {
     "data": {
      "text/plain": [
       "{1: {},\n",
       " 2: {},\n",
       " 3: {},\n",
       " 4: {},\n",
       " 5: {},\n",
       " 6: {DiceHand(free=[6, 6, 6], locked=[], score=600): 3,\n",
       "  DiceHand(free=[1], locked=[], score=100): 15,\n",
       "  DiceHand(free=[1, 5], locked=[], score=150): 13,\n",
       "  DiceHand(free=[1, 5, 5], locked=[], score=200): 5,\n",
       "  DiceHand(free=[5], locked=[], score=50): 16,\n",
       "  DiceHand(free=[5, 5], locked=[], score=100): 5,\n",
       "  DiceHand(free=[1, 1], locked=[], score=200): 4,\n",
       "  DiceHand(free=[1, 1, 5], locked=[], score=250): 4,\n",
       "  DiceHand(free=[1, 1, 5, 5], locked=[], score=300): 2,\n",
       "  None: 1,\n",
       "  DiceHand(free=[1, 4, 4, 4], locked=[], score=500): 1,\n",
       "  DiceHand(free=[4, 4, 4], locked=[], score=400): 1,\n",
       "  DiceHand(free=[1, 6, 6, 6], locked=[], score=700): 2,\n",
       "  DiceHand(free=[1, 5, 6, 6, 6], locked=[], score=750): 1,\n",
       "  DiceHand(free=[5, 6, 6, 6], locked=[], score=650): 1,\n",
       "  DiceHand(free=[3, 3, 3, 5], locked=[], score=350): 1,\n",
       "  DiceHand(free=[3, 3, 3], locked=[], score=300): 1}}"
      ]
     },
     "execution_count": 117,
     "metadata": {},
     "output_type": "execute_result"
    }
   ],
   "source": [
    "mcs_loaded.possible_score_frequencies"
   ]
  },
  {
   "cell_type": "code",
   "execution_count": 118,
   "id": "02ba533d-4151-48d1-9365-b040900c1f2c",
   "metadata": {},
   "outputs": [
    {
     "data": {
      "text/plain": [
       "15"
      ]
     },
     "execution_count": 118,
     "metadata": {},
     "output_type": "execute_result"
    }
   ],
   "source": [
    "mcs_loaded.possible_score_frequencies[6][go.DiceHand(1, score=100)]"
   ]
  },
  {
   "cell_type": "code",
   "execution_count": null,
   "id": "b6080142-b7c7-4180-97e8-a5cc83ba70c5",
   "metadata": {},
   "outputs": [],
   "source": []
  },
  {
   "cell_type": "code",
   "execution_count": 22,
   "id": "39dc2e7f-22b3-4f5f-beba-8c5afad7ad76",
   "metadata": {},
   "outputs": [
    {
     "data": {
      "text/plain": [
       "DiceHand(6, 6, 2, 6, 5, 6, score=0)"
      ]
     },
     "execution_count": 22,
     "metadata": {},
     "output_type": "execute_result"
    }
   ],
   "source": [
    "mcs.dice_hands[6]"
   ]
  },
  {
   "cell_type": "code",
   "execution_count": 25,
   "id": "96d2012c-66a7-487a-9652-90706192543b",
   "metadata": {},
   "outputs": [
    {
     "name": "stdout",
     "output_type": "stream",
     "text": [
      "0\n",
      "300\n",
      "600\n",
      "900\n",
      "1200\n",
      "1500\n",
      "1800\n",
      "2100\n",
      "2400\n",
      "2700\n",
      "3000\n",
      "3300\n",
      "3600\n",
      "3900\n",
      "4200\n",
      "4500\n",
      "4800\n",
      "5100\n",
      "5400\n",
      "5700\n",
      "6000\n",
      "6300\n",
      "6600\n",
      "6900\n",
      "7200\n",
      "7500\n",
      "476.1664\n"
     ]
    }
   ],
   "source": [
    "t0 = perf_counter()\n",
    "for i in range(6**5):\n",
    "    if i % 300 == 0:\n",
    "        print(i)\n",
    "    mcs.roll(6)\n",
    "t1 = perf_counter()\n",
    "print(round(t1-t0, 4))"
   ]
  },
  {
   "cell_type": "code",
   "execution_count": 27,
   "id": "2a7ab71a-9343-4801-bc75-d09272358468",
   "metadata": {},
   "outputs": [
    {
     "data": {
      "text/plain": [
       "defaultdict(int,\n",
       "            {DiceHand(1, score=100): 5317,\n",
       "             DiceHand(1, 1, score=200): 2139,\n",
       "             DiceHand(1, 1, 5, score=250): 1176,\n",
       "             DiceHand(1, 5, score=150): 3316,\n",
       "             DiceHand(5, score=50): 5308,\n",
       "             DiceHand(5, 5, score=100): 2111,\n",
       "             DiceHand(5, 5, 5, score=150): 510,\n",
       "             DiceHand(5, 5, 5, score=500): 510,\n",
       "             DiceHand(1, 5, 5, score=200): 1166,\n",
       "             DiceHand(1, 1, 2, 2, 2, 5, score=450): 10,\n",
       "             DiceHand(1, 1, 2, 2, 2, score=400): 46,\n",
       "             DiceHand(1, 2, 2, 2, 5, score=350): 88,\n",
       "             DiceHand(1, 2, 2, 2, score=300): 239,\n",
       "             DiceHand(5, 2, 2, 2, score=250): 233,\n",
       "             DiceHand(2, 2, 2, score=200): 480,\n",
       "             DiceHand(1, 1, 1, score=300): 549,\n",
       "             DiceHand(1, 1, 1, 5, score=350): 240,\n",
       "             DiceHand(5, 1, 1, 1, score=1050): 240,\n",
       "             DiceHand(1, 1, 1, score=1000): 549,\n",
       "             DiceHand(1, 6, 6, 6, score=700): 230,\n",
       "             DiceHand(6, 6, 6, score=600): 488,\n",
       "             DiceHand(1, 3, 3, 3, 5, score=450): 61,\n",
       "             DiceHand(1, 3, 3, 3, score=400): 199,\n",
       "             DiceHand(5, 3, 3, 3, score=350): 210,\n",
       "             DiceHand(3, 3, 3, score=300): 472,\n",
       "             None: 230,\n",
       "             DiceHand(1, 5, 6, 6, 6, score=750): 90,\n",
       "             DiceHand(5, 6, 6, 6, score=650): 240,\n",
       "             DiceHand(1, 5, 5, 5, score=250): 231,\n",
       "             DiceHand(1, 5, 5, 5, score=600): 231,\n",
       "             DiceHand(1, 1, 1, 1, score=400): 72,\n",
       "             DiceHand(1, 1, 1, 1, score=1100): 72,\n",
       "             DiceHand(5, 3, 3, 3, 5, score=400): 37,\n",
       "             DiceHand(5, 4, 4, 4, score=450): 239,\n",
       "             DiceHand(4, 4, 4, score=400): 483,\n",
       "             DiceHand(1, 1, 5, 5, score=300): 342,\n",
       "             DiceHand(1, 1, 3, 3, 3, score=500): 47,\n",
       "             DiceHand(1, 4, 4, 4, 5, score=550): 86,\n",
       "             DiceHand(1, 4, 4, 4, score=500): 217,\n",
       "             DiceHand(1, 1, 5, 5, 5, score=350): 48,\n",
       "             DiceHand(1, 1, 5, 5, 5, score=700): 48,\n",
       "             DiceHand(1, 5, 5, 5, 5, score=300): 22,\n",
       "             DiceHand(1, 5, 5, 5, 5, score=650): 22,\n",
       "             DiceHand(5, 5, 5, 5, score=200): 70,\n",
       "             DiceHand(5, 5, 5, 5, score=550): 70,\n",
       "             DiceHand(5, 4, 4, 4, 5, score=500): 48,\n",
       "             DiceHand(1, 1, 1, 1, 1, score=500): 1,\n",
       "             DiceHand(1, 1, 1, 1, 1, score=1200): 1,\n",
       "             DiceHand(1, 1, 6, 6, 6, score=800): 53,\n",
       "             DiceHand(1, 1, 4, 4, 4, score=600): 49,\n",
       "             DiceHand(1, 3, 3, 3, 5, 5, score=500): 7,\n",
       "             DiceHand(1, 1, 1, 4, 4, 4, score=700): 4,\n",
       "             DiceHand(1, 1, 1, 4, 4, 4, score=1400): 4,\n",
       "             DiceHand(1, 5, 5, 6, 6, 6, score=800): 10,\n",
       "             DiceHand(5, 5, 6, 6, 6, score=700): 46,\n",
       "             DiceHand(1, 2, 2, 2, 5, 5, score=400): 20,\n",
       "             DiceHand(5, 2, 2, 2, 5, score=300): 62,\n",
       "             DiceHand(1, 1, 3, 3, 3, 5, score=550): 4,\n",
       "             DiceHand(1, 1, 1, 1, 5, score=450): 28,\n",
       "             DiceHand(1, 1, 1, 1, 5, 5, score=500): 4,\n",
       "             DiceHand(1, 1, 1, 5, 5, score=400): 53,\n",
       "             DiceHand(1, 1, 1, 1, 5, score=1150): 28,\n",
       "             DiceHand(1, 1, 1, 1, 5, 5, score=1200): 4,\n",
       "             DiceHand(5, 1, 1, 1, 5, score=1100): 53,\n",
       "             DiceHand(3, 3, 3, 6, 6, 6, score=900): 6,\n",
       "             DiceHand(5, 3, 3, 3, 5, 5, score=450): 2,\n",
       "             DiceHand(5, 5, 5, 3, 3, 3, score=800): 2,\n",
       "             DiceHand(2, 2, 2, 4, 4, 4, score=600): 3,\n",
       "             DiceHand(1, 1, 5, 6, 6, 6, score=850): 12,\n",
       "             DiceHand(5, 4, 4, 4, 5, 5, score=550): 3,\n",
       "             DiceHand(5, 5, 5, 4, 4, 4, score=900): 3,\n",
       "             DiceHand(2, 2, 2, 3, 3, 3, score=500): 5,\n",
       "             DiceHand(1, 1, 1, 6, 6, 6, score=900): 2,\n",
       "             DiceHand(1, 1, 1, 6, 6, 6, score=1600): 2,\n",
       "             DiceHand(1, 1, 4, 4, 4, 5, score=650): 8,\n",
       "             DiceHand(1, 4, 4, 4, 5, 5, score=600): 12,\n",
       "             DiceHand(5, 5, 5, 6, 6, 6, score=750): 5,\n",
       "             DiceHand(5, 5, 5, 6, 6, 6, score=1100): 5,\n",
       "             DiceHand(1, 1, 1, 5, 5, 5, score=450): 5,\n",
       "             DiceHand(1, 1, 1, 5, 5, 5, score=800): 5,\n",
       "             DiceHand(5, 1, 1, 1, 5, 5, score=1150): 5,\n",
       "             DiceHand(2, 2, 2, 6, 6, 6, score=800): 3,\n",
       "             DiceHand(4, 4, 4, 6, 6, 6, score=1000): 2,\n",
       "             DiceHand(1, 1, 1, 2, 2, 2, score=500): 1,\n",
       "             DiceHand(1, 1, 1, 2, 2, 2, score=1200): 1,\n",
       "             DiceHand(1, 1, 1, 3, 3, 3, score=600): 3,\n",
       "             DiceHand(1, 1, 1, 3, 3, 3, score=1300): 3,\n",
       "             DiceHand(5, 2, 2, 2, 5, 5, score=350): 2,\n",
       "             DiceHand(5, 5, 5, 2, 2, 2, score=700): 2})"
      ]
     },
     "execution_count": 27,
     "metadata": {},
     "output_type": "execute_result"
    }
   ],
   "source": [
    "mcs.possible_score_frequencies[6]"
   ]
  },
  {
   "cell_type": "code",
   "execution_count": 13,
   "id": "169c981b-6442-4b11-8f82-77570e1dc2e3",
   "metadata": {},
   "outputs": [],
   "source": [
    "mcs.roll(3)"
   ]
  },
  {
   "cell_type": "code",
   "execution_count": 14,
   "id": "2b5458b9-7886-4aa8-8af7-88ab69f9fc19",
   "metadata": {},
   "outputs": [
    {
     "data": {
      "text/plain": [
       "defaultdict(int, {DiceHand(1, score=100): 1})"
      ]
     },
     "execution_count": 14,
     "metadata": {},
     "output_type": "execute_result"
    }
   ],
   "source": [
    "mcs.possible_score_frequencies[3]"
   ]
  },
  {
   "cell_type": "code",
   "execution_count": 15,
   "id": "62ddbd07-5de4-4dfb-a2a6-9fbfe256b2f0",
   "metadata": {},
   "outputs": [],
   "source": [
    "for i in range(4):\n",
    "    mcs.roll(3)"
   ]
  },
  {
   "cell_type": "code",
   "execution_count": 16,
   "id": "1fa60425-7408-4793-a02e-7dd4f5aa9669",
   "metadata": {},
   "outputs": [
    {
     "data": {
      "text/plain": [
       "defaultdict(int,\n",
       "            {DiceHand(1, score=100): 1, DiceHand(5, score=50): 3, None: 1})"
      ]
     },
     "execution_count": 16,
     "metadata": {},
     "output_type": "execute_result"
    }
   ],
   "source": [
    "mcs.possible_score_frequencies[3]"
   ]
  },
  {
   "cell_type": "code",
   "execution_count": null,
   "id": "8b759033-1251-4afb-b9f8-21ffdf8ae8bf",
   "metadata": {},
   "outputs": [],
   "source": []
  },
  {
   "cell_type": "code",
   "execution_count": null,
   "id": "b5ab403d-2709-4b35-8e5c-f7c854dc8437",
   "metadata": {},
   "outputs": [],
   "source": []
  },
  {
   "cell_type": "code",
   "execution_count": null,
   "id": "2af9f97c-abd3-4a36-9408-fe91b072e74d",
   "metadata": {},
   "outputs": [],
   "source": []
  },
  {
   "cell_type": "code",
   "execution_count": null,
   "id": "54ab1c84-8001-4c11-ae72-ff0f5be243c8",
   "metadata": {},
   "outputs": [],
   "source": []
  },
  {
   "cell_type": "code",
   "execution_count": null,
   "id": "8dbdfc84-8acb-47be-9f8f-32e7ec95de81",
   "metadata": {},
   "outputs": [],
   "source": []
  },
  {
   "cell_type": "code",
   "execution_count": null,
   "id": "eb29c28c-aa8a-4f90-8308-43c8ad32a569",
   "metadata": {},
   "outputs": [],
   "source": []
  },
  {
   "cell_type": "code",
   "execution_count": 4,
   "id": "8b092ec9-cadd-47b3-9521-474d1f2c0f76",
   "metadata": {},
   "outputs": [],
   "source": [
    "class MonteCarloDiceHand(go.DiceHand):\n",
    "    def __init__(self, num_dice):\n",
    "        super().__init__(num_dice=num_dice)\n",
    "\n",
    "        self.possible_score_frequencies = defaultdict(int)\n",
    "        self.roll_obs = 0\n",
    "        self.possible_score_obs = 0\n",
    "\n",
    "    def roll(self):\n",
    "        super().roll()\n",
    "        self.roll_obs += 1\n",
    "        # save resulting possible scores if any otherwise None\n",
    "        if self.possible_scores():\n",
    "            for dh in self.possible_scores():\n",
    "                dh: go.DiceHand\n",
    "                self.possible_score_obs += 1\n",
    "                self.possible_score_frequencies[dh] += 1\n",
    "        else:\n",
    "            self.possible_score_frequencies[None] += 1\n",
    "\n",
    "    @property\n",
    "    def E_any_score(self):\n",
    "        return 1 - (self.possible_score_frequencies[None] / self.roll_obs)\n",
    "\n",
    "    @property\n",
    "    def E_score_arithmetic(self):\n",
    "        E_score = 0\n",
    "        for dh, freq in self.possible_score_frequencies.items():\n",
    "            if dh: E_score += dh.score * freq\n",
    "        return (E_score / self.possible_score_obs) * self.E_any_score"
   ]
  },
  {
   "cell_type": "code",
   "execution_count": 5,
   "id": "778bf825-3e7f-45c5-9a23-8029b0df5527",
   "metadata": {},
   "outputs": [],
   "source": [
    "mcdh = MonteCarloDiceHand(3)"
   ]
  },
  {
   "cell_type": "code",
   "execution_count": 6,
   "id": "f2790a4f-c2dc-4fe2-bcbb-5b5eeaefd416",
   "metadata": {},
   "outputs": [
    {
     "data": {
      "text/plain": [
       "DiceHand(4, 4, 4, score=0)"
      ]
     },
     "execution_count": 6,
     "metadata": {},
     "output_type": "execute_result"
    }
   ],
   "source": [
    "mcdh"
   ]
  },
  {
   "cell_type": "code",
   "execution_count": 7,
   "id": "ae18d991-530e-40cb-81a1-e336d71dcb0b",
   "metadata": {},
   "outputs": [],
   "source": [
    "mcdh.roll()"
   ]
  },
  {
   "cell_type": "code",
   "execution_count": 8,
   "id": "7493941b-e978-479f-bb5d-49a9309e5a72",
   "metadata": {},
   "outputs": [
    {
     "data": {
      "text/plain": [
       "DiceHand(1, 2, 2, score=0)"
      ]
     },
     "execution_count": 8,
     "metadata": {},
     "output_type": "execute_result"
    }
   ],
   "source": [
    "mcdh"
   ]
  },
  {
   "cell_type": "code",
   "execution_count": 9,
   "id": "b0fe110c-86bb-4d75-8c58-3dbc4cae403e",
   "metadata": {},
   "outputs": [
    {
     "data": {
      "text/plain": [
       "defaultdict(int, {DiceHand(1, score=100): 1})"
      ]
     },
     "execution_count": 9,
     "metadata": {},
     "output_type": "execute_result"
    }
   ],
   "source": [
    "mcdh.possible_score_frequencies"
   ]
  },
  {
   "cell_type": "code",
   "execution_count": 10,
   "id": "4e9f75ba-2a4c-4336-a454-0dc271bdb322",
   "metadata": {},
   "outputs": [],
   "source": [
    "for i in range(4):\n",
    "    mcdh.roll()"
   ]
  },
  {
   "cell_type": "code",
   "execution_count": 11,
   "id": "1718a7cf-840d-4563-8d20-120ffb7cfef0",
   "metadata": {},
   "outputs": [
    {
     "data": {
      "text/plain": [
       "defaultdict(int,\n",
       "            {DiceHand(1, score=100): 1,\n",
       "             None: 3,\n",
       "             DiceHand(5, score=50): 1,\n",
       "             DiceHand(5, 5, score=100): 1})"
      ]
     },
     "execution_count": 11,
     "metadata": {},
     "output_type": "execute_result"
    }
   ],
   "source": [
    "mcdh.possible_score_frequencies"
   ]
  },
  {
   "cell_type": "code",
   "execution_count": 13,
   "id": "425772f3-ef75-4e3c-bb53-c24d6571a6e2",
   "metadata": {},
   "outputs": [
    {
     "data": {
      "text/plain": [
       "5"
      ]
     },
     "execution_count": 13,
     "metadata": {},
     "output_type": "execute_result"
    }
   ],
   "source": [
    "mcdh.roll_obs"
   ]
  },
  {
   "cell_type": "code",
   "execution_count": 14,
   "id": "1ebc7770-7f60-40af-90fb-d9c1c5258294",
   "metadata": {},
   "outputs": [
    {
     "data": {
      "text/plain": [
       "0.4"
      ]
     },
     "execution_count": 14,
     "metadata": {},
     "output_type": "execute_result"
    }
   ],
   "source": [
    "mcdh.E_any_score"
   ]
  },
  {
   "cell_type": "code",
   "execution_count": 15,
   "id": "4dd421d0-e2d9-4e1d-a7cd-f9c94721e766",
   "metadata": {},
   "outputs": [
    {
     "data": {
      "text/plain": [
       "33.333333333333336"
      ]
     },
     "execution_count": 15,
     "metadata": {},
     "output_type": "execute_result"
    }
   ],
   "source": [
    "mcdh.E_score_arithmetic"
   ]
  },
  {
   "cell_type": "code",
   "execution_count": null,
   "id": "ec78e1ac-30be-4cae-8943-5c413e32b24e",
   "metadata": {},
   "outputs": [],
   "source": []
  },
  {
   "cell_type": "code",
   "execution_count": null,
   "id": "7fccac1e-d975-4bf4-9c44-924a80090d77",
   "metadata": {},
   "outputs": [],
   "source": []
  },
  {
   "cell_type": "code",
   "execution_count": null,
   "id": "1e3d3e40-8b66-4780-874f-84979631b4eb",
   "metadata": {},
   "outputs": [],
   "source": []
  },
  {
   "cell_type": "code",
   "execution_count": null,
   "id": "d58e41b8-3653-4d2f-b729-40d2a674e573",
   "metadata": {},
   "outputs": [],
   "source": []
  },
  {
   "cell_type": "code",
   "execution_count": null,
   "id": "83a3af8b-5b40-45dd-add3-b1e88fd725cf",
   "metadata": {},
   "outputs": [],
   "source": []
  },
  {
   "cell_type": "code",
   "execution_count": null,
   "id": "fbc4da60-eb3c-4ed0-81eb-fbc5135f3906",
   "metadata": {},
   "outputs": [],
   "source": []
  },
  {
   "cell_type": "code",
   "execution_count": null,
   "id": "81ef2fcb-ae59-46c9-874e-846101331299",
   "metadata": {},
   "outputs": [],
   "source": []
  },
  {
   "cell_type": "code",
   "execution_count": null,
   "id": "1f54fda3-4c43-4b63-97c0-3bcbbed1a08b",
   "metadata": {},
   "outputs": [],
   "source": []
  },
  {
   "cell_type": "code",
   "execution_count": null,
   "id": "a7053719-1cce-4227-9fdf-d05bc9f1eb83",
   "metadata": {},
   "outputs": [],
   "source": []
  },
  {
   "cell_type": "code",
   "execution_count": null,
   "id": "a3f962af-aa32-46e3-872f-050e461090dc",
   "metadata": {},
   "outputs": [],
   "source": []
  },
  {
   "cell_type": "code",
   "execution_count": null,
   "id": "f059b710-354d-4dd2-9fc3-e202bad27ec4",
   "metadata": {},
   "outputs": [],
   "source": []
  }
 ],
 "metadata": {
  "kernelspec": {
   "display_name": "my-venv",
   "language": "python",
   "name": "my-venv"
  },
  "language_info": {
   "codemirror_mode": {
    "name": "ipython",
    "version": 3
   },
   "file_extension": ".py",
   "mimetype": "text/x-python",
   "name": "python",
   "nbconvert_exporter": "python",
   "pygments_lexer": "ipython3",
   "version": "3.10.9"
  }
 },
 "nbformat": 4,
 "nbformat_minor": 5
}
