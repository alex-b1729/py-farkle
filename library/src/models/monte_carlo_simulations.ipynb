{
 "cells": [
  {
   "cell_type": "markdown",
   "id": "df9ea608-5f85-445f-a06f-5e7422466775",
   "metadata": {},
   "source": [
    "# Probabilities through monte carlo simulations"
   ]
  },
  {
   "cell_type": "markdown",
   "id": "4084eca0-0af4-4f1e-a876-7545716c0270",
   "metadata": {},
   "source": [
    "Here, rather than training a model to predict the $E[\\text{dice roll score}]$, I just build a monte carlo simulation of a Farkle turn. "
   ]
  },
  {
   "cell_type": "code",
   "execution_count": 1,
   "id": "a866c8c2-3ccd-41f1-b7e0-e55ba0484a05",
   "metadata": {},
   "outputs": [],
   "source": [
    "import sys\n",
    "sys.path.insert(0, '../../src')"
   ]
  },
  {
   "cell_type": "code",
   "execution_count": 2,
   "id": "1501a200-d112-4478-be23-678a24af7992",
   "metadata": {},
   "outputs": [],
   "source": [
    "import random\n",
    "from collections import defaultdict\n",
    "\n",
    "from farkle.logic import gameobjects as go"
   ]
  },
  {
   "cell_type": "code",
   "execution_count": null,
   "id": "9c26ddfd-d746-421c-9dbe-1a9da1f2a2eb",
   "metadata": {},
   "outputs": [],
   "source": []
  },
  {
   "cell_type": "code",
   "execution_count": null,
   "id": "7bac12db-8bd3-4178-9238-a8573e4f194f",
   "metadata": {},
   "outputs": [],
   "source": []
  },
  {
   "cell_type": "code",
   "execution_count": 32,
   "id": "5785be1c-3580-4ade-bd15-814f8a87016a",
   "metadata": {},
   "outputs": [
    {
     "data": {
      "text/plain": [
       "True"
      ]
     },
     "execution_count": 32,
     "metadata": {},
     "output_type": "execute_result"
    }
   ],
   "source": [
    "l = []\n",
    "not l"
   ]
  },
  {
   "cell_type": "code",
   "execution_count": 47,
   "id": "5f1fbbee-d5b0-4624-88d8-2a298ea5a8cf",
   "metadata": {},
   "outputs": [],
   "source": [
    "class ExpectedRollScore():\n",
    "    def __init__(self, num_dice: int):\n",
    "        self.num_dice = num_dice\n",
    "        self.obs = 0\n",
    "        self.possible_score_counts = defaultdict(int)\n",
    "    \n",
    "    def score_frequ(self):\n",
    "        dh: go.DiceHand\n",
    "        sf = {dh: c / self.obs for dh, c in self.possible_score_counts.items()}\n",
    "        return sf\n",
    "    \n",
    "    def count_score(self, dh: go.DiceHand):\n",
    "        assert dh.num_dice <= self.num_dice\n",
    "        self.possible_score_counts[dh] += 1\n",
    "        \n",
    "    def log_dicehand(self, dh: go.DiceHand):\n",
    "        assert len(dh.dice_values_free()) == self.num_dice\n",
    "        self.obs += 1\n",
    "        ps = dh.possible_scores()\n",
    "        if not ps:\n",
    "            self.count_farkle()\n",
    "        else:\n",
    "            for score_hand in ps:\n",
    "                score_hand: go.DiceHand\n",
    "                self.count_score(score_hand)\n",
    "        \n",
    "    def count_farkle(self):\n",
    "        self.obs += 1\n",
    "        self.possible_score_counts['farkle'] += 1\n",
    "        \n",
    "    def expected_score(self, points_at_risk: int = 0) -> int:\n",
    "        dh: go.DiceHand\n",
    "        s = sum([dh.score * prob if dh != 'farkle' \n",
    "                 else -points_at_risk * prob \n",
    "                 for dh, prob in self.score_frequ().items()])\n",
    "        return s\n",
    "        \n",
    "    def __repr__(self):\n",
    "        return f'ExpectedRollScore({self.num_dice})'"
   ]
  },
  {
   "cell_type": "code",
   "execution_count": 39,
   "id": "b8f9c705-540b-4531-927a-83c1ef181345",
   "metadata": {},
   "outputs": [
    {
     "data": {
      "text/plain": [
       "0: 4\n",
       "1: 5\n",
       "2: 6\n",
       "3: 1\n",
       "4: 1\n",
       "5: 3\n",
       "Score: 0"
      ]
     },
     "execution_count": 39,
     "metadata": {},
     "output_type": "execute_result"
    }
   ],
   "source": [
    "dh1 = go.DiceHand()\n",
    "dh1"
   ]
  },
  {
   "cell_type": "code",
   "execution_count": 40,
   "id": "784975dd-71db-4050-9cbf-cf24a26be11f",
   "metadata": {},
   "outputs": [
    {
     "data": {
      "text/plain": [
       "[0: 1\n",
       " Score: 100,\n",
       " 0: 1\n",
       " 1: 1\n",
       " Score: 200,\n",
       " 0: 1\n",
       " 1: 1\n",
       " 2: 5\n",
       " Score: 250,\n",
       " 0: 1\n",
       " 1: 5\n",
       " Score: 150,\n",
       " 0: 5\n",
       " Score: 50]"
      ]
     },
     "execution_count": 40,
     "metadata": {},
     "output_type": "execute_result"
    }
   ],
   "source": [
    "dh1.possible_scores()"
   ]
  },
  {
   "cell_type": "code",
   "execution_count": 48,
   "id": "b1fd1fda-03b9-4e16-b26b-08a31d638e4f",
   "metadata": {},
   "outputs": [],
   "source": [
    "ers = ExpectedRollScore(6)"
   ]
  },
  {
   "cell_type": "code",
   "execution_count": 49,
   "id": "24b77c93-065b-4948-a1b4-889284c14d10",
   "metadata": {},
   "outputs": [],
   "source": [
    "ers.log_dicehand(dh1)"
   ]
  },
  {
   "cell_type": "code",
   "execution_count": 50,
   "id": "c9ea6b6c-499e-4e38-b1ea-52a223f96e4c",
   "metadata": {},
   "outputs": [
    {
     "data": {
      "text/plain": [
       "{0: 1\n",
       " Score: 100: 1.0,\n",
       " 0: 1\n",
       " 1: 1\n",
       " Score: 200: 1.0,\n",
       " 0: 1\n",
       " 1: 1\n",
       " 2: 5\n",
       " Score: 250: 1.0,\n",
       " 0: 1\n",
       " 1: 5\n",
       " Score: 150: 1.0,\n",
       " 0: 5\n",
       " Score: 50: 1.0}"
      ]
     },
     "execution_count": 50,
     "metadata": {},
     "output_type": "execute_result"
    }
   ],
   "source": [
    "ers.score_frequ()"
   ]
  },
  {
   "cell_type": "code",
   "execution_count": 51,
   "id": "d3db0367-a442-4590-afd2-b4c9611ce7c3",
   "metadata": {},
   "outputs": [
    {
     "data": {
      "text/plain": [
       "750.0"
      ]
     },
     "execution_count": 51,
     "metadata": {},
     "output_type": "execute_result"
    }
   ],
   "source": [
    "ers.expected_score()"
   ]
  },
  {
   "cell_type": "code",
   "execution_count": null,
   "id": "1624419a-3004-4e8f-a01b-556d951e6cb7",
   "metadata": {},
   "outputs": [],
   "source": []
  },
  {
   "cell_type": "code",
   "execution_count": null,
   "id": "2845b1f7-a359-40ab-baf0-686e30d5b242",
   "metadata": {},
   "outputs": [],
   "source": []
  },
  {
   "cell_type": "code",
   "execution_count": null,
   "id": "183f9774-e557-4ee5-98cd-379aef86028f",
   "metadata": {},
   "outputs": [],
   "source": []
  },
  {
   "cell_type": "code",
   "execution_count": 24,
   "id": "93b21d2f-883b-4f3b-aa61-130a500d57a8",
   "metadata": {},
   "outputs": [],
   "source": [
    "ers.count_score(dh1)\n",
    "ers.count_score(go.DiceHand(1,1,1, score=1000))\n",
    "ers.count_farkle()\n",
    "ers.count_farkle()\n",
    "ers.score_frequ()\n",
    "\n",
    "ers.expected_score(200)"
   ]
  },
  {
   "cell_type": "code",
   "execution_count": 21,
   "id": "2b112ffb-8327-4614-b395-c9fe3a4ef357",
   "metadata": {},
   "outputs": [],
   "source": [
    "class StatTracker():\n",
    "    def __init__(self):\n",
    "        self.epoch = 0\n",
    "        \n",
    "        self.dice_to_roll_probs = {i+1: ExpectedRollScore(i+1) for i in range(6)}\n",
    "        \n",
    "    def expected_score(self, num_dice: int, points_at_risk: int, depth: int = 5) -> float:\n",
    "        \"\"\"\n",
    "        num_dice: number of dice to roll\n",
    "        points_at_risk: points lost if Farkle\n",
    "        depth: number of recursive calls allowed\n",
    "        \"\"\"\n",
    "        ers = self.dice_to_roll\n",
    "    \n",
    "    @property\n",
    "    def expected_hot_dice_score(self) -> float:\n",
    "        return self.expected_score(num_dice=6)"
   ]
  },
  {
   "cell_type": "code",
   "execution_count": 22,
   "id": "47411722-5d25-4e32-90f0-70ded721d4e3",
   "metadata": {},
   "outputs": [
    {
     "data": {
      "text/plain": [
       "{1: ExpectedRollScore(1),\n",
       " 2: ExpectedRollScore(2),\n",
       " 3: ExpectedRollScore(3),\n",
       " 4: ExpectedRollScore(4),\n",
       " 5: ExpectedRollScore(5),\n",
       " 6: ExpectedRollScore(6)}"
      ]
     },
     "execution_count": 22,
     "metadata": {},
     "output_type": "execute_result"
    }
   ],
   "source": [
    "st = StatTracker()\n",
    "st.dice_to_roll_probs"
   ]
  },
  {
   "cell_type": "code",
   "execution_count": null,
   "id": "81ef2fcb-ae59-46c9-874e-846101331299",
   "metadata": {},
   "outputs": [],
   "source": []
  },
  {
   "cell_type": "code",
   "execution_count": null,
   "id": "1f54fda3-4c43-4b63-97c0-3bcbbed1a08b",
   "metadata": {},
   "outputs": [],
   "source": []
  },
  {
   "cell_type": "code",
   "execution_count": 25,
   "id": "d3123773-1c2d-41a9-b73a-d9bcf310d12c",
   "metadata": {},
   "outputs": [],
   "source": [
    "dh1 = go.DiceHand()"
   ]
  },
  {
   "cell_type": "code",
   "execution_count": 26,
   "id": "bea4f4bf-2307-446e-a9e5-c79710b71128",
   "metadata": {},
   "outputs": [
    {
     "data": {
      "text/plain": [
       "0: 5\n",
       "1: 1\n",
       "2: 1\n",
       "3: 2\n",
       "4: 4\n",
       "5: 3\n",
       "Score: 0"
      ]
     },
     "execution_count": 26,
     "metadata": {},
     "output_type": "execute_result"
    }
   ],
   "source": [
    "dh1"
   ]
  },
  {
   "cell_type": "code",
   "execution_count": 30,
   "id": "874a6751-4b3a-4380-a1b2-1ca35a4298ef",
   "metadata": {},
   "outputs": [
    {
     "name": "stdout",
     "output_type": "stream",
     "text": [
      "<class 'farkle.logic.gameobjects.DiceHand'>\n",
      "0: 1\n",
      "Score: 100\n",
      "<class 'farkle.logic.gameobjects.DiceHand'>\n",
      "0: 1\n",
      "1: 1\n",
      "Score: 200\n",
      "<class 'farkle.logic.gameobjects.DiceHand'>\n",
      "0: 1\n",
      "1: 1\n",
      "2: 5\n",
      "Score: 250\n",
      "<class 'farkle.logic.gameobjects.DiceHand'>\n",
      "0: 1\n",
      "1: 5\n",
      "Score: 150\n",
      "<class 'farkle.logic.gameobjects.DiceHand'>\n",
      "0: 5\n",
      "Score: 50\n"
     ]
    }
   ],
   "source": [
    "for dh in dh1.possible_scores():\n",
    "    print(type(dh))\n",
    "    print(dh)"
   ]
  },
  {
   "cell_type": "code",
   "execution_count": null,
   "id": "04ed2a8f-e004-4377-9855-13aec053dd80",
   "metadata": {},
   "outputs": [],
   "source": []
  },
  {
   "cell_type": "code",
   "execution_count": 31,
   "id": "1fb0df89-a543-4acc-9236-0e65e0385a51",
   "metadata": {},
   "outputs": [
    {
     "name": "stdout",
     "output_type": "stream",
     "text": [
      "0\n",
      "1\n",
      "2\n",
      "3\n",
      "4\n",
      "5\n",
      "0\n",
      "1\n",
      "2\n",
      "3\n",
      "4\n",
      "5\n",
      "0\n",
      "1\n",
      "2\n"
     ]
    }
   ],
   "source": [
    "\n",
    "\n",
    "for i in range(15):\n",
    "    print(i % 6)"
   ]
  },
  {
   "cell_type": "code",
   "execution_count": null,
   "id": "a7053719-1cce-4227-9fdf-d05bc9f1eb83",
   "metadata": {},
   "outputs": [],
   "source": []
  },
  {
   "cell_type": "code",
   "execution_count": null,
   "id": "a3f962af-aa32-46e3-872f-050e461090dc",
   "metadata": {},
   "outputs": [],
   "source": []
  },
  {
   "cell_type": "code",
   "execution_count": null,
   "id": "f059b710-354d-4dd2-9fc3-e202bad27ec4",
   "metadata": {},
   "outputs": [],
   "source": []
  }
 ],
 "metadata": {
  "kernelspec": {
   "display_name": "Python 3",
   "language": "python",
   "name": "python3"
  },
  "language_info": {
   "codemirror_mode": {
    "name": "ipython",
    "version": 3
   },
   "file_extension": ".py",
   "mimetype": "text/x-python",
   "name": "python",
   "nbconvert_exporter": "python",
   "pygments_lexer": "ipython3",
   "version": "3.10.9"
  }
 },
 "nbformat": 4,
 "nbformat_minor": 5
}
