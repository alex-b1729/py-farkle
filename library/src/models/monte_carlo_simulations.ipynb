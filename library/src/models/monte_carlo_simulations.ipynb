{
 "cells": [
  {
   "cell_type": "markdown",
   "id": "df9ea608-5f85-445f-a06f-5e7422466775",
   "metadata": {},
   "source": [
    "# Probabilities through monte carlo simulations"
   ]
  },
  {
   "cell_type": "markdown",
   "id": "4084eca0-0af4-4f1e-a876-7545716c0270",
   "metadata": {},
   "source": [
    "Here, rather than training a model to predict the $E[\\text{dice roll score}]$, I just build a monte carlo simulation of a Farkle turn. "
   ]
  },
  {
   "cell_type": "code",
   "execution_count": 1,
   "id": "a866c8c2-3ccd-41f1-b7e0-e55ba0484a05",
   "metadata": {},
   "outputs": [],
   "source": [
    "import sys\n",
    "sys.path.insert(0, '../../src')"
   ]
  },
  {
   "cell_type": "code",
   "execution_count": 2,
   "id": "1501a200-d112-4478-be23-678a24af7992",
   "metadata": {},
   "outputs": [],
   "source": [
    "import random\n",
    "\n",
    "from farkle.logic import gameobjects as go"
   ]
  },
  {
   "cell_type": "code",
   "execution_count": null,
   "id": "9c26ddfd-d746-421c-9dbe-1a9da1f2a2eb",
   "metadata": {},
   "outputs": [],
   "source": []
  },
  {
   "cell_type": "code",
   "execution_count": 3,
   "id": "a6847f15-8ac9-419a-b564-88583caf0d72",
   "metadata": {},
   "outputs": [
    {
     "data": {
      "text/plain": [
       "['DiceHand',\n",
       " 'Die',\n",
       " 'GameDie',\n",
       " 'GameState',\n",
       " 'NamedTuple',\n",
       " 'RollDecision',\n",
       " 'SCORING_HANDS',\n",
       " 'Turn',\n",
       " '__builtins__',\n",
       " '__cached__',\n",
       " '__doc__',\n",
       " '__file__',\n",
       " '__loader__',\n",
       " '__name__',\n",
       " '__package__',\n",
       " '__spec__',\n",
       " 'cached_property',\n",
       " 'copy',\n",
       " 'dataclass',\n",
       " 'logging',\n",
       " 'random']"
      ]
     },
     "execution_count": 3,
     "metadata": {},
     "output_type": "execute_result"
    }
   ],
   "source": [
    "dir(go)"
   ]
  },
  {
   "cell_type": "code",
   "execution_count": null,
   "id": "8e1d1f4d-9ece-428d-9b89-bdfece10fd8f",
   "metadata": {},
   "outputs": [],
   "source": []
  },
  {
   "cell_type": "code",
   "execution_count": 4,
   "id": "0b27a906-a57d-4617-ab82-99600612935f",
   "metadata": {},
   "outputs": [
    {
     "data": {
      "text/plain": [
       "(0: 1\n",
       " Score: 100,\n",
       " 0: 5\n",
       " Score: 50,\n",
       " 0: 1\n",
       " 1: 1\n",
       " 2: 1\n",
       " Score: 1000,\n",
       " 0: 2\n",
       " 1: 2\n",
       " 2: 2\n",
       " Score: 200,\n",
       " 0: 3\n",
       " 1: 3\n",
       " 2: 3\n",
       " Score: 300,\n",
       " 0: 4\n",
       " 1: 4\n",
       " 2: 4\n",
       " Score: 400,\n",
       " 0: 5\n",
       " 1: 5\n",
       " 2: 5\n",
       " Score: 500,\n",
       " 0: 6\n",
       " 1: 6\n",
       " 2: 6\n",
       " Score: 600)"
      ]
     },
     "execution_count": 4,
     "metadata": {},
     "output_type": "execute_result"
    }
   ],
   "source": [
    "go.SCORING_HANDS"
   ]
  },
  {
   "cell_type": "code",
   "execution_count": 5,
   "id": "70e28de7-542b-40ef-9232-23d0da454a9b",
   "metadata": {},
   "outputs": [],
   "source": [
    "possible_score_frequencies = {}\n",
    "\n",
    "for dice_num in range(6):\n",
    "    dice_num += 1\n",
    "    "
   ]
  },
  {
   "cell_type": "code",
   "execution_count": null,
   "id": "e5bcbb27-d50a-4051-b00a-f275a779c60f",
   "metadata": {},
   "outputs": [],
   "source": []
  },
  {
   "cell_type": "code",
   "execution_count": 6,
   "id": "c5d3ac34-0959-4a7e-a7bf-cb9152ce3ded",
   "metadata": {},
   "outputs": [],
   "source": [
    "dh1 = go.DiceHand(1,2,3)"
   ]
  },
  {
   "cell_type": "code",
   "execution_count": 7,
   "id": "0ddbfc3c-2861-4900-8ee6-042ada8a910a",
   "metadata": {},
   "outputs": [],
   "source": [
    "dh2 = go.DiceHand(5,6, score=100)"
   ]
  },
  {
   "cell_type": "code",
   "execution_count": 8,
   "id": "09eb1bc8-aaa2-4fb8-bc0e-afec023dc16e",
   "metadata": {},
   "outputs": [
    {
     "ename": "TypeError",
     "evalue": "unhashable type: 'DiceHand'",
     "output_type": "error",
     "traceback": [
      "\u001b[0;31m---------------------------------------------------------------------------\u001b[0m",
      "\u001b[0;31mTypeError\u001b[0m                                 Traceback (most recent call last)",
      "Cell \u001b[0;32mIn[8], line 1\u001b[0m\n\u001b[0;32m----> 1\u001b[0m d \u001b[38;5;241m=\u001b[39m {dh1: \u001b[38;5;241m190\u001b[39m, dh2: \u001b[38;5;124m'\u001b[39m\u001b[38;5;124mlololol\u001b[39m\u001b[38;5;124m'\u001b[39m}\n",
      "\u001b[0;31mTypeError\u001b[0m: unhashable type: 'DiceHand'"
     ]
    }
   ],
   "source": [
    "d = {dh1: 190, dh2: 'lololol'}"
   ]
  },
  {
   "cell_type": "code",
   "execution_count": 9,
   "id": "37b6a9e9-63a4-46cf-8a5f-8856218ca8fe",
   "metadata": {},
   "outputs": [
    {
     "data": {
      "text/plain": [
       "0"
      ]
     },
     "execution_count": 9,
     "metadata": {},
     "output_type": "execute_result"
    }
   ],
   "source": [
    "dh1.score"
   ]
  },
  {
   "cell_type": "code",
   "execution_count": 12,
   "id": "81d4d618-8c7f-4954-8b2c-1cd83c88f195",
   "metadata": {},
   "outputs": [
    {
     "data": {
      "text/plain": [
       "True"
      ]
     },
     "execution_count": 12,
     "metadata": {},
     "output_type": "execute_result"
    }
   ],
   "source": [
    "go.DiceHand(1) == go.DiceHand(1,1,1)"
   ]
  },
  {
   "cell_type": "code",
   "execution_count": null,
   "id": "3c30b8a3-ba1b-4c94-9d62-eb4c7503ea77",
   "metadata": {},
   "outputs": [],
   "source": []
  },
  {
   "cell_type": "code",
   "execution_count": 13,
   "id": "dae933d4-f996-4038-a0f2-9a86898f9cda",
   "metadata": {},
   "outputs": [
    {
     "data": {
      "text/plain": [
       "True"
      ]
     },
     "execution_count": 13,
     "metadata": {},
     "output_type": "execute_result"
    }
   ],
   "source": [
    "all([True, True, True])"
   ]
  },
  {
   "cell_type": "code",
   "execution_count": null,
   "id": "975455fb-5f99-4dbc-89b1-f4c288e1c5a7",
   "metadata": {},
   "outputs": [],
   "source": []
  },
  {
   "cell_type": "code",
   "execution_count": null,
   "id": "66d81d8c-4b57-4a8e-98cb-264d87125e49",
   "metadata": {},
   "outputs": [],
   "source": []
  },
  {
   "cell_type": "code",
   "execution_count": null,
   "id": "2b112ffb-8327-4614-b395-c9fe3a4ef357",
   "metadata": {},
   "outputs": [],
   "source": [
    "class ExpectedScoreSimulator():\n",
    "    def __init__(self, num_dice: int):\n",
    "        self.num_dice = num_dice\n",
    "        self.simulation_count = 0\n",
    "        self.observed_score_counts = {}  # {DiceHand: observation_count}\n",
    "        \n",
    "        #\n",
    "        self.observed_score_counts['Farkled'] = 0"
   ]
  },
  {
   "cell_type": "code",
   "execution_count": null,
   "id": "47411722-5d25-4e32-90f0-70ded721d4e3",
   "metadata": {},
   "outputs": [],
   "source": []
  },
  {
   "cell_type": "code",
   "execution_count": null,
   "id": "f059b710-354d-4dd2-9fc3-e202bad27ec4",
   "metadata": {},
   "outputs": [],
   "source": []
  }
 ],
 "metadata": {
  "kernelspec": {
   "display_name": "Python 3",
   "language": "python",
   "name": "python3"
  },
  "language_info": {
   "codemirror_mode": {
    "name": "ipython",
    "version": 3
   },
   "file_extension": ".py",
   "mimetype": "text/x-python",
   "name": "python",
   "nbconvert_exporter": "python",
   "pygments_lexer": "ipython3",
   "version": "3.10.9"
  }
 },
 "nbformat": 4,
 "nbformat_minor": 5
}
